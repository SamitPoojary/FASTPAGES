{
 "cells": [
  {
   "attachments": {},
   "cell_type": "markdown",
   "metadata": {},
   "source": [
    "# Student Hacks - Binary"
   ]
  },
  {
   "attachments": {},
   "cell_type": "markdown",
   "metadata": {},
   "source": [
    "# Why SASS?\n",
    "\n",
    "SASS is an improvement on CSS in that there are methods of abstraction. It is a **preprocessor** language that is **compiled** into CSS, which means that **the SASS code is translated into CSS**, which is what your web browser can read.\n",
    "\n",
    "# SASS vs SCSS\n",
    "As you learn about Sass, you might notice something called Scss. They are basically the same thing except that Scss uses curly braces and semicolons to distinguish between lines. Sass uses indentation and newlines instead.\n",
    "\n",
    "We will be teaching the Scss syntax because it is more commonly used."
   ]
  },
  {
   "attachments": {},
   "cell_type": "markdown",
   "metadata": {},
   "source": [
    "# Getting started\n",
    "\n",
    "A easy way to write SASS and have it preprocessed into CSS is by using a Jekyll powered website, such as GitHub pages or Fastpages.\n",
    "\n",
    "The first step is to clone a GitHub pages repo, such as this [one](https://github.com/lwu1822/sassy_squad).\n",
    "\n",
    "Within the repository, head over to `assets/css/`, and open `style.scss`.\n",
    "\n",
    "This is where you can create your SASS code.\n",
    "\n",
    "To see your CSS-translated SASS code, head over to `_site/assets/css/style.css`\n",
    "\n",
    "Note: You will need to run bundle exec jekyll serve before the _site directory appears.\n",
    "\n",
    "The first few hundred lines are used to style Github's theme. Make sure to scroll to the very bottom to see the SASS code that you wrote, which is in the form of CSS."
   ]
  },
  {
   "attachments": {},
   "cell_type": "markdown",
   "metadata": {},
   "source": [
    "# Nesting\n",
    "\n",
    "- Nesting is a useful feature in SASS that allows you to nest styles within other styles, making it easier to write and organize your code.\n",
    "- In SASS, you can nest selectors inside other selectors to create a hierarchy of styles.\n",
    "- To nest a selector inside another selector, simply write the child selector inside the parent selector.\n",
    "- When you nest a selector, the child selector inherits the properties of the parent selector.\n",
    "- You can also nest properties within a selector to group related properties together.\n",
    "- When you nest properties, the resulting CSS will be grouped together in a logical and organized way.\n",
    "- One thing to keep in mind when using nesting is to avoid nesting too deeply, as this can make your code difficult to read and maintain.\n"
   ]
  },
  {
   "attachments": {},
   "cell_type": "markdown",
   "metadata": {},
   "source": [
    "# Mini-hack\n",
    "\n",
    "Write out the SASS equivalent for the following CSS code:\n",
    "\n",
    "```\n",
    ".a .b {\n",
    "    color: green;\n",
    "}\n",
    "\n",
    ".a .c {\n",
    "    color: blue;\n",
    "}\n",
    "```"
   ]
  },
  {
   "attachments": {},
   "cell_type": "markdown",
   "metadata": {},
   "source": [
    "**Answer**\n",
    "```\n",
    ".a {\n",
    "  .b {\n",
    "    color: green;\n",
    "  }\n",
    "  .c {\n",
    "    color: blue;\n",
    "  }\n",
    "}\n",
    "```"
   ]
  },
  {
   "attachments": {},
   "cell_type": "markdown",
   "metadata": {},
   "source": [
    "# Extend/Inheritance\n",
    "\n",
    "What are some similarities that the buttons share? What are the differences?\n",
    "\n",
    "- The colors, the width, the height, and the pop up feature\n",
    "\n",
    "- In Sass, extend is a way to share a set of CSS properties from one selector to another.\n",
    "- The @extend directive is used to extend one selector to inherit the styles of another selector.\n",
    "- To use @extend, first define a base selector with the properties you want to share, then use @extend to inherit those properties to another selector.\n",
    "- The syntax for @extend is @extend selector;, where selector is the name of the selector you want to extend.\n",
    "- When a selector is extended, it inherits all of the properties of the selector it's extending, and the CSS output will contain only one instance of those properties.\n",
    "- This can help keep your CSS lean and reduce duplication of styles.\n",
    "- It's important to note that @extend is not the same as nesting. Nesting is used to scope CSS rules to a specific context, while @extend is used to inherit properties from one selector to another.\n",
    "- Be cautious when using @extend as it can lead to unexpected styling if not used properly. It's generally recommended to use it sparingly and only in situations where it makes sense."
   ]
  },
  {
   "attachments": {},
   "cell_type": "markdown",
   "metadata": {},
   "source": [
    "# Mixin\n",
    "\n",
    "- Mixins allow you to define a set of CSS rules that can be reused throughout your stylesheet, similar to a function in programming.\n",
    "- Mixins can include properties, values, and even other mixins.\n",
    "- Mixins are defined using the @mixin directive, followed by a name and a block of CSS rules.\n",
    "- Mixins can take arguments, which allow you to customize the values of the properties in the mixin.\n",
    "- Mixins are included in your CSS rules using the @include directive, followed by the name of the mixin.\n",
    "- Mixins can be used to make your stylesheets more modular, reusable, and maintainable, by reducing duplication and promoting consistency.\n",
    "- Mixins can also help you to write more concise and readable CSS code, by abstracting away complex or repetitive styles into simple, named constructs.\n",
    "- Mixins are a powerful feature of Sass, and can help you to create efficient and flexible stylesheets that can be easily customized and adapted as your design evolves."
   ]
  },
  {
   "attachments": {},
   "cell_type": "markdown",
   "metadata": {},
   "source": [
    "# Mini-hack\n",
    "\n",
    "Write out a mixin in SASS that takes in a color and a font size as the parameter. Within the mixin, set the background color and font color to the color parameter, and set the font size to the font size parameter. Then create a selector that calls the mixin, and pass in a color and font size of your choice as the arguments."
   ]
  },
  {
   "attachments": {},
   "cell_type": "markdown",
   "metadata": {},
   "source": [
    "```\n",
    "@mixin my-mixin($color, $font-size) {\n",
    "  background-color: $color;\n",
    "  color: $color;\n",
    "  font-size: $font-size;\n",
    "}\n",
    "\n",
    "// Calling the mixin with a color of red and font size of 20px\n",
    ".my-selector {\n",
    "  @include my-mixin(red, 20px);\n",
    "}\n",
    "```"
   ]
  },
  {
   "attachments": {},
   "cell_type": "markdown",
   "metadata": {},
   "source": [
    "# Function\n",
    "\n",
    "- Functions in SASS have a specific syntax: they begin with the keyword \"@function\", followed by the function name and any parameters in parenthesis.\n",
    "- The function body is defined inside curly braces, where the code is executed and a value is returned using the \"@return\" keyword.\n",
    "- The function in this example takes in three arguments, corresponding to the RGB color values of a given color, and subtracts each value from 255 to get the inverted color.\n",
    "- The resulting color is stored in a variable, which is then returned using the \"@return\" keyword.\n",
    "- To use the function, it must be called by name and any required arguments are passed inside parentheses.\n",
    "- In this example, the \".invert\" class is defined with a background color and text color that are both inverted versions of black and a light gray color, respectively.\n",
    "-The resulting effect is that the background and text colors toggle between light and dark modes when the \"Click me\" button is pressed."
   ]
  },
  {
   "attachments": {},
   "cell_type": "markdown",
   "metadata": {},
   "source": [
    "# Import\n",
    "\n",
    "- You can use import in Sass to split your code into multiple files.\n",
    "- First, create a directory called _sass.\n",
    "- Within that directory, create another Sass file where you can write your code.\n",
    "- Once you're finished with the code, switch back to the main file and import the file with @import \"file-name\".\n",
    "- The import statement should not include the file extension.\n",
    "- Import statements are usually placed at the beginning of the main file.\n",
    "- Importing is useful for organizing code and keeping things maintainable."
   ]
  },
  {
   "attachments": {},
   "cell_type": "markdown",
   "metadata": {},
   "source": [
    "# SASS Hacks\n",
    "\n",
    "1. Take notes and complete the mini-hacks. (0.9) **COMPLETED**\n",
    "\n",
    "2. Complete the [quiz questions](https://lwu1822.github.io/sassy_squad/quizQuestions) and provide your answers in this notebook. (0.9) **COMPLETED**\n",
    "\n",
    "b. A scripting language that has many styling operations\n",
    "\n",
    "a. They are very similar in their function, but their syntax is slightly different\n",
    "\n",
    "c. CSS takes up more bytes\n",
    "\n",
    "b. Syntactically Awesome Style Sheets\n",
    "\n",
    "d. compute\n",
    "\n",
    "b. extend\n",
    "\n",
    "b. Directive\n",
    "\n",
    "\n",
    "3. Use SASS to create something that uses either extend or mixin. (0.9) **See below**\n",
    "\n",
    "4. Extra credit: Research other SASS features and blog about what you learned or add to your SASS project with any extra features not covered in this lesson. More points will be given if both are done."
   ]
  },
  {
   "attachments": {},
   "cell_type": "markdown",
   "metadata": {},
   "source": [
    "Using SASS to create something that uses mixin\n",
    "```\n",
    "@mixin button-style($background-color, $text-color, $font-size) {\n",
    "  background-color: $background-color;\n",
    "  color: $text-color;\n",
    "  font-size: $font-size;\n",
    "  padding: 10px 20px;\n",
    "  border: none;\n",
    "  border-radius: 5px;\n",
    "  cursor: pointer;\n",
    "\n",
    "  &:hover {\n",
    "    background-color: darken($background-color, 10%);\n",
    "  }\n",
    "}\n",
    "\n",
    ".button {\n",
    "  @include button-style(#0077FF, #FFFFFF, 16px);\n",
    "}\n",
    "\n",
    ".secondary-button {\n",
    "  @include button-style(#F44336, #FFFFFF, 14px);\n",
    "}\n",
    "\n",
    "```\n",
    "This code defines a reusable style for buttons using a SASS mixin. The @mixin block defines the style properties for buttons and allows for the use of variables. The button-style mixin takes three arguments - background color, text color, and font size - which are used to dynamically set those properties.\n",
    "\n",
    "The .button and .secondary-button classes are then defined and assigned the button-style mixin using @include. This allows for the styles defined in the mixin to be applied to those classes.\n",
    "\n",
    "In simpler terms, the code allows for the creation of nice-looking buttons with custom colors and font sizes by using the button-style mixin. This makes it easy to apply consistent button styles throughout a project.\n"
   ]
  }
 ],
 "metadata": {
  "language_info": {
   "name": "python"
  },
  "orig_nbformat": 4
 },
 "nbformat": 4,
 "nbformat_minor": 2
}
