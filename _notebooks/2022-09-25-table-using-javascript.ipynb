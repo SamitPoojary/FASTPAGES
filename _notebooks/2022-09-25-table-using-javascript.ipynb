{
 "cells": [
  {
   "cell_type": "markdown",
   "metadata": {},
   "source": [
    "# HTML Fragments and JavaScript Kernel\n",
    "> Outputting a table using Javascript Kernel\n",
    "\n",
    "- title: HTML Fragments + JS Kernel\n",
    "- toc: false\n",
    "- badges: true\n",
    "- categories: [python, jupyter, markdown, javascript]"
   ]
  },
  {
   "cell_type": "code",
   "execution_count": 1,
   "metadata": {},
   "outputs": [
    {
     "name": "stdout",
     "output_type": "stream",
     "text": [
      "Hello everyone!\n"
     ]
    }
   ],
   "source": [
    "function logIt(output) {\n",
    "    console.log(output);\n",
    "}\n",
    "logIt(\"Hello everyone!\");"
   ]
  },
  {
   "cell_type": "code",
   "execution_count": 13,
   "metadata": {},
   "outputs": [
    {
     "name": "stdout",
     "output_type": "stream",
     "text": [
      "test test\n"
     ]
    }
   ],
   "source": [
    "function logt(output) {\n",
    "    console.log(output);\n",
    "}\n",
    "// calls to the function \n",
    "logt(\"test test\");"
   ]
  },
  {
   "cell_type": "code",
   "execution_count": 12,
   "metadata": {},
   "outputs": [
    {
     "data": {
      "text/html": [
       "<div style='display:inline-block;background:black;border: 2px solid grey;box-shadow: 0.8em 0.4em 0.4em grey;'><table><tr><th><mark>Name</mark></th><th><mark>Nationality</mark></th><th><mark>Age</mark></th><th><mark>Role</mark></th></tr><tr><td>Zidane</td><td>France</td><td>50</td><td>Manager</td><tr><tr><td>Kevin de Bruyne</td><td>Belgium</td><td>31</td><td>Player</td><tr><tr><td>Lionel Messi</td><td>Argentina</td><td>35</td><td>Player</td><tr><tr><td>Vinicius Jr.</td><td>Brazil</td><td>22</td><td>Player</td><tr><tr><td>Neymar</td><td>Brazil</td><td>30</td><td>Player</td><tr><tr><td>Haaland</td><td>Norway</td><td>22</td><td>Player</td><tr><tr><td>Sergio Ramos</td><td>Spain</td><td>36</td><td>Player</td><tr></table></div>"
      ]
     },
     "execution_count": 12,
     "metadata": {},
     "output_type": "execute_result"
    }
   ],
   "source": [
    "// define a function to hold data for a Person\n",
    "function Person(name, nationality, age) {\n",
    "    this.name = name;\n",
    "    this.nationality = nationality;\n",
    "    this.age = age;\n",
    "    this.role = \"\";\n",
    "}\n",
    "\n",
    "// define a setter for role in Person data\n",
    "Person.prototype.setRole = function(role) {\n",
    "    this.role = role;\n",
    "}\n",
    "\n",
    "// defines the manager\n",
    "var manager = new Person(\"Zidane\", \"France\", 50);\n",
    "manager.setRole(\"Manager\");\n",
    "\n",
    "// JSON conversion from object to a string\n",
    "Person.prototype.toJSON = function() {\n",
    "    const obj = {name: this.name, nationality: this.nationality, age: this.age, role: this.role};\n",
    "    const json = JSON.stringify(obj);\n",
    "    return json;\n",
    "}\n",
    "\n",
    "// player data\n",
    "var players = [\n",
    "    new Person(\"Kevin de Bruyne\", \"Belgium\", 31),\n",
    "    new Person(\"Lionel Messi\", \"Argentina\", 35),\n",
    "    new Person(\"Vinicius Jr.\", \"Brazil\", 22),\n",
    "    new Person(\"Neymar\", \"Brazil\", 30),\n",
    "    new Person(\"Haaland\", \"Norway\", 22),\n",
    "    new Person(\"Sergio Ramos\", \"Spain\", 36),\n",
    "];\n",
    "\n",
    "function Squad(manager, players){\n",
    "    this.manager = manager;\n",
    "    this.squad = [manager];\n",
    "\n",
    "    this.players = players;\n",
    "    this.players.forEach(player => {player.setRole(\"Player\"); this.squad.push(player); });\n",
    "\n",
    "    this.json = [];\n",
    "    this.squad.forEach(player => this.json.push(player.toJSON()));\n",
    "}\n",
    "\n",
    "var FUT = new Squad(manager, players);\n",
    "\n",
    "Squad.prototype._toHtml = function() {\n",
    "\n",
    "    var style = (\n",
    "        \"display:inline-block;\" +\n",
    "      \"background:black;\" +\n",
    "      \"border: 2px solid grey;\" +\n",
    "      \"box-shadow: 0.8em 0.4em 0.4em grey;\"\n",
    "    );\n",
    "\n",
    "// HTML Body of Table is build as a series of concatenations (+=)\n",
    "var body = \"\";\n",
    "// Heading for Array Columns\n",
    "body += \"<tr>\";\n",
    "body += \"<th><mark>\" + \"Name\" + \"</mark></th>\";\n",
    "body += \"<th><mark>\" + \"Nationality\" + \"</mark></th>\";\n",
    "body += \"<th><mark>\" + \"Age\" + \"</mark></th>\";\n",
    "body += \"<th><mark>\" + \"Role\" + \"</mark></th>\";\n",
    "body += \"</tr>\";\n",
    "// Data of Array, iterate through each row of lakers team\n",
    "for (var row of FUT.squad) {\n",
    "  // tr for each row, a new line\n",
    "  body += \"<tr>\";\n",
    "  // td for each column of data\n",
    "  body += \"<td>\" + row.name + \"</td>\";\n",
    "  body += \"<td>\" + row.nationality + \"</td>\";\n",
    "  body += \"<td>\" + row.age + \"</td>\";\n",
    "  body += \"<td>\" + row.role + \"</td>\";\n",
    "  // tr to end line\n",
    "  body += \"<tr>\";\n",
    "}\n",
    "\n",
    " // Build and HTML fragment of div, table, table body\n",
    "return (\n",
    "  \"<div style='\" + style + \"'>\" +\n",
    "    \"<table>\" +\n",
    "      body +\n",
    "    \"</table>\" +\n",
    "  \"</div>\"\n",
    "  );\n",
    "\n",
    "};\n",
    "\n",
    "// IJavaScript HTML processor receive parameter of defined HTML fragment\n",
    "$$.html(FUT._toHtml());\n",
    "\n"
   ]
  }
 ],
 "metadata": {
  "kernelspec": {
   "display_name": "JavaScript (Node.js)",
   "language": "javascript",
   "name": "javascript"
  },
  "language_info": {
   "file_extension": ".js",
   "mimetype": "application/javascript",
   "name": "javascript",
   "version": "10.13.0"
  },
  "orig_nbformat": 4,
  "vscode": {
   "interpreter": {
    "hash": "40d3a090f54c6569ab1632332b64b2c03c39dcf918b08424e98f38b5ae0af88f"
   }
  }
 },
 "nbformat": 4,
 "nbformat_minor": 2
}
