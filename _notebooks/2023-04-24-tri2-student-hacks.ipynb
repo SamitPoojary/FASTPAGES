{
 "cells": [
  {
   "attachments": {},
   "cell_type": "markdown",
   "metadata": {},
   "source": [
    "# Lesson Hacks Tri 2\n",
    "> Completing all student hacks\n",
    "  \n",
    "- title: Lesson Hacks Tri 2\n",
    "- author: Samit Poojary"
   ]
  }
 ],
 "metadata": {
  "language_info": {
   "name": "python"
  },
  "orig_nbformat": 4
 },
 "nbformat": 4,
 "nbformat_minor": 2
}
