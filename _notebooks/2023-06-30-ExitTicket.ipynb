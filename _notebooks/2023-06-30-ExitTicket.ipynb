{
 "cells": [
  {
   "attachments": {},
   "cell_type": "markdown",
   "metadata": {},
   "source": [
    "# Javascript Exit Ticket\n",
    "> Demonstrating my Javascript Abilities\n",
    "- tags: [python]\n",
    "- comments: true"
   ]
  },
  {
   "attachments": {},
   "cell_type": "markdown",
   "metadata": {},
   "source": [
    "# Creating a sorting function"
   ]
  },
  {
   "cell_type": "code",
   "execution_count": 9,
   "metadata": {},
   "outputs": [
    {
     "data": {
      "text/html": [
       "<html>\n",
       "<body>\n",
       "    <h2>JavaScript Bubble Sort Example</h2>\n",
       "\n",
       "    <!-- Define a form for user input -->\n",
       "    <form id=\"numberForm\">\n",
       "        <input type=\"text\" id=\"numbers\" placeholder=\"Enter numbers, separated by commas\">\n",
       "        <input type=\"submit\" value=\"Sort\">\n",
       "    </form>\n",
       "\n",
       "    <p id=\"demo\"></p>\n",
       "\n",
       "    <script>\n",
       "        // Bubble sort function\n",
       "        function bubbleSort(arr) {\n",
       "            var len = arr.length;\n",
       "            for (var i = 0; i < len; i++) {\n",
       "                for (var j = 0; j < len - i - 1; j++) {\n",
       "                    if (arr[j] > arr[j + 1]) {\n",
       "                        // Swap\n",
       "                        arr[j + 1] = temp;\n",
       "                    }\n",
       "                }\n",
       "            }\n",
       "            return arr;\n",
       "        }\n",
       "\n",
       "        // Form submission event handler\n",
       "        document.getElementById(\"numberForm\").onsubmit = function(event) {\n",
       "            event.preventDefault();\n",
       "\n",
       "            // Parse user input into an array\n",
       "            var arr = document.getElementById(\"numbers\").value.split(',').map(Number);\n",
       "\n",
       "            // Sort the array\n",
       "            var sortedArr = bubbleSort(arr);\n",
       "\n",
       "            // Display the sorted array\n",
       "            document.getElementById(\"demo\").textContent = sortedArr.toString();\n",
       "        }\n",
       "    </script>\n",
       "</body>\n",
       "</html>\n"
      ],
      "text/plain": [
       "<IPython.core.display.HTML object>"
      ]
     },
     "metadata": {},
     "output_type": "display_data"
    }
   ],
   "source": [
    "%%html\n",
    "<html>\n",
    "<body>\n",
    "    <h2>JavaScript Bubble Sort Example</h2>\n",
    "\n",
    "    <!-- Define a form for user input -->\n",
    "    <form id=\"numberForm\">\n",
    "        <input type=\"text\" id=\"numbers\" placeholder=\"Enter numbers, separated by commas\">\n",
    "        <input type=\"submit\" value=\"Sort\">\n",
    "    </form>\n",
    "\n",
    "    <p id=\"demo\"></p>\n",
    "\n",
    "    <script>\n",
    "        // Bubble sort function\n",
    "        function bubbleSort(arr) {\n",
    "            var len = arr.length;\n",
    "            for (var i = 0; i < len; i++) {\n",
    "                for (var j = 0; j < len - i - 1; j++) {\n",
    "                    if (arr[j] > arr[j + 1]) {\n",
    "                        // Swap\n",
    "                        arr[j + 1] = temp;\n",
    "                    }\n",
    "                }\n",
    "            }\n",
    "            return arr;\n",
    "        }\n",
    "\n",
    "        // Form submission event handler\n",
    "        document.getElementById(\"numberForm\").onsubmit = function(event) {\n",
    "            event.preventDefault();\n",
    "\n",
    "            // Parse user input into an array\n",
    "            var arr = document.getElementById(\"numbers\").value.split(',').map(Number);\n",
    "\n",
    "            // Sort the array\n",
    "            var sortedArr = bubbleSort(arr);\n",
    "\n",
    "            // Display the sorted array\n",
    "            document.getElementById(\"demo\").textContent = sortedArr.toString();\n",
    "        }\n",
    "    </script>\n",
    "</body>\n",
    "</html>\n"
   ]
  },
  {
   "attachments": {},
   "cell_type": "markdown",
   "metadata": {},
   "source": [
    "# Trial 1\n",
    "- This was not a success, THe function did not work properly and I needed to continue my work on the fixing the bubble sort.\n",
    "\n",
    "- The code doesn't work because there is no variable temp defined in the bubbleSort function. The line arr[j + 1] = temp; is trying to swap the elements, but the temp variable is missing. "
   ]
  },
  {
   "cell_type": "code",
   "execution_count": 10,
   "metadata": {},
   "outputs": [
    {
     "data": {
      "text/html": [
       "<html>\n",
       "<head>\n",
       "    <title>JavaScript Bubble Sort Demo</title>\n",
       "    <script>\n",
       "        function sortArray() {\n",
       "            var input = document.getElementById(\"inputArray\").value;\n",
       "            var arr = input.split(\",\").map(Number);\n",
       "            \n",
       "            // Bubble Sort Algorithm\n",
       "            var n = arr.length;\n",
       "            for (var i = 0; i < n - 1; i++) {\n",
       "                for (var j = 0; j < n - i - 1; j++) {\n",
       "                    if (arr[j] > arr[j + 1]) {\n",
       "                        // Swap arr[j] and arr[j + 1]\n",
       "                        var temp = arr[j];\n",
       "                        arr[j] = arr[j + 1];\n",
       "                        arr[j + 1] = temp;\n",
       "                    }\n",
       "                }\n",
       "            }\n",
       "            \n",
       "            document.getElementById(\"sortedArray\").innerHTML = arr;\n",
       "        }\n",
       "    </script>\n",
       "</head>\n",
       "<body>\n",
       "    <h1>JavaScript Bubble Sort Demo</h1>\n",
       "    <input type=\"text\" id=\"inputArray\" placeholder=\"Enter comma-separated numbers\" />\n",
       "    <button onclick=\"sortArray()\">Sort</button>\n",
       "    <p id=\"sortedArray\"></p>\n",
       "</body>\n",
       "</html>\n"
      ],
      "text/plain": [
       "<IPython.core.display.HTML object>"
      ]
     },
     "metadata": {},
     "output_type": "display_data"
    }
   ],
   "source": [
    "%%html\n",
    "<html>\n",
    "<head>\n",
    "    <title>JavaScript Bubble Sort Demo</title>\n",
    "    <script>\n",
    "        function sortArray() {\n",
    "            var input = document.getElementById(\"inputArray\").value;\n",
    "            var arr = input.split(\",\").map(Number);\n",
    "            \n",
    "            // Bubble Sort Algorithm\n",
    "            var n = arr.length;\n",
    "            for (var i = 0; i < n - 1; i++) {\n",
    "                for (var j = 0; j < n - i - 1; j++) {\n",
    "                    if (arr[j] > arr[j + 1]) {\n",
    "                        // Swap arr[j] and arr[j + 1]\n",
    "                        var temp = arr[j];\n",
    "                        arr[j] = arr[j + 1];\n",
    "                        arr[j + 1] = temp;\n",
    "                    }\n",
    "                }\n",
    "            }\n",
    "            \n",
    "            document.getElementById(\"sortedArray\").innerHTML = arr;\n",
    "        }\n",
    "    </script>\n",
    "</head>\n",
    "<body>\n",
    "    <h1>JavaScript Bubble Sort Demo</h1>\n",
    "    <input type=\"text\" id=\"inputArray\" placeholder=\"Enter comma-separated numbers\" />\n",
    "    <button onclick=\"sortArray()\">Sort</button>\n",
    "    <p id=\"sortedArray\"></p>\n",
    "</body>\n",
    "</html>\n"
   ]
  },
  {
   "attachments": {},
   "cell_type": "markdown",
   "metadata": {},
   "source": [
    "# Bubble sort explanation\n",
    "```javascript\n",
    "\n",
    "// Bubble Sort Algorithm\n",
    "var n = arr.length;\n",
    "for (var i = 0; i < n - 1; i++) {\n",
    "    for (var j = 0; j < n - i - 1; j++) {\n",
    "        if (arr[j] > arr[j + 1]) {\n",
    "            // Swap arr[j] and arr[j + 1]\n",
    "            var temp = arr[j];\n",
    "            arr[j] = arr[j + 1];\n",
    "            arr[j + 1] = temp;\n",
    "        }\n",
    "    }\n",
    "}\n",
    "```\n",
    "\n",
    "- The bubble sort algorithm is a simple comparison-based sorting algorithm that repeatedly steps through the list, compares adjacent elements, and swaps them if they are in the wrong order. This process is repeated until the entire list is sorted.\n",
    "- The outer loop controls the number of iterations and runs from 0 to n - 1, where n is the length of the array.\n",
    "- The inner loop performs comparisons and swaps, running from 0 to n - i - 1, where i is the current iteration of the outer loop.\n",
    "- Inside the inner loop, adjacent elements are compared, and if they are out of order, they are swapped.\n",
    "- The swapping process continues until the array is fully sorted."
   ]
  },
  {
   "attachments": {},
   "cell_type": "markdown",
   "metadata": {},
   "source": [
    "# HTML Explanation\n",
    "```html\n",
    "\n",
    "<body>\n",
    "    <h1>JavaScript Bubble Sort Demo</h1>\n",
    "    <input type=\"text\" id=\"inputArray\" placeholder=\"Enter comma-separated numbers\" />\n",
    "    <button onclick=\"sortArray()\">Sort</button>\n",
    "    <p id=\"sortedArray\"></p>\n",
    "</body>\n",
    "```\n",
    "- uses simple html and input boxes to take in the input, uses onclick to integrate the javascript funcction that ustilizes bubble sort"
   ]
  },
  {
   "attachments": {},
   "cell_type": "markdown",
   "metadata": {},
   "source": [
    "## Getters and Setters Understanding"
   ]
  },
  {
   "cell_type": "code",
   "execution_count": 5,
   "metadata": {},
   "outputs": [
    {
     "data": {
      "application/javascript": "console.log(\"Store object\");\n\nclass Product {\n  constructor(name, id, price, category=\"Misc\") {\n    this.name = name;\n    this.id = id;\n    this.price = price;\n    this.category = category;\n  }\n\n  setCategory(category) {\n    this.category = category;\n  }\n\n  getJSON() {\n    const obj = {type: typeof this, name: this.name, id: this.id, price: this.price, category: this.category};\n    const json = JSON.stringify(obj);\n    return json;\n  }\n\n  logIt() {\n    console.info(this);\n    element.append(\"Product json <br>\");\n    element.append(this.getJSON() + \"<br>\");  \n  }\n}\n\nclass Store {\n  constructor(manager, products) {\n    this.manager = manager;\n    this.products = products;\n    this.store = [manager, ...products];\n    this.json = '{\"store\":[' + this.store.map(product => product.getJSON()) + ']}';\n  }\n\n  logIt() {\n    console.log(this);\n    element.append(\"Store object in JSON<br>\");\n    element.append(this.json + \"<br>\");  \n  }\n}\n\nfunction constructStore() {\n    const manager = new Product(\"Mr M\", \"mgr01\", 0, \"Manager\");\n\n    const products = [ \n        new Product(\"Apple\", \"prd01\", 1.99, \"Fruits\"),\n        new Product(\"Banana\", \"prd02\", 0.99, \"Fruits\"),\n        new Product(\"Tomato\", \"prd03\", 2.99, \"Vegetables\"),\n        new Product(\"Potato\", \"prd04\", 1.49, \"Vegetables\"),\n        new Product(\"Milk\", \"prd05\", 3.49, \"Dairy\"),\n        new Product(\"Cheese\", \"prd06\", 4.99, \"Dairy\")\n    ];\n\n    return new Store(manager, products);\n}\n\nconst store = constructStore();\nstore.logIt();\n$('#jsonText').text(store.json);\n",
      "text/plain": [
       "<IPython.core.display.Javascript object>"
      ]
     },
     "metadata": {},
     "output_type": "display_data"
    }
   ],
   "source": [
    "%%js\n",
    "console.log(\"Store object\");\n",
    "\n",
    "class Product {\n",
    "  constructor(name, id, price, category=\"Misc\") {\n",
    "    this.name = name;\n",
    "    this.id = id;\n",
    "    this.price = price;\n",
    "    this.category = category;\n",
    "  }\n",
    "\n",
    "  setCategory(category) {\n",
    "    this.category = category;\n",
    "  }\n",
    "\n",
    "  getJSON() {\n",
    "    const obj = {type: typeof this, name: this.name, id: this.id, price: this.price, category: this.category};\n",
    "    const json = JSON.stringify(obj);\n",
    "    return json;\n",
    "  }\n",
    "\n",
    "  logIt() {\n",
    "    console.info(this);\n",
    "    element.append(\"Product json <br>\");\n",
    "    element.append(this.getJSON() + \"<br>\");  \n",
    "  }\n",
    "}\n",
    "\n",
    "class Store {\n",
    "  constructor(manager, products) {\n",
    "    this.manager = manager;\n",
    "    this.products = products;\n",
    "    this.store = [manager, ...products];\n",
    "    this.json = '{\"store\":[' + this.store.map(product => product.getJSON()) + ']}';\n",
    "  }\n",
    "\n",
    "  logIt() {\n",
    "    console.log(this);\n",
    "    element.append(\"Store object in JSON<br>\");\n",
    "    element.append(this.json + \"<br>\");  \n",
    "  }\n",
    "}\n",
    "\n",
    "function constructStore() {\n",
    "    const manager = new Product(\"Mr M\", \"mgr01\", 0, \"Manager\");\n",
    "\n",
    "    const products = [ \n",
    "        new Product(\"Apple\", \"prd01\", 1.99, \"Fruits\"),\n",
    "        new Product(\"Banana\", \"prd02\", 0.99, \"Fruits\"),\n",
    "        new Product(\"Tomato\", \"prd03\", 2.99, \"Vegetables\"),\n",
    "        new Product(\"Potato\", \"prd04\", 1.49, \"Vegetables\"),\n",
    "        new Product(\"Milk\", \"prd05\", 3.49, \"Dairy\"),\n",
    "        new Product(\"Cheese\", \"prd06\", 4.99, \"Dairy\")\n",
    "    ];\n",
    "\n",
    "    return new Store(manager, products);\n",
    "}\n",
    "\n",
    "const store = constructStore();\n",
    "store.logIt();\n",
    "$('#jsonText').text(store.json);\n"
   ]
  },
  {
   "attachments": {},
   "cell_type": "markdown",
   "metadata": {},
   "source": [
    "This code is written in JavaScript and defines two classes, Product and Store. The Product class represents a product with properties like name, id, price, and category. \n",
    "\n",
    "It has methods to set the category and convert the object to JSON format. The Store class represents a store with a manager and a list of products. It has a method to convert the store object to JSON format and print it. \n",
    "\n",
    "The code also creates an instance of the Store class, constructs a store object with a manager and a list of products, and logs the store object and its JSON representation to the console. Finally, it sets the JSON representation of the store as the text content of an HTML element with the ID jsonText."
   ]
  },
  {
   "attachments": {},
   "cell_type": "markdown",
   "metadata": {},
   "source": [
    "# Explanation \n",
    "```javascript\n",
    "constructor(name, id, price, category=\"Misc\") {\n",
    "    this.name = name;\n",
    "    this.id = id;\n",
    "    this.price = price;\n",
    "    this.category = category;\n",
    "  }\n",
    "```\n",
    "- Constructor: This is a special method for creating and initializing an object created with a class. There can only be one special method with the name \"constructor\" in a class. A constructor can use the super keyword to call the constructor of the super class.\n",
    "\n",
    "```javascript\n",
    "setCategory(category) {\n",
    "    this.category = category;\n",
    "  }\n",
    "\n",
    "  getJSON() {\n",
    "    const obj = {type: typeof this, name: this.name, id: this.id, price: this.price, category: this.category};\n",
    "    const json = JSON.stringify(obj);\n",
    "    return json;\n",
    "  }\n",
    "```\n",
    "- Getter and Setter Methods: JavaScript Getters and Setters are used to effectively protect your data, particularly when creating classes. The getter method returns the value of the variable to which it is bound. The setter method sets the value of the variable.\n"
   ]
  }
 ],
 "metadata": {
  "kernelspec": {
   "display_name": "Python 3 (ipykernel)",
   "language": "python",
   "name": "python3"
  },
  "language_info": {
   "codemirror_mode": {
    "name": "ipython",
    "version": 3
   },
   "file_extension": ".py",
   "mimetype": "text/x-python",
   "name": "python",
   "nbconvert_exporter": "python",
   "pygments_lexer": "ipython3",
   "version": "3.9.12"
  }
 },
 "nbformat": 4,
 "nbformat_minor": 2
}
