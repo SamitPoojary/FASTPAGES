{
 "cells": [
  {
   "attachments": {},
   "cell_type": "markdown",
   "metadata": {},
   "source": [
    "#  Unit 2.4b Using Programs with Data, SQL\n",
    "> Using Programs with Data is focused on SQL and database actions.  Part B focuses on learning SQL commands, connections, and curses using an Imperative programming style,\n",
    "- toc: true\n",
    "- image: /images/python.png\n",
    "- categories: []\n",
    "- type: ap\n",
    "- week: 26"
   ]
  },
  {
   "attachments": {},
   "cell_type": "markdown",
   "metadata": {},
   "source": [
    "# Database Programming is Program with Data\n",
    "> Each Tri 2 Final Project should be an example of a Program with Data. \n",
    "\n",
    ">  Prepare to use SQLite in common Imperative Technique\n",
    "- Explore [SQLite Connect object](https://www.tutorialspoint.com/python_data_access/python_sqlite_establishing_connection.htm) to establish database connection\n",
    "- Explore [SQLite Cursor Object](https://www.tutorialspoint.com/python_data_access/python_sqlite_cursor_object.htm) to fetch data from a table within a database\n"
   ]
  },
  {
   "attachments": {},
   "cell_type": "markdown",
   "metadata": {},
   "source": [
    "## Schema of Users table in Sqlite.db\n",
    "> Uses PRAGMA statement to read schema.\n",
    "\n",
    "Describe Schema, here is resource [Resource](https://www.sqlite.org/index.html)\n",
    "- What is a database schema?\n",
    "**A database schema is a blueprint or a logical representation of the entire database. It defines how the data is organized, how the tables relate to each other, and what constraints are placed on the data. A database schema is essential for ensuring data consistency, accuracy, and security.**\n",
    "- What is the purpose of identity Column in SQL database?\n",
    "**In SQL databases, an identity column is a column that is used to automatically generate a unique value for each row in a table. It is often used as a primary key or as a surrogate key to uniquely identify each row in the table. The values of an identity column are generated automatically by the database management system (DBMS), typically using a sequence or an auto-incrementing integer.**\n",
    "- What is the purpose of a primary key in SQL database?\n",
    "**In SQL databases, a primary key is a column or a set of columns that uniquely identifies each row in a table. The primary key is used to enforce data integrity by ensuring that no two rows in the table have the same values for the primary key. The primary key is also used to create relationships between tables, such as foreign key constraints.**\n",
    "- What are the Data Types in SQL table?\n",
    "**Could be a couploe: integer, boolean, blob, etc.**"
   ]
  },
  {
   "cell_type": "code",
   "execution_count": 1,
   "metadata": {},
   "outputs": [
    {
     "name": "stdout",
     "output_type": "stream",
     "text": [
      "(0, 'id', 'INTEGER', 1, None, 1)\n",
      "(1, '_name', 'VARCHAR(255)', 1, None, 0)\n",
      "(2, '_uid', 'VARCHAR(255)', 1, None, 0)\n",
      "(3, '_password', 'VARCHAR(255)', 1, None, 0)\n",
      "(4, '_dob', 'DATE', 0, None, 0)\n"
     ]
    }
   ],
   "source": [
    "import sqlite3\n",
    "\n",
    "database = 'instance/sqlite.db' # this is location of database\n",
    "\n",
    "def schema():\n",
    "    \n",
    "    # Connect to the database file\n",
    "    conn = sqlite3.connect(database)\n",
    "\n",
    "    # Create a cursor object to execute SQL queries\n",
    "    cursor = conn.cursor()\n",
    "    \n",
    "    # Fetch results of Schema\n",
    "    results = cursor.execute(\"PRAGMA table_info('users')\").fetchall()\n",
    "\n",
    "    # Print the results\n",
    "    for row in results:\n",
    "        print(row)\n",
    "\n",
    "    # Close the database connection\n",
    "    conn.close()\n",
    "    \n",
    "schema()\n"
   ]
  },
  {
   "attachments": {},
   "cell_type": "markdown",
   "metadata": {},
   "source": [
    "## Reading Users table in Sqlite.db\n",
    "> Uses SQL SELECT statement to read data\n",
    "\n",
    "- What is a connection object?  After you google it, what do you think it does?\n",
    "    - an object that represents a connection to a database. After searching, I found that it is a Python object that is returned by a database driver when a connection to the database is established. It is used to execute queries and commands against the database, and also provides access to transaction management and other features.\n",
    "- Same for cursor object?\n",
    "    - an object used to interact with a database by executing SQL queries and fetching the results. After searching, I found that it is created from a connection object and is used to execute SQL statements against the database. It provides methods to fetch results, iterate over result sets, and access metadata about the query.\n",
    "- Look at conn object and cursor object in VSCode debugger.  What attributes are in the object?\n",
    "    - The attributes of a connection object and a cursor object can vary depending on the specific database and driver being used. In general, however, a connection object may have attributes such as the connection string, the database name, the server hostname and port, the username and password used to authenticate, and the transaction isolation level. A cursor object may have attributes such as the SQL statement being executed, the number of rows affected by the last operation, and the result set being returned.\n",
    "- Is \"results\" an object?  How do you know?\n",
    "    - \"results\" is likely not an object itself, but rather a variable or data structure that contains the results of a query executed using a cursor object. Depending on the specific database and driver being used, the results may be returned as a list of tuples, a pandas DataFrame, or some other data structure. To know for sure, we would need to inspect the code or documentation that defines the \"results\" variable."
   ]
  },
  {
   "cell_type": "code",
   "execution_count": 11,
   "metadata": {},
   "outputs": [
    {
     "name": "stdout",
     "output_type": "stream",
     "text": [
      "(1, 'Thomas Edison', 'toby', 'sha256$MZmvaHa26zCiPPup$ae6e47e885fb870d583c8533c1a5cdf564de4327b867da16dcf1d08e67858acf', '1847-02-11')\n",
      "(2, 'Nikola Tesla', 'niko', 'sha256$fVW3mhvQeLbOUE25$3d4a9e6edd5a67802ddadb5a8ce5bee8a8bcec8844a96e338896d2a666857d9e', '2023-03-19')\n",
      "(3, 'Alexander Graham Bell', 'lex', 'sha256$10ttgzB02pPIjwid$3ba3c38543549297ec0f0a6afb62affa7553b59fb89d02c00a8d22338586cf2d', '2023-03-19')\n",
      "(4, 'Eli Whitney', 'whit', 'sha256$CJ0X4P6aPsR0fDY9$e3e69cd2f3989444e91fcb979fa99674fc5f610c9eb49c4bd791aa791f313238', '2023-03-19')\n",
      "(6, 'Marion Ravenwood', 'raven', 'beast', '1921-10-21')\n",
      "(7, 'jvo', 'crenshaw sheisty', 'theta', '2006-01-26')\n"
     ]
    }
   ],
   "source": [
    "import sqlite3\n",
    "\n",
    "def read():\n",
    "    # Connect to the database file\n",
    "    conn = sqlite3.connect(database)\n",
    "\n",
    "    # Create a cursor object to execute SQL queries\n",
    "    cursor = conn.cursor()\n",
    "    \n",
    "    # Execute a SELECT statement to retrieve data from a table\n",
    "    results = cursor.execute('SELECT * FROM users').fetchall()\n",
    "\n",
    "    # Print the results\n",
    "    if len(results) == 0:\n",
    "        print(\"Table is empty\")\n",
    "    else:\n",
    "        for row in results:\n",
    "            print(row)\n",
    "\n",
    "    # Close the cursor and connection objects\n",
    "    cursor.close()\n",
    "    conn.close()\n",
    "    \n",
    "read()\n"
   ]
  },
  {
   "attachments": {},
   "cell_type": "markdown",
   "metadata": {},
   "source": [
    "## Create a new User in table in Sqlite.db\n",
    "> Uses SQL INSERT to add row\n",
    "-  Compore create() in both SQL lessons.  What is better or worse in the two implementations?\n",
    "-  Explain purpose of SQL INSERT.   Is this the same as User __init__?"
   ]
  },
  {
   "cell_type": "code",
   "execution_count": 4,
   "metadata": {},
   "outputs": [],
   "source": [
    "import sqlite3\n",
    "\n",
    "def create():\n",
    "    name = input(\"Enter your name:\")\n",
    "    uid = input(\"Enter your user id:\")\n",
    "    password = input(\"Enter your password\")\n",
    "    dob = input(\"Enter your date of birth 'YYYY-MM-DD'\")\n",
    "    \n",
    "    # Connect to the database file\n",
    "    conn = sqlite3.connect(database)\n",
    "\n",
    "    # Create a cursor object to execute SQL commands\n",
    "    cursor = conn.cursor()\n",
    "\n",
    "    try:\n",
    "        # Execute an SQL command to insert data into a table\n",
    "        cursor.execute(\"INSERT INTO users (_name, _uid, _password, _dob) VALUES (?, ?, ?, ?)\", (name, uid, password, dob))\n",
    "        \n",
    "        # Commit the changes to the database\n",
    "        conn.commit()\n",
    "        print(f\"A new user record {uid} has been created\")\n",
    "                \n",
    "    except sqlite3.Error as error:\n",
    "        print(\"Error while executing the INSERT:\", error)\n",
    "\n",
    "\n",
    "    # Close the cursor and connection objects\n",
    "    cursor.close()\n",
    "    conn.close()\n",
    "    \n",
    "#create()"
   ]
  },
  {
   "attachments": {},
   "cell_type": "markdown",
   "metadata": {},
   "source": [
    "## Updating a User in table in Sqlite.db\n",
    "> Uses SQL UPDATE to modify password\n",
    "- What does the hacked part do?\n",
    "    - Without more context, it's difficult to say what the \"hacked part\" refers to. Please provide more information or context so that I can answer your question more accurately.\n",
    "- Explain try/except, when would except occur?\n",
    "    - try/except is a control flow structure used in Python to handle exceptions that may occur during program execution. The try block contains code that may raise an exception, while the except block contains code that will be executed if an exception is raised. The purpose of using try/except is to provide a way to gracefully handle errors and prevent the program from crashing or exiting unexpectedly. The except block will occur when an exception is raised within the try block.\n",
    "- What code seems to be repeated in each of these examples to point, why is it repeated?\n",
    "    - It appears that the code repeated in each of these examples is the conn.cursor() method call. This is because a cursor object is required in order to execute SQL queries against the database. By creating a new cursor object for each query, the code is able to execute multiple queries against the database without overwriting the results of previous queries. Additionally, creating a new cursor object can help ensure that each query is executed in a new transaction, which can be useful for maintaining consistency and isolation in the data."
   ]
  },
  {
   "cell_type": "code",
   "execution_count": 13,
   "metadata": {},
   "outputs": [
    {
     "name": "stdout",
     "output_type": "stream",
     "text": [
      "(1, 'Thomas Edison', 'toby', 'sha256$MZmvaHa26zCiPPup$ae6e47e885fb870d583c8533c1a5cdf564de4327b867da16dcf1d08e67858acf', '1847-02-11')\n",
      "(2, 'Nikola Tesla', 'niko', 'sha256$fVW3mhvQeLbOUE25$3d4a9e6edd5a67802ddadb5a8ce5bee8a8bcec8844a96e338896d2a666857d9e', '2023-03-19')\n",
      "(3, 'Alexander Graham Bell', 'lex', 'sha256$10ttgzB02pPIjwid$3ba3c38543549297ec0f0a6afb62affa7553b59fb89d02c00a8d22338586cf2d', '2023-03-19')\n",
      "(4, 'Eli Whitney', 'whit', 'sha256$CJ0X4P6aPsR0fDY9$e3e69cd2f3989444e91fcb979fa99674fc5f610c9eb49c4bd791aa791f313238', '2023-03-19')\n",
      "(6, 'Marion Ravenwood', 'raven', 'beast', '1921-10-21')\n",
      "(7, 'jvo', 'crenshaw sheisty', 'theta', '2006-01-26')\n",
      "The row with user id toby the password has been successfully updated\n",
      "(1, 'Thomas Edison', 'toby', 'yay', '1847-02-11')\n",
      "(2, 'Nikola Tesla', 'niko', 'sha256$fVW3mhvQeLbOUE25$3d4a9e6edd5a67802ddadb5a8ce5bee8a8bcec8844a96e338896d2a666857d9e', '2023-03-19')\n",
      "(3, 'Alexander Graham Bell', 'lex', 'sha256$10ttgzB02pPIjwid$3ba3c38543549297ec0f0a6afb62affa7553b59fb89d02c00a8d22338586cf2d', '2023-03-19')\n",
      "(4, 'Eli Whitney', 'whit', 'sha256$CJ0X4P6aPsR0fDY9$e3e69cd2f3989444e91fcb979fa99674fc5f610c9eb49c4bd791aa791f313238', '2023-03-19')\n",
      "(6, 'Marion Ravenwood', 'raven', 'beast', '1921-10-21')\n",
      "(7, 'jvo', 'crenshaw sheisty', 'theta', '2006-01-26')\n"
     ]
    }
   ],
   "source": [
    "import sqlite3\n",
    "\n",
    "def update():\n",
    "    uid = input(\"Enter user id to update\")\n",
    "    password = input(\"Enter updated password\")\n",
    "    if len(password) < 2:\n",
    "        message = \"hacked\"\n",
    "        password = 'gothackednewpassword123'\n",
    "    else:\n",
    "        message = \"successfully updated\"\n",
    "\n",
    "    # Connect to the database file\n",
    "    conn = sqlite3.connect(database)\n",
    "\n",
    "    # Create a cursor object to execute SQL commands\n",
    "    cursor = conn.cursor()\n",
    "\n",
    "    try:\n",
    "        # Execute an SQL command to update data in a table\n",
    "        cursor.execute(\"UPDATE users SET _password = ? WHERE _uid = ?\", (password, uid))\n",
    "        if cursor.rowcount == 0:\n",
    "            # The uid was not found in the table\n",
    "            print(f\"No uid {uid} was not found in the table\")\n",
    "        else:\n",
    "            print(f\"The row with user id {uid} the password has been {message}\")\n",
    "            conn.commit()\n",
    "    except sqlite3.Error as error:\n",
    "        print(\"Error while executing the UPDATE:\", error)\n",
    "        \n",
    "    \n",
    "    # Close the cursor and connection objects\n",
    "    cursor.close()\n",
    "    conn.close()\n",
    "\n",
    "read()   \n",
    "update()\n",
    "read()"
   ]
  },
  {
   "attachments": {},
   "cell_type": "markdown",
   "metadata": {},
   "source": [
    "## Delete a User in table in Sqlite.db\n",
    "> Uses a delete function to remove a user based on a user input of the id.\n",
    "- Is DELETE a dangerous operation?  Why?\n",
    "- In the print statemements, what is the \"f\" and what does {uid} do?"
   ]
  },
  {
   "cell_type": "code",
   "execution_count": 9,
   "metadata": {},
   "outputs": [
    {
     "name": "stdout",
     "output_type": "stream",
     "text": [
      "(1, 'Thomas Edison', 'toby', 'sha256$MZmvaHa26zCiPPup$ae6e47e885fb870d583c8533c1a5cdf564de4327b867da16dcf1d08e67858acf', '1847-02-11')\n",
      "(2, 'Nikola Tesla', 'niko', 'sha256$fVW3mhvQeLbOUE25$3d4a9e6edd5a67802ddadb5a8ce5bee8a8bcec8844a96e338896d2a666857d9e', '2023-03-19')\n",
      "(3, 'Alexander Graham Bell', 'lex', 'sha256$10ttgzB02pPIjwid$3ba3c38543549297ec0f0a6afb62affa7553b59fb89d02c00a8d22338586cf2d', '2023-03-19')\n",
      "(4, 'Eli Whitney', 'whit', 'sha256$CJ0X4P6aPsR0fDY9$e3e69cd2f3989444e91fcb979fa99674fc5f610c9eb49c4bd791aa791f313238', '2023-03-19')\n",
      "(6, 'Marion Ravenwood', 'raven', 'gothackednewpassword123', '1921-10-21')\n",
      "(7, 'Samit', 'Samit Poojary', 'sha256$RvIqeWjGcT8cqwDL$7375b83f0e48e7a402306d043b52fa02f900e34d2b4eec234151ee4146b70315', '2006-02-24')\n",
      "The row with uid Samit Poojary was successfully deleted\n",
      "(1, 'Thomas Edison', 'toby', 'sha256$MZmvaHa26zCiPPup$ae6e47e885fb870d583c8533c1a5cdf564de4327b867da16dcf1d08e67858acf', '1847-02-11')\n",
      "(2, 'Nikola Tesla', 'niko', 'sha256$fVW3mhvQeLbOUE25$3d4a9e6edd5a67802ddadb5a8ce5bee8a8bcec8844a96e338896d2a666857d9e', '2023-03-19')\n",
      "(3, 'Alexander Graham Bell', 'lex', 'sha256$10ttgzB02pPIjwid$3ba3c38543549297ec0f0a6afb62affa7553b59fb89d02c00a8d22338586cf2d', '2023-03-19')\n",
      "(4, 'Eli Whitney', 'whit', 'sha256$CJ0X4P6aPsR0fDY9$e3e69cd2f3989444e91fcb979fa99674fc5f610c9eb49c4bd791aa791f313238', '2023-03-19')\n",
      "(6, 'Marion Ravenwood', 'raven', 'gothackednewpassword123', '1921-10-21')\n"
     ]
    }
   ],
   "source": [
    "import sqlite3\n",
    "\n",
    "def delete():\n",
    "    uid = input(\"Enter user id to delete\")\n",
    "\n",
    "    # Connect to the database file\n",
    "    conn = sqlite3.connect(database)\n",
    "\n",
    "    # Create a cursor object to execute SQL commands\n",
    "    cursor = conn.cursor()\n",
    "    \n",
    "    try:\n",
    "        cursor.execute(\"DELETE FROM users WHERE _uid = ?\", (uid,))\n",
    "        if cursor.rowcount == 0:\n",
    "            # The uid was not found in the table\n",
    "            print(f\"No uid {uid} was not found in the table\")\n",
    "        else:\n",
    "            # The uid was found in the table and the row was deleted\n",
    "            print(f\"The row with uid {uid} was successfully deleted\")\n",
    "        conn.commit()\n",
    "    except sqlite3.Error as error:\n",
    "        print(\"Error while executing the DELETE:\", error)\n",
    "        \n",
    "    # Close the cursor and connection objects\n",
    "    cursor.close()\n",
    "    conn.close()\n",
    "\n",
    "read()\n",
    "delete()\n",
    "read()"
   ]
  },
  {
   "attachments": {},
   "cell_type": "markdown",
   "metadata": {},
   "source": [
    "# Menu Interface to CRUD operations\n",
    "> CRUD and Schema interactions from one location by running menu. Observe input at the top of VSCode, observe output underneath code cell.\n",
    "- Why does the menu repeat?\n",
    "- Could you refactor this menu?  Make it work with a List?"
   ]
  },
  {
   "cell_type": "code",
   "execution_count": 10,
   "metadata": {},
   "outputs": [
    {
     "name": "stdout",
     "output_type": "stream",
     "text": [
      "A new user record crenshaw sheisty has been created\n",
      "No uid Samit Poojary was not found in the table\n",
      "No uid Samit was not found in the table\n",
      "The row with user id raven the password has been successfully updated\n"
     ]
    }
   ],
   "source": [
    "# Menu, to run other cells from one control point\n",
    "def menu():\n",
    "    operation = input(\"Enter: (C)reate (R)ead (U)pdate or (D)elete or (S)chema\")\n",
    "    if operation.lower() == 'c':\n",
    "        create()\n",
    "    elif operation.lower() == 'r':\n",
    "        read()\n",
    "    elif operation.lower() == 'u':\n",
    "        update()\n",
    "    elif operation.lower() == 'd':\n",
    "        delete()\n",
    "    elif operation.lower() == 's':\n",
    "        schema()\n",
    "    elif len(operation)==0: # Escape Key\n",
    "        return\n",
    "    else:\n",
    "        print(\"Please enter c, r, u, or d\") \n",
    "    menu() # recursion, repeat menu\n",
    "        \n",
    "try:\n",
    "    menu() # start menu\n",
    "except:\n",
    "    print(\"Perform Jupyter 'Run All' prior to starting menu\")\n"
   ]
  },
  {
   "attachments": {},
   "cell_type": "markdown",
   "metadata": {},
   "source": [
    "# Hacks\n",
    "- Add this Blog to you own Blogging site.  In the Blog add notes and observations on each code cell.\n",
    "- In this implementation, do you see procedural abstraction?\n",
    "- In 2.4a or 2.4b lecture\n",
    "    - Do you see data abstraction?  Complement this with Debugging example.\n",
    "    - Use Imperative or OOP style to Create a new Table or do something that applies to your CPT project.\n",
    "    \n",
    "\n",
    "Reference... [sqlite documentation](https://www.sqlitetutorial.net/sqlite-python/creating-tables/)\n"
   ]
  }
 ],
 "metadata": {
  "kernelspec": {
   "display_name": "base",
   "language": "python",
   "name": "python3"
  },
  "language_info": {
   "codemirror_mode": {
    "name": "ipython",
    "version": 3
   },
   "file_extension": ".py",
   "mimetype": "text/x-python",
   "name": "python",
   "nbconvert_exporter": "python",
   "pygments_lexer": "ipython3",
   "version": "3.9.12"
  },
  "orig_nbformat": 4,
  "vscode": {
   "interpreter": {
    "hash": "8b82d5009c68ba5675978267e2b13a671f2a7143d61273c5a3813c97e0b2493d"
   }
  }
 },
 "nbformat": 4,
 "nbformat_minor": 2
}
