{
 "cells": [
  {
   "attachments": {},
   "cell_type": "markdown",
   "metadata": {},
   "source": [
    "#  Student Hacks - Pandas\n",
    "> A series of lessons based on the utilization of Pandas and NumPy to read and create interesting things with files and data. \n",
    "- toc: true"
   ]
  },
  {
   "attachments": {},
   "cell_type": "markdown",
   "metadata": {},
   "source": [
    "# Predictive Analysis\n",
    "Predictive analysis is the use of **statistical algorithms**, data mining, and machine learning techniques to analyze current and historical data in order to make predictions about future events or behaviors. It involves identifying **patterns** and trends in data, and then using that information to forecast what is likely to happen in the future.\n",
    "\n",
    "Predictive analysis is used in a wide range of applications, from forecasting sales and demand, to predicting customer behavior, to detecting fraudulent transactions. It involves collecting and analyzing data from a variety of sources, including historical data, customer data, financial data, and social media data, among others.\n",
    "\n",
    "The process of predictive analysis typically involves the following steps:\n",
    "1. Defining the problem and identifying the relevant data sources\n",
    "2. **Data preprocessing and cleaning to ensure that the data is accurate, complete, and consistent**\n",
    "3. Exploring and analyzing the data to identify patterns and trends\n",
    "4. Selecting an appropriate model or algorithm to use for predictions\n",
    "5. Training and validating the model using historical data\n",
    "6. **Using the trained model to make predictions on new data and refining the model as necessary based on the results.**\n",
    "7. Monitoring and evaluating the performance of the model over time\n",
    "\n",
    "Predictive analysis can help organizations make more informed decisions, improve efficiency, and gain a competitive advantage by leveraging insights from data.\n",
    "\n",
    "It is most commonly used in **marketing**, where workers try to predict which products would be most popular and try to advertise those products as much as possible, and also **healthcare**, where algorithms analyze patterns and reveal prerequisites for diseases and suggest preventive treatment, predict the results of various treatments and choose the best option for each patient individually, and predict disease outbreaks and epidemics."
   ]
  },
  {
   "attachments": {},
   "cell_type": "markdown",
   "metadata": {},
   "source": [
    "# 1. Intro to NumPy and the features it consists\n",
    "\n",
    "Numpy, by definition, is the fundamental package for **scientific computing** in Python which can be used to perform **mathematical operations**, provide **multidimensional array structures**, and makes **data analysis** much **easier**. Numpy is very important and useful when it comes to data analysis, as it can easily use its features to complete and perform any mathematical operation, as well as analyze data files. \n",
    "\n",
    "If you don't already have numpy installed, you can do so using ```conda install numpy``` or ```pip install numpy```\n",
    "\n",
    "Once that is complete, to import numpy in your code, all you must do is:"
   ]
  },
  {
   "cell_type": "code",
   "execution_count": 1,
   "metadata": {},
   "outputs": [],
   "source": [
    "import numpy as np"
   ]
  },
  {
   "attachments": {},
   "cell_type": "markdown",
   "metadata": {},
   "source": [
    "# 2. Using NumPy to create arrays\n",
    "An array is the central **data structure** of the NumPy library. They are used as **containers** which are able to store more than one item at the same time. Using the function ```np.array``` is used to create an array, in which you can create multidimensional arrays. \n",
    "\n",
    "Shown below is how to create a 1D array:"
   ]
  },
  {
   "cell_type": "code",
   "execution_count": 2,
   "metadata": {},
   "outputs": [
    {
     "name": "stdout",
     "output_type": "stream",
     "text": [
      "[1 2 3]\n"
     ]
    }
   ],
   "source": [
    "a = np.array([1, 2, 3])\n",
    "print(a) \n",
    "# this creates a 1D array"
   ]
  },
  {
   "attachments": {},
   "cell_type": "markdown",
   "metadata": {},
   "source": [
    "How could you create a 3D array based on knowing how to make a 1D array?"
   ]
  },
  {
   "cell_type": "code",
   "execution_count": 3,
   "metadata": {},
   "outputs": [
    {
     "name": "stdout",
     "output_type": "stream",
     "text": [
      "[[[1 2 3]]\n",
      "\n",
      " [[4 5 6]]]\n"
     ]
    }
   ],
   "source": [
    "# create 3D array here\n",
    "\n",
    "# Create a 1D array\n",
    "arr1d = np.array([1, 2, 3, 4, 5, 6])\n",
    "\n",
    "# Reshape the 1D array into a 3D array\n",
    "arr3d = arr1d.reshape((2, 1, 3))\n",
    "\n",
    "print(arr3d)"
   ]
  },
  {
   "attachments": {},
   "cell_type": "markdown",
   "metadata": {},
   "source": [
    "Arrays can be printed in different ways, especially a more readable format. As we have seen, arrays are printed in rows and columns, but we can change that by using the ```reshape``` function "
   ]
  },
  {
   "cell_type": "code",
   "execution_count": 4,
   "metadata": {},
   "outputs": [
    {
     "name": "stdout",
     "output_type": "stream",
     "text": [
      "[[1 2 3 4 5 6 7 8 9]]\n"
     ]
    }
   ],
   "source": [
    "c = np.array([[1, 2, 3], [4, 5, 6], [7, 8, 9]])\n",
    "print(c.reshape(1, 9)) # organizes it all in a single line of output"
   ]
  },
  {
   "attachments": {},
   "cell_type": "markdown",
   "metadata": {},
   "source": [
    "In the code segment below, we can also specially select certain rows and columns from the array to further analyze selective data."
   ]
  },
  {
   "cell_type": "code",
   "execution_count": 5,
   "metadata": {},
   "outputs": [
    {
     "name": "stdout",
     "output_type": "stream",
     "text": [
      "[[4 5]\n",
      " [7 8]]\n"
     ]
    }
   ],
   "source": [
    "print(c[1:, :2])\n",
    "# the 1: means \"start at row 1 and select all the remaining rows\"\n",
    "# the :2 means \"select the first two columns\""
   ]
  },
  {
   "attachments": {},
   "cell_type": "markdown",
   "metadata": {},
   "source": [
    "# 3. Basic array operations\n",
    "\n",
    "One of the most basic operations that can be performed on arrays is **arithmetic operations**. With numpy, it is very easy to perform arithmetic operations on arrays. You can **add**, **subtract**, **multiply** and **divide** arrays, just like you would with regular numbers. When performing these operations, numpy applies the operation element-wise, meaning that it performs the operation on each element in the array separately. This makes it easy to perform operations on large amounts of data quickly and efficiently."
   ]
  },
  {
   "cell_type": "code",
   "execution_count": 6,
   "metadata": {},
   "outputs": [
    {
     "name": "stdout",
     "output_type": "stream",
     "text": [
      "[5 7 9]\n",
      "[-3 -3 -3]\n",
      "[ 4 10 18]\n",
      "[0.25 0.4  0.5 ]\n"
     ]
    }
   ],
   "source": [
    "a = np.array([1, 2, 3])\n",
    "b = np.array([4, 5, 6])\n",
    "print(a + b) # adds each value based on the column the integer is in\n",
    "print(a - b) # subtracts each value based on the column the integer is in\n",
    "print(a * b) # multiplies each value based on the column the integer is in\n",
    "print(a / b) # divides each value based on the column the integer is in"
   ]
  },
  {
   "cell_type": "code",
   "execution_count": 7,
   "metadata": {},
   "outputs": [
    {
     "name": "stdout",
     "output_type": "stream",
     "text": [
      "[ 54.59815003 148.4131591  403.42879349]\n",
      "[2.         2.23606798 2.44948974]\n"
     ]
    }
   ],
   "source": [
    "d = np.exp(b)\n",
    "e = np.sqrt(b)\n",
    "print(d)\n",
    "print(e)"
   ]
  },
  {
   "attachments": {},
   "cell_type": "markdown",
   "metadata": {},
   "source": [
    "From the knowledge of how to use more advanced mathematical expressions than the basic 4 mathematical operations such as exponent and square root, now can you code how to calculate the 3 main trig expressions (sin, cos, tan), natural log, and log10 of a 1D array."
   ]
  },
  {
   "cell_type": "code",
   "execution_count": 8,
   "metadata": {},
   "outputs": [
    {
     "name": "stdout",
     "output_type": "stream",
     "text": [
      "[0.         0.5        0.70710678 0.8660254  1.        ]\n",
      "[1.00000000e+00 8.66025404e-01 7.07106781e-01 5.00000000e-01\n",
      " 6.12323400e-17]\n",
      "[0.00000000e+00 5.77350269e-01 1.00000000e+00 1.73205081e+00\n",
      " 1.63312394e+16]\n",
      "[      -inf 3.40119738 3.80666249 4.09434456 4.49980967]\n",
      "[      -inf 1.47712125 1.65321251 1.77815125 1.95424251]\n"
     ]
    },
    {
     "name": "stderr",
     "output_type": "stream",
     "text": [
      "/var/folders/sd/jxf9lc9x1zl0qblp_dvyrrqh0000gn/T/ipykernel_45549/2782268277.py:19: RuntimeWarning: divide by zero encountered in log\n",
      "  log_arr = np.log(arr)\n",
      "/var/folders/sd/jxf9lc9x1zl0qblp_dvyrrqh0000gn/T/ipykernel_45549/2782268277.py:23: RuntimeWarning: divide by zero encountered in log10\n",
      "  log10_arr = np.log10(arr)\n"
     ]
    }
   ],
   "source": [
    "import numpy as np\n",
    "\n",
    "# create a 1D array\n",
    "arr = np.array([0, 30, 45, 60, 90])\n",
    "\n",
    "# calculate sin\n",
    "sin_arr = np.sin(np.deg2rad(arr))\n",
    "print(sin_arr)\n",
    "\n",
    "# calculate cos\n",
    "cos_arr = np.cos(np.deg2rad(arr))\n",
    "print(cos_arr)\n",
    "\n",
    "# calculate tan\n",
    "tan_arr = np.tan(np.deg2rad(arr))\n",
    "print(tan_arr)\n",
    "\n",
    "# calculate natural log\n",
    "log_arr = np.log(arr)\n",
    "print(log_arr)\n",
    "\n",
    "# calculate log10\n",
    "log10_arr = np.log10(arr)\n",
    "print(log10_arr)\n"
   ]
  },
  {
   "attachments": {},
   "cell_type": "markdown",
   "metadata": {},
   "source": [
    "# 4. Data analysis using numpy\n",
    "Numpy provides a convenient and powerful way to perform data analysis tasks on **arrays**. One of the most common tasks in data analysis is finding the **mean**, **median**, and **mode** of a dataset. Numpy provides functions to perform these operations quickly and easily. The mean function calculates the average value of the data, while the median function calculates the middle value in the data. The standard deviation function calculates how spread out the data is from the mean. Additionally, numpy provides functions to find the minimum and maximum values in the data. These functions are very useful for gaining insight into the properties of large datasets and can be used for a wide range of data analysis tasks."
   ]
  },
  {
   "cell_type": "code",
   "execution_count": 9,
   "metadata": {},
   "outputs": [
    {
     "name": "stdout",
     "output_type": "stream",
     "text": [
      "10.2\n",
      "12.0\n",
      "6.04648658313239\n",
      "2\n",
      "19\n"
     ]
    }
   ],
   "source": [
    "data = np.array([2, 5, 12, 13, 19])\n",
    "print(np.mean(data)) # finds the mean of the dataset\n",
    "print(np.median(data)) # finds the median of the dataset\n",
    "print(np.std(data)) # finds the standard deviation of the dataset\n",
    "print(np.min(data)) # finds the min of the dataset\n",
    "print(np.max(data)) # finds the max of the dataset"
   ]
  },
  {
   "attachments": {},
   "cell_type": "markdown",
   "metadata": {},
   "source": [
    "Now from learning this, can you find a different way from how we can solve the sum or products of a dataset other than how we learned before?"
   ]
  },
  {
   "cell_type": "code",
   "execution_count": 10,
   "metadata": {},
   "outputs": [
    {
     "name": "stdout",
     "output_type": "stream",
     "text": [
      "Product of elements: 3840\n",
      "Sum of elements: 30\n"
     ]
    }
   ],
   "source": [
    "# create a different way of solving the sum or products of a dataset from what we learned above\n",
    "\n",
    "import numpy as np\n",
    "\n",
    "data = np.array([2, 4, 6, 8, 10])\n",
    "\n",
    "# calculate the product of the elements in the array\n",
    "product = np.prod(data)\n",
    "print(\"Product of elements:\", product)\n",
    "\n",
    "# calculate the sum of the elements in the array\n",
    "total = np.sum(data)\n",
    "print(\"Sum of elements:\", total)\n"
   ]
  },
  {
   "attachments": {},
   "cell_type": "markdown",
   "metadata": {},
   "source": [
    "Numpy also has the ability to handle CSV files, which are commonly used to store and exchange large datasets. By importing CSV files into numpy arrays, we can easily perform complex operations and analysis on the data, making numpy an essential tool for data scientists and researchers.\n",
    "\n",
    "```genfromtxt``` and ```loadtxt``` are two functions in the numpy library that can be used to read data from text files, including CSV files."
   ]
  },
  {
   "attachments": {},
   "cell_type": "markdown",
   "metadata": {},
   "source": [
    "```genfromtxt``` is a more advanced function that can be used to read text files that have more complex structures, including CSV files. ```genfromtxt``` can handle files that have missing or invalid data, or files that have columns of different data types. It can also be used to skip header lines or to read only specific columns from the file. "
   ]
  },
  {
   "cell_type": "code",
   "execution_count": 11,
   "metadata": {},
   "outputs": [
    {
     "name": "stdout",
     "output_type": "stream",
     "text": [
      "[['Name' ' Position' ' Average' ' HR' ' RBI' ' OPS' ' JerseyNumber']\n",
      " ['Manny Machado' ' 3B' ' .298' ' 32' ' 102' ' .897' ' 13']\n",
      " ['Fernando Tatis Jr' ' RF' ' .281' ' 42' ' 97' ' .975' ' 23']\n",
      " ['Juan Soto' ' LF' ' .242' ' 27' ' 62' ' .853' ' 22']\n",
      " ['Xander Bogaerts' ' SS' ' .307' ' 15' ' 73' ' .833' ' 2']\n",
      " ['Nelson Cruz' ' DH' ' .234' ' 10' ' 64' ' .651' ' 32']\n",
      " ['Matt Carpenter' ' DH' ' .305' ' 15' ' 37' ' 1.138' ' 14']\n",
      " ['Jake Cronenworth' ' 1B' ' .239' ' 17' ' 88' ' .722' ' 9']\n",
      " ['Ha-Seong Kim' ' 2B' ' .251' ' 11' ' 59' ' .708' ' 7']\n",
      " ['Trent Grisham' ' CF' ' .184' ' 17' ' 53' ' .626' ' 1']\n",
      " ['Luis Campusano' ' C' ' .250' ' 1' ' 5' ' .593' ' 12']\n",
      " ['Austin Nola' ' C' ' .251' ' 4' ' 40' ' .649' ' 26']\n",
      " ['Jose Azocar' ' OF' ' .257' ' 0' ' 10' ' .630' ' 28']]\n"
     ]
    }
   ],
   "source": [
    "import numpy as np\n",
    "\n",
    "padres = np.genfromtxt('files/padres.csv', delimiter=',', dtype=str, encoding='utf-8')\n",
    "# delimiter indicates that the data is separated into columns which is distinguished by commas\n",
    "# genfromtxt is used to read the csv file itself\n",
    "# dtype is used to have numpy automatically detect the data type in the csv file\n",
    "\n",
    "print(padres)"
   ]
  },
  {
   "attachments": {},
   "cell_type": "markdown",
   "metadata": {},
   "source": [
    "```loadtxt``` is a simpler function that can be used to read simple text files that have a regular structure, such as files that have only one type of data (such as all integers or all floats). ```loadtxt``` can be faster than ```genfromtxt``` because it assumes that the data in the file is well-structured and can be easily parsed."
   ]
  },
  {
   "cell_type": "code",
   "execution_count": 12,
   "metadata": {},
   "outputs": [
    {
     "name": "stdout",
     "output_type": "stream",
     "text": [
      "[['Name' ' Position' ' Average' ' HR' ' RBI' ' OPS' ' JerseyNumber']\n",
      " ['Manny Machado' ' 3B' ' .298' ' 32' ' 102' ' .897' ' 13']\n",
      " ['Fernando Tatis Jr' ' RF' ' .281' ' 42' ' 97' ' .975' ' 23']\n",
      " ['Juan Soto' ' LF' ' .242' ' 27' ' 62' ' .853' ' 22']\n",
      " ['Xander Bogaerts' ' SS' ' .307' ' 15' ' 73' ' .833' ' 2']\n",
      " ['Nelson Cruz' ' DH' ' .234' ' 10' ' 64' ' .651' ' 32']\n",
      " ['Matt Carpenter' ' DH' ' .305' ' 15' ' 37' ' 1.138' ' 14']\n",
      " ['Jake Cronenworth' ' 1B' ' .239' ' 17' ' 88' ' .722' ' 9']\n",
      " ['Ha-Seong Kim' ' 2B' ' .251' ' 11' ' 59' ' .708' ' 7']\n",
      " ['Trent Grisham' ' CF' ' .184' ' 17' ' 53' ' .626' ' 1']\n",
      " ['Luis Campusano' ' C' ' .250' ' 1' ' 5' ' .593' ' 12']\n",
      " ['Austin Nola' ' C' ' .251' ' 4' ' 40' ' .649' ' 26']\n",
      " ['Jose Azocar' ' OF' ' .257' ' 0' ' 10' ' .630' ' 28']]\n"
     ]
    }
   ],
   "source": [
    "import numpy as np\n",
    "\n",
    "padres = np.loadtxt('files/padres.csv', delimiter=',', dtype=str, encoding='utf-8')\n",
    "print(padres)"
   ]
  },
  {
   "cell_type": "code",
   "execution_count": 13,
   "metadata": {},
   "outputs": [
    {
     "name": "stdout",
     "output_type": "stream",
     "text": [
      "Name, Position, Average, HR, RBI, OPS, JerseyNumber\n",
      "Manny Machado, 3B, .298, 32, 102, .897, 13\n",
      "Fernando Tatis Jr, RF, .281, 42, 97, .975, 23\n",
      "Juan Soto, LF, .242, 27, 62, .853, 22\n",
      "Xander Bogaerts, SS, .307, 15, 73, .833, 2\n",
      "Nelson Cruz, DH, .234, 10, 64, .651, 32\n",
      "Matt Carpenter, DH, .305, 15, 37, 1.138, 14\n",
      "Jake Cronenworth, 1B, .239, 17, 88, .722, 9\n",
      "Ha-Seong Kim, 2B, .251, 11, 59, .708, 7\n",
      "Trent Grisham, CF, .184, 17, 53, .626, 1\n",
      "Luis Campusano, C, .250, 1, 5, .593, 12\n",
      "Austin Nola, C, .251, 4, 40, .649, 26\n",
      "Jose Azocar, OF, .257, 0, 10, .630, 28\n"
     ]
    }
   ],
   "source": [
    "for i in padres:\n",
    "    print(\",\".join(i))"
   ]
  },
  {
   "attachments": {},
   "cell_type": "markdown",
   "metadata": {},
   "source": [
    "# Pandas\n",
    "### What is Pandas\n",
    "Pandas is a Python library used for working with data sets. A python library is something  It has functions for analyzing, cleaning, exploring, and manipulating data.\n",
    "\n",
    "### Why Use Pandas?\n",
    "Pandas allows us to analyze big data and make conclusions based on statistical theories. Pandas can clean messy data sets, and make them readable and relevant. Also it is a part of data analysis, and data manipulation.\n",
    "\n",
    "### What Can Pandas Do?\n",
    "Pandas gives you answers about the data. Like:\n",
    "- Is there a correlation between two or more columns?\n",
    "- What is average value\n",
    "- Max value\n",
    "- Min value\n",
    "- How to load data \n",
    "- Delete data \n",
    "- Sort Data.\n",
    "\n",
    "Pandas are also able to delete rows that are not relevant, or contains wrong values, like empty or NULL values. This is called cleaning the data."
   ]
  },
  {
   "attachments": {},
   "cell_type": "markdown",
   "metadata": {},
   "source": [
    "# Basics of Pandas."
   ]
  },
  {
   "cell_type": "code",
   "execution_count": 2,
   "metadata": {},
   "outputs": [],
   "source": [
    "import pandas as pd\n",
    "# What this does is it calls the python pandas library and this code segment is needed whenever incorporating pandas."
   ]
  },
  {
   "attachments": {},
   "cell_type": "markdown",
   "metadata": {},
   "source": [
    "#### DICTIONARIES AND DATASETS\n",
    "- One way you are able to manipulate a pandas data set is by creating a dictionary and calling it as seen with the dict data 1 and pd.dataframe which is a way to print the set."
   ]
  },
  {
   "cell_type": "code",
   "execution_count": 15,
   "metadata": {},
   "outputs": [
    {
     "name": "stdout",
     "output_type": "stream",
     "text": [
      "      teams  standings\n",
      "0     BARCA          1\n",
      "1      REAL          2\n",
      "2  ATLETICO          3\n"
     ]
    }
   ],
   "source": [
    "import pandas as pd\n",
    "\n",
    "data1 = {\n",
    "  'teams': [\"BARCA\", \"REAL\", \"ATLETICO\"],\n",
    "  'standings': [1, 2, 3]\n",
    "}\n",
    "\n",
    "myvar = pd.DataFrame(data1)\n",
    "\n",
    "print(myvar)\n"
   ]
  },
  {
   "attachments": {},
   "cell_type": "markdown",
   "metadata": {},
   "source": [
    "### Indexing and manipulaton of data through lists.\n",
    "- With pandas you can also organize the data which is one of its biggest perks, we call this indexing, this is when we define the first column in a data frame."
   ]
  },
  {
   "cell_type": "code",
   "execution_count": 16,
   "metadata": {},
   "outputs": [
    {
     "name": "stdout",
     "output_type": "stream",
     "text": [
      "math       1.0\n",
      "science    1.0\n",
      "pe         0.2\n",
      "dtype: float64\n"
     ]
    }
   ],
   "source": [
    "# Here is an example using lists and an index.\n",
    "import pandas as pd \n",
    "\n",
    "score = [5/5, 5/5, 1/5]\n",
    "\n",
    "myvar = pd.Series(score, index = [\"math\", \"science\", \"pe\"])\n",
    "\n",
    "print(myvar)"
   ]
  },
  {
   "attachments": {},
   "cell_type": "markdown",
   "metadata": {},
   "source": [
    "# Pandas Classes \n",
    "Within pandas the library consits of a lot of functions which allow you to manipulate datasets in lists dictionsaries and csv files here are some of the ones we are going to cover (hint: take notes on these)\n",
    "- Series\n",
    "- Index\n",
    "- PeriodIndex\n",
    "- DataframeGroupedBy\n",
    "- Categorical\n",
    "- Time Stamp\n"
   ]
  },
  {
   "attachments": {},
   "cell_type": "markdown",
   "metadata": {},
   "source": [
    "#  PeriodIndex \n",
    "- This allows for a way to repeat data over time that it occurs as seen from january 2022 to december 2023. You can use Y for years, M for months, and D for days.\n"
   ]
  },
  {
   "cell_type": "code",
   "execution_count": 17,
   "metadata": {},
   "outputs": [
    {
     "name": "stdout",
     "output_type": "stream",
     "text": [
      "PeriodIndex(['2022-01', '2022-02', '2022-03', '2022-04', '2022-05', '2022-06',\n",
      "             '2022-07', '2022-08', '2022-09', '2022-10', '2022-11', '2022-12'],\n",
      "            dtype='period[M]')\n"
     ]
    }
   ],
   "source": [
    "import pandas as pd\n",
    "\n",
    "\n",
    "time = pd.period_range('2022-01', '2022-12', freq='M')\n",
    "\n",
    "\n",
    "print(time)"
   ]
  },
  {
   "attachments": {},
   "cell_type": "markdown",
   "metadata": {},
   "source": [
    "Now implement a way to show a period index from June 2022 to July 2023 in days."
   ]
  },
  {
   "cell_type": "code",
   "execution_count": 18,
   "metadata": {},
   "outputs": [
    {
     "name": "stdout",
     "output_type": "stream",
     "text": [
      "PeriodIndex(['2022-06-01', '2022-06-02', '2022-06-03', '2022-06-04',\n",
      "             '2022-06-05', '2022-06-06', '2022-06-07', '2022-06-08',\n",
      "             '2022-06-09', '2022-06-10',\n",
      "             ...\n",
      "             '2023-06-21', '2023-06-22', '2023-06-23', '2023-06-24',\n",
      "             '2023-06-25', '2023-06-26', '2023-06-27', '2023-06-28',\n",
      "             '2023-06-29', '2023-06-30'],\n",
      "            dtype='period[D]', length=395)\n"
     ]
    }
   ],
   "source": [
    "# use period index to show - in days - June 2022 to 2023\n",
    "\n",
    "import pandas as pd\n",
    "\n",
    "# Create a period index starting from June 2022 and ending in June 2023\n",
    "date_range = pd.period_range(start='2022-06-01', end='2023-06-30', freq='D')\n",
    "\n",
    "# Print the period index\n",
    "print(date_range)\n"
   ]
  },
  {
   "attachments": {},
   "cell_type": "markdown",
   "metadata": {},
   "source": [
    "# Dataframe Grouped By \n",
    "- This allows for you to organize your data and calculate the different functions such as\n",
    "- count(): returns the number of non-null values in each group.\n",
    "- sum(): returns the sum of values in each group.\n",
    "- mean(): returns the mean of values in each group.\n",
    "- min(): returns the minimum value in each group.\n",
    "- max(): returns the maximum value in each group.\n",
    "- median(): returns the median of values in each group.\n",
    "- var(): returns the variance of values in each group.\n",
    "- agg(): applies one or more functions to each group and returns a new DataFrame with the results.\n"
   ]
  },
  {
   "cell_type": "code",
   "execution_count": 22,
   "metadata": {},
   "outputs": [
    {
     "name": "stdout",
     "output_type": "stream",
     "text": [
      "<pandas.core.groupby.generic.DataFrameGroupBy object at 0x7fbfd2423ca0>\n"
     ]
    }
   ],
   "source": [
    "import pandas as pd\n",
    "\n",
    "data = {\n",
    "    'Category': ['E', 'F', 'E', 'F', 'E', 'F', 'E', 'F'],\n",
    "    'Value': [100, 250, 156, 255, 240, 303, 253, 3014]\n",
    "}\n",
    "df = pd.DataFrame(data)\n",
    "\n",
    "\n",
    "grouped = df.groupby('Category')#GUESS WHAT THIS WOULD BE IF WE WERE LOOKING FOR COMBINED TOTALS!(If we were looking for combined totals, we would use the sum() function on the grouped object. This would sum up the values in the 'Value' column for each category and give us the total for each category. )\n",
    "\n",
    "print(grouped)\n"
   ]
  },
  {
   "attachments": {},
   "cell_type": "markdown",
   "metadata": {},
   "source": [
    "### Categorical \n",
    "- This sets up a category for something and puts it within the categories and allows for better orginzation "
   ]
  },
  {
   "cell_type": "code",
   "execution_count": 23,
   "metadata": {},
   "outputs": [
    {
     "name": "stdout",
     "output_type": "stream",
     "text": [
      "['yellow', 'orange', 'blue', 'yellow', 'orange']\n",
      "Categories (3, object): ['yellow', 'orange', 'blue']\n"
     ]
    }
   ],
   "source": [
    "import pandas as pd\n",
    "\n",
    "colors = pd.Categorical(['yellow', 'orange', 'blue', 'yellow', 'orange'], categories=['yellow', 'orange', 'blue'])\n",
    "\n",
    "print(colors)\n"
   ]
  },
  {
   "attachments": {},
   "cell_type": "markdown",
   "metadata": {},
   "source": [
    "### Timestamp Class\n",
    "- This allows to display a single time which can be useful when working with datasets that deal with time allowing you to manipulate the time you do something and how you do it. "
   ]
  },
  {
   "cell_type": "code",
   "execution_count": 25,
   "metadata": {},
   "outputs": [
    {
     "name": "stdout",
     "output_type": "stream",
     "text": [
      "2023-02-05 02:00:00\n"
     ]
    }
   ],
   "source": [
    "import pandas as pd\n",
    "\n",
    "\n",
    "timing = pd.Timestamp('2023-02-05 02:00:00')\n",
    "\n",
    "print(timing)\n"
   ]
  },
  {
   "attachments": {},
   "cell_type": "markdown",
   "metadata": {},
   "source": [
    "# CSV FILES!\n",
    "- A csv file contains data and within pandas you are able to call the function and you are able to manipulate the data with the certain data classes talked about above. "
   ]
  },
  {
   "attachments": {},
   "cell_type": "markdown",
   "metadata": {},
   "source": [
    "- Name, Position, Average, HR, RBI, OPS, JerseyNumber\n",
    "- Manny Machado, 3B, .298, 32, 102, .897, 13\n",
    "- Tatis Jr, RF, .281, 42, 97, .975, 23\n",
    "- Juan Soto, LF, .242, 27, 62, .853, 22\n",
    "- Xanger Bogaerts, SS, .307, 15, 73, .833, 2\n",
    "- Nelson Cruz, DH, .234, 10, 64, .651, 32\n",
    "- Matt Carpenter, DH, .305, 15, 37, 1.138, 14\n",
    "- Cronezone, 1B, .239, 17, 88, .722, 9\n",
    "- Ha-Seong Kim, 2B, .251, 11, 59, .708, 7\n",
    "- Trent Grisham, CF, .184, 17, 53, .626, 1\n",
    "- Luis Campusano, C, .250, 1, 5, .593, 12\n",
    "- Austin Nola, C, .251, 4, 40, .649, 26\n",
    "- Jose Azocar, OF, .257, 0, 10, .630, 28\n",
    "\n",
    "QUESTION: WHAT DO YOU GUYS THINK THE INDEX FOR THIS WOULD BE?\n",
    "\n",
    "**The index for this data could be the player names or their jersey numbers, depending on the purpose of the analysis. If the analysis is focused on individual players, using their names as the index would be more appropriate. If the analysis is focused on team statistics, using the jersey numbers as the index could be more useful.**"
   ]
  },
  {
   "attachments": {},
   "cell_type": "markdown",
   "metadata": {},
   "source": [
    "Can you explain what is going on in this code segment below. (hint: define what ascending= false means, and df. head means)\n",
    "\n",
    "**CSV file named 'padres.csv' is read using the pd.read_csv method and then sorted by the 'Name' column in descending order (largest to smallest) using the sort_values method. df.head(10) displays the first 10 rows of the sorted dataframe, representing the top 10 based on the 'Name' column. df.tail(10) displays the last 10 rows of the sorted dataframe, representing the bottom 10 based on the 'Name' column. In the last line, ', '.join(df.tail(10))) concatenates the bottom 10 rows of the dataframe as a string separated by commas and displays it. The ascending=False parameter in the sort_values method sorts the dataframe in descending order. If it is set to True, it sorts the dataframe in ascending order. df.head is a method that returns the first n rows of a dataframe, where n is the number specified as a parameter. In this case, it is 10.**"
   ]
  },
  {
   "cell_type": "code",
   "execution_count": 26,
   "metadata": {},
   "outputs": [
    {
     "name": "stdout",
     "output_type": "stream",
     "text": [
      "--Duration Top 10---------\n",
      "                Name  Position   Average   HR   RBI    OPS   JerseyNumber\n",
      "3    Xander Bogaerts        SS     0.307   15    73  0.833              2\n",
      "8      Trent Grisham        CF     0.184   17    53  0.626              1\n",
      "4        Nelson Cruz        DH     0.234   10    64  0.651             32\n",
      "5     Matt Carpenter        DH     0.305   15    37  1.138             14\n",
      "0      Manny Machado        3B     0.298   32   102  0.897             13\n",
      "9     Luis Campusano         C     0.250    1     5  0.593             12\n",
      "2          Juan Soto        LF     0.242   27    62  0.853             22\n",
      "11       Jose Azocar        OF     0.257    0    10  0.630             28\n",
      "6   Jake Cronenworth        1B     0.239   17    88  0.722              9\n",
      "7       Ha-Seong Kim        2B     0.251   11    59  0.708              7\n",
      "--Duration Bottom 10------\n",
      "                 Name  Position   Average   HR   RBI    OPS   JerseyNumber\n",
      "4         Nelson Cruz        DH     0.234   10    64  0.651             32\n",
      "5      Matt Carpenter        DH     0.305   15    37  1.138             14\n",
      "0       Manny Machado        3B     0.298   32   102  0.897             13\n",
      "9      Luis Campusano         C     0.250    1     5  0.593             12\n",
      "2           Juan Soto        LF     0.242   27    62  0.853             22\n",
      "11        Jose Azocar        OF     0.257    0    10  0.630             28\n",
      "6    Jake Cronenworth        1B     0.239   17    88  0.722              9\n",
      "7        Ha-Seong Kim        2B     0.251   11    59  0.708              7\n",
      "1   Fernando Tatis Jr        RF     0.281   42    97  0.975             23\n",
      "10        Austin Nola         C     0.251    4    40  0.649             26\n",
      "Name,  Position,  Average,  HR,  RBI,  OPS,  JerseyNumber\n"
     ]
    }
   ],
   "source": [
    "import pandas as pd\n",
    "\n",
    "#read csv and sort 'Duration' largest to smallest\n",
    "df = pd.read_csv('files/padres.csv').sort_values(by=['Name'], ascending=False)\n",
    "\n",
    "print(\"--Duration Top 10---------\")\n",
    "print(df.head(10))\n",
    "\n",
    "print(\"--Duration Bottom 10------\")\n",
    "print(df.tail(10))\n",
    "print(', '.join(df.tail(10)))"
   ]
  },
  {
   "cell_type": "code",
   "execution_count": 27,
   "metadata": {},
   "outputs": [
    {
     "name": "stdout",
     "output_type": "stream",
     "text": [
      "The mode of the 'total_rooms' column is: 0    1527.0\n",
      "Name: total_rooms, dtype: float64\n"
     ]
    }
   ],
   "source": [
    "import pandas as pd\n",
    "\n",
    "\n",
    "df = pd.read_csv(\"./files/housing.csv\")\n",
    "\n",
    "\n",
    "mode_total_rooms = df['total_rooms'].mode()\n",
    "\n",
    "\n",
    "print(f\"The mode of the 'total_rooms' column is: {mode_total_rooms}\")"
   ]
  },
  {
   "cell_type": "code",
   "execution_count": 28,
   "metadata": {},
   "outputs": [
    {
     "name": "stdout",
     "output_type": "stream",
     "text": [
      "             total_rooms  population  longitude\n",
      "total_rooms                                    \n",
      "2.0                  2.0         6.0          1\n",
      "6.0                  6.0         8.0          1\n",
      "8.0                  8.0        13.0          1\n",
      "11.0                11.0        24.0          1\n",
      "12.0                12.0        18.0          1\n",
      "...                  ...         ...        ...\n",
      "30450.0          30450.0      9419.0          1\n",
      "32054.0          32054.0     15507.0          1\n",
      "32627.0          32627.0     28566.0          1\n",
      "37937.0          37937.0     16122.0          1\n",
      "39320.0          39320.0     16305.0          1\n",
      "\n",
      "[5926 rows x 3 columns]\n"
     ]
    }
   ],
   "source": [
    "import pandas as pd\n",
    "\n",
    "df = pd.read_csv(\"./files/housing.csv\")\n",
    "\n",
    "\n",
    "grouped_df = df.groupby('total_rooms')\n",
    "\n",
    "\n",
    "agg_df = grouped_df.agg({'total_rooms': 'sum', 'population': 'mean', 'longitude': 'count'})\n",
    "\n",
    "# WHAT DO YOU GUYS THINK df.agg means in context of pandas and what does it stand for.\n",
    "\n",
    "\n",
    "print(agg_df)\n"
   ]
  },
  {
   "attachments": {},
   "cell_type": "markdown",
   "metadata": {},
   "source": [
    "# Our Frontend Data Analysis Project\n",
    "[Link](https://paravsalaniwal.github.io/T3Project/DataAnalysisProject/)"
   ]
  },
  {
   "attachments": {},
   "cell_type": "markdown",
   "metadata": {},
   "source": [
    "# Popcorn Hacks\n",
    "- Complete fill in the blanks for Predictive Analysis Numpy **COMPLETED**\n",
    "- Takes notes on Panda where it asks you to **COMPLETED**\n",
    "- Complete code segment tasks in Panda and Numpy **COMPLETED**\n",
    "\n",
    "# Main Hack\n",
    "- Make a data file - content is up to you, just make sure there are integer values - and print\n",
    "- Run Panda and Numpy commands\n",
    "    - Panda:\n",
    "        - Find Min and Max values\n",
    "        - Sort in order - can be order of least to greatest or vice versa\n",
    "        - Create a smaller dataframe and merge it with your data file\n",
    "\n"
   ]
  },
  {
   "cell_type": "code",
   "execution_count": 6,
   "metadata": {},
   "outputs": [
    {
     "name": "stdout",
     "output_type": "stream",
     "text": [
      "Min GPA: 2.75\n",
      "Max GPA: 4.75\n",
      "   Student ID  GPA_x Year in School  GPA_y\n",
      "0         456   2.75             10   2.75\n",
      "1         578   2.78             12   2.78\n",
      "2         nil   2.80              9   2.80\n",
      "3         145   2.95             12   2.95\n",
      "4         235   3.15      9th Grade   3.15\n",
      "5         313   3.33             20   3.33\n",
      "6         469   3.45             11   3.45\n",
      "7         469   3.45             11   3.45\n",
      "8         469   3.45             11   3.45\n",
      "9         469   3.45             11   3.45\n",
      "10        123   3.57             12   3.57\n",
      "11        167   3.90             10   3.90\n",
      "12        246   4.00             10   4.00\n",
      "13        324   4.75         Junior   4.75\n"
     ]
    }
   ],
   "source": [
    "import pandas as pd\n",
    "import numpy as np\n",
    "\n",
    "# read JSON file\n",
    "data = pd.read_json('files/grade.json')\n",
    "\n",
    "# find min and max values\n",
    "min_gpa = data['GPA'].min()\n",
    "max_gpa = data['GPA'].max()\n",
    "\n",
    "print(\"Min GPA:\", min_gpa)\n",
    "print(\"Max GPA:\", max_gpa)\n",
    "\n",
    "# sort by GPA from least to greatest\n",
    "data = data.sort_values('GPA')\n",
    "\n",
    "# create a smaller dataframe with only 'Student ID' and 'GPA' columns\n",
    "df = data[['Student ID', 'GPA']]\n",
    "\n",
    "# merge with original dataframe on 'Student ID'\n",
    "merged = pd.merge(df, data, on='Student ID')\n",
    "\n",
    "print(merged)\n"
   ]
  },
  {
   "attachments": {},
   "cell_type": "markdown",
   "metadata": {},
   "source": [
    "- Numpy:\n",
    "    -  Random number generation\n",
    "    - create a multi-dimensional array (multiple elements)\n",
    "    - create an array with linearly spaced intervals between values"
   ]
  },
  {
   "cell_type": "code",
   "execution_count": 7,
   "metadata": {},
   "outputs": [
    {
     "name": "stdout",
     "output_type": "stream",
     "text": [
      "[0.45941533 0.45837166 0.59542915 0.61141982 0.78919827]\n",
      "[[1 2 3]\n",
      " [4 5 6]\n",
      " [7 8 9]]\n",
      "[ 0.   2.5  5.   7.5 10. ]\n"
     ]
    }
   ],
   "source": [
    "import numpy as np\n",
    "\n",
    "# Random number generation\n",
    "random_numbers = np.random.rand(5)  # generate an array of 5 random numbers between 0 and 1\n",
    "print(random_numbers)\n",
    "\n",
    "# create a multi-dimensional array\n",
    "multi_dim_array = np.array([[1, 2, 3], [4, 5, 6], [7, 8, 9]])\n",
    "print(multi_dim_array)\n",
    "\n",
    "# create an array with linearly spaced intervals between values\n",
    "linear_array = np.linspace(0, 10, 5)  # generate an array with 5 values equally spaced between 0 and 10\n",
    "print(linear_array)\n"
   ]
  },
  {
   "cell_type": "code",
   "execution_count": 8,
   "metadata": {},
   "outputs": [
    {
     "name": "stdout",
     "output_type": "stream",
     "text": [
      "[[5 1 0]\n",
      " [8 2 4]\n",
      " [7 5 3]]\n"
     ]
    }
   ],
   "source": [
    "# Random number generation\n",
    "\n",
    "import numpy as np\n",
    "\n",
    "# generate a 3x3 array of random integers between 0 and 10\n",
    "rand_array = np.random.randint(low=0, high=10, size=(3, 3))\n",
    "print(rand_array)\n",
    "\n",
    "\n"
   ]
  },
  {
   "cell_type": "code",
   "execution_count": 9,
   "metadata": {},
   "outputs": [
    {
     "name": "stdout",
     "output_type": "stream",
     "text": [
      "[[[1 2]\n",
      "  [3 4]]\n",
      "\n",
      " [[5 6]\n",
      "  [7 8]]]\n"
     ]
    }
   ],
   "source": [
    "# Multi-dimensional array\n",
    "\n",
    "import numpy as np\n",
    "\n",
    "# create a 2x2x2 array with elements ranging from 1 to 8\n",
    "multi_array = np.array([[[1, 2], [3, 4]], [[5, 6], [7, 8]]])\n",
    "print(multi_array)\n",
    "\n"
   ]
  },
  {
   "cell_type": "code",
   "execution_count": 10,
   "metadata": {},
   "outputs": [
    {
     "name": "stdout",
     "output_type": "stream",
     "text": [
      "[1.         1.44444444 1.88888889 2.33333333 2.77777778 3.22222222\n",
      " 3.66666667 4.11111111 4.55555556 5.        ]\n"
     ]
    }
   ],
   "source": [
    "# Linearly spaced intervals\n",
    "\n",
    "import numpy as np\n",
    "\n",
    "# create an array with 10 evenly spaced values between 1 and 5\n",
    "lin_array = np.linspace(start=1, stop=5, num=10)\n",
    "print(lin_array)\n"
   ]
  },
  {
   "attachments": {},
   "cell_type": "markdown",
   "metadata": {},
   "source": [
    "# Grading\n",
    "The grading will be binary - all or nothing; no partial credit\n",
    "- 0.3 for all the popcorn hacks\n",
    "- 0.6 for the main hack - CSV file\n",
    "- 0.1 for going above and beyond in the main hack"
   ]
  }
 ],
 "metadata": {
  "kernelspec": {
   "display_name": "base",
   "language": "python",
   "name": "python3"
  },
  "language_info": {
   "codemirror_mode": {
    "name": "ipython",
    "version": 3
   },
   "file_extension": ".py",
   "mimetype": "text/x-python",
   "name": "python",
   "nbconvert_exporter": "python",
   "pygments_lexer": "ipython3",
   "version": "3.9.12"
  },
  "orig_nbformat": 4
 },
 "nbformat": 4,
 "nbformat_minor": 2
}
