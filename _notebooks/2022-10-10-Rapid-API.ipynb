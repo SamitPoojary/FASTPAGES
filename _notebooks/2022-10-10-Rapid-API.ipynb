{
 "cells": [
  {
   "cell_type": "markdown",
   "metadata": {},
   "source": [
    "# Testing out the Features of Rapid API\n",
    "> Gas Prices Throughout the World\n",
    "\n",
    "- title: Testing out Rapid API\n",
    "- toc: false\n",
    "- badges: true\n",
    "- categories: [python, jupyter, notes]\n",
    "\n",
    "{% include navbar.html %}"
   ]
  },
  {
   "cell_type": "markdown",
   "metadata": {},
   "source": [
    "### Function:\n",
    "\n",
    "- The code below displays an output of data describing the gas / disel prices in numerous cities around the world (prices are listed in Euros)"
   ]
  },
  {
   "cell_type": "code",
   "execution_count": 3,
   "metadata": {},
   "outputs": [
    {
     "name": "stdout",
     "output_type": "stream",
     "text": [
      "{\"results\":[{\"currency\":\"euro\",\"lpg\":\"0,655\",\"diesel\":\"1,956\",\"gasoline\":\"1,757\",\"country\":\"Albania\"},{\"currency\":\"euro\",\"lpg\":\"-\",\"diesel\":\"1,651\",\"gasoline\":\"1,672\",\"country\":\"Andorra\"},{\"currency\":\"euro\",\"lpg\":\"0,608\",\"diesel\":\"1,147\",\"gasoline\":\"1,217\",\"country\":\"Armenia\"},{\"currency\":\"euro\",\"lpg\":\"1,250\",\"diesel\":\"1,942\",\"gasoline\":\"1,743\",\"country\":\"Austria\"},{\"currency\":\"euro\",\"lpg\":\"0,533\",\"diesel\":\"0,926\",\"gasoline\":\"0,926\",\"country\":\"Belarus\"},{\"currency\":\"euro\",\"lpg\":\"0,796\",\"diesel\":\"2,070\",\"gasoline\":\"1,875\",\"country\":\"Belgium\"},{\"currency\":\"euro\",\"lpg\":\"0,822\",\"diesel\":\"1,647\",\"gasoline\":\"1,463\",\"country\":\"Bosnia and Herzegovina\"},{\"currency\":\"euro\",\"lpg\":\"0,583\",\"diesel\":\"1,672\",\"gasoline\":\"1,513\",\"country\":\"Bulgaria\"},{\"currency\":\"euro\",\"lpg\":\"0,951\",\"diesel\":\"1,766\",\"gasoline\":\"1,458\",\"country\":\"Croatia\"},{\"currency\":\"euro\",\"lpg\":\"-\",\"diesel\":\"1,814\",\"gasoline\":\"1,469\",\"country\":\"Cyprus\"},{\"currency\":\"euro\",\"lpg\":\"0,751\",\"diesel\":\"1,782\",\"gasoline\":\"1,634\",\"country\":\"Czech Republic\"},{\"currency\":\"euro\",\"lpg\":\"-\",\"diesel\":\"2,115\",\"gasoline\":\"2,106\",\"country\":\"Denmark\"},{\"currency\":\"euro\",\"lpg\":\"0,896\",\"diesel\":\"1,863\",\"gasoline\":\"1,869\",\"country\":\"Estonia\"},{\"currency\":\"euro\",\"lpg\":\"-\",\"diesel\":\"2,164\",\"gasoline\":\"2,097\",\"country\":\"Finland\"},{\"currency\":\"euro\",\"lpg\":\"0,764\",\"diesel\":\"1,856\",\"gasoline\":\"1,708\",\"country\":\"France\"},{\"currency\":\"euro\",\"lpg\":\"0,822\",\"diesel\":\"1,442\",\"gasoline\":\"1,281\",\"country\":\"Georgia\"},{\"currency\":\"euro\",\"lpg\":\"1,104\",\"diesel\":\"2,098\",\"gasoline\":\"1,982\",\"country\":\"Germany\"},{\"currency\":\"euro\",\"lpg\":\"0,999\",\"diesel\":\"1,940\",\"gasoline\":\"2,063\",\"country\":\"Greece\"},{\"currency\":\"euro\",\"lpg\":\"0,949\",\"diesel\":\"1,635\",\"gasoline\":\"1,482\",\"country\":\"Hungary\"},{\"currency\":\"euro\",\"lpg\":\"-\",\"diesel\":\"2,257\",\"gasoline\":\"2,251\",\"country\":\"Iceland\"},{\"currency\":\"euro\",\"lpg\":\"0,890\",\"diesel\":\"1,902\",\"gasoline\":\"1,786\",\"country\":\"Ireland\"},{\"currency\":\"euro\",\"lpg\":\"0,798\",\"diesel\":\"1,804\",\"gasoline\":\"1,715\",\"country\":\"Italy\"},{\"currency\":\"euro\",\"lpg\":\"-\",\"diesel\":\"1,004\",\"gasoline\":\"1,050\",\"country\":\"Kosovo\"},{\"currency\":\"euro\",\"lpg\":\"0,824\",\"diesel\":\"1,849\",\"gasoline\":\"1,781\",\"country\":\"Latvia\"},{\"currency\":\"euro\",\"lpg\":\"0,749\",\"diesel\":\"1,836\",\"gasoline\":\"1,722\",\"country\":\"Lithuania\"},{\"currency\":\"euro\",\"lpg\":\"0,816\",\"diesel\":\"1,897\",\"gasoline\":\"1,715\",\"country\":\"Luxembourg\"},{\"currency\":\"euro\",\"lpg\":\"0,787\",\"diesel\":\"1,474\",\"gasoline\":\"1,400\",\"country\":\"North Macedonia\"},{\"currency\":\"euro\",\"lpg\":\"-\",\"diesel\":\"1,228\",\"gasoline\":\"1,360\",\"country\":\"Malta\"},{\"currency\":\"euro\",\"lpg\":\"0,889\",\"diesel\":\"1,384\",\"gasoline\":\"1,326\",\"country\":\"Moldova\"},{\"currency\":\"euro\",\"lpg\":\"0,860\",\"diesel\":\"1,600\",\"gasoline\":\"1,480\",\"country\":\"Montenegro\"},{\"currency\":\"euro\",\"lpg\":\"0,963\",\"diesel\":\"1,925\",\"gasoline\":\"2,023\",\"country\":\"Netherlands\"},{\"currency\":\"euro\",\"lpg\":\"1,320\",\"diesel\":\"2,334\",\"gasoline\":\"2,262\",\"country\":\"Norway\"},{\"currency\":\"euro\",\"lpg\":\"0,646\",\"diesel\":\"1,560\",\"gasoline\":\"1,371\",\"country\":\"Poland\"},{\"currency\":\"euro\",\"lpg\":\"0,938\",\"diesel\":\"1,888\",\"gasoline\":\"1,853\",\"country\":\"Portugal\"},{\"currency\":\"euro\",\"lpg\":\"0,815\",\"diesel\":\"1,735\",\"gasoline\":\"1,484\",\"country\":\"Romania\"},{\"currency\":\"euro\",\"lpg\":\"0,357\",\"diesel\":\"0,862\",\"gasoline\":\"0,830\",\"country\":\"Russia\"},{\"currency\":\"euro\",\"lpg\":\"0,938\",\"diesel\":\"1,795\",\"gasoline\":\"1,495\",\"country\":\"Serbia\"},{\"currency\":\"euro\",\"lpg\":\"0,866\",\"diesel\":\"1,779\",\"gasoline\":\"1,689\",\"country\":\"Slovakia\"},{\"currency\":\"euro\",\"lpg\":\"1,013\",\"diesel\":\"1,690\",\"gasoline\":\"1,454\",\"country\":\"Slovenia\"},{\"currency\":\"euro\",\"lpg\":\"1,044\",\"diesel\":\"1,893\",\"gasoline\":\"1,782\",\"country\":\"Spain\"},{\"currency\":\"euro\",\"lpg\":\"1,250\",\"diesel\":\"2,446\",\"gasoline\":\"1,984\",\"country\":\"Sweden\"},{\"currency\":\"euro\",\"lpg\":\"1,069\",\"diesel\":\"2,232\",\"gasoline\":\"1,974\",\"country\":\"Switzerland\"},{\"currency\":\"euro\",\"lpg\":\"0,577\",\"diesel\":\"1,420\",\"gasoline\":\"1,168\",\"country\":\"Turkey\"},{\"currency\":\"euro\",\"lpg\":\"-\",\"diesel\":\"1,384\",\"gasoline\":\"1,051\",\"country\":\"U.S.A\"},{\"currency\":\"euro\",\"lpg\":\"0,738\",\"diesel\":\"1,415\",\"gasoline\":\"1,297\",\"country\":\"Ukraine\"},{\"currency\":\"euro\",\"lpg\":\"0,878\",\"diesel\":\"2,090\",\"gasoline\":\"1,904\",\"country\":\"United Kingdom\"}],\"success\":true}\n"
     ]
    }
   ],
   "source": [
    "import requests\n",
    "\n",
    "url = \"https://gas-price.p.rapidapi.com/europeanCountries\"\n",
    "\n",
    "headers = {\n",
    "\t\"X-RapidAPI-Key\": \"093c731fb9mshd2b4db3a5a833acp172c94jsn194a4fa97d9b\",\n",
    "\t\"X-RapidAPI-Host\": \"gas-price.p.rapidapi.com\"\n",
    "}\n",
    "\n",
    "response = requests.request(\"GET\", url, headers=headers)\n",
    "\n",
    "print(response.text)"
   ]
  },
  {
   "cell_type": "code",
   "execution_count": 4,
   "metadata": {},
   "outputs": [
    {
     "ename": "AttributeError",
     "evalue": "'str' object has no attribute 'items'",
     "output_type": "error",
     "traceback": [
      "\u001b[0;31m---------------------------------------------------------------------------\u001b[0m",
      "\u001b[0;31mAttributeError\u001b[0m                            Traceback (most recent call last)",
      "\u001b[1;32m/Users/samitpoojary/vscode/fastpages/_notebooks/2022-10-10-Rapid-API.ipynb Cell 4\u001b[0m in \u001b[0;36m<cell line: 12>\u001b[0;34m()\u001b[0m\n\u001b[1;32m     <a href='vscode-notebook-cell:/Users/samitpoojary/vscode/fastpages/_notebooks/2022-10-10-Rapid-API.ipynb#W3sZmlsZQ%3D%3D?line=10'>11</a>\u001b[0m \u001b[39mall\u001b[39m \u001b[39m=\u001b[39m response\u001b[39m.\u001b[39mjson()\n\u001b[1;32m     <a href='vscode-notebook-cell:/Users/samitpoojary/vscode/fastpages/_notebooks/2022-10-10-Rapid-API.ipynb#W3sZmlsZQ%3D%3D?line=11'>12</a>\u001b[0m \u001b[39mfor\u001b[39;00m x \u001b[39min\u001b[39;00m \u001b[39mall\u001b[39m:\n\u001b[0;32m---> <a href='vscode-notebook-cell:/Users/samitpoojary/vscode/fastpages/_notebooks/2022-10-10-Rapid-API.ipynb#W3sZmlsZQ%3D%3D?line=12'>13</a>\u001b[0m \t\u001b[39mfor\u001b[39;00m key, value \u001b[39min\u001b[39;00m x\u001b[39m.\u001b[39;49mitems():\n\u001b[1;32m     <a href='vscode-notebook-cell:/Users/samitpoojary/vscode/fastpages/_notebooks/2022-10-10-Rapid-API.ipynb#W3sZmlsZQ%3D%3D?line=13'>14</a>\u001b[0m \t\t\u001b[39mif\u001b[39;00m (key \u001b[39m==\u001b[39m \u001b[39m\"\u001b[39m\u001b[39mcurrency\u001b[39m\u001b[39m\"\u001b[39m):\n\u001b[1;32m     <a href='vscode-notebook-cell:/Users/samitpoojary/vscode/fastpages/_notebooks/2022-10-10-Rapid-API.ipynb#W3sZmlsZQ%3D%3D?line=14'>15</a>\u001b[0m \t\t\t\u001b[39mprint\u001b[39m(\u001b[39m\"\u001b[39m\u001b[39mCurrency:\u001b[39m\u001b[39m\"\u001b[39m, value)\n",
      "\u001b[0;31mAttributeError\u001b[0m: 'str' object has no attribute 'items'"
     ]
    }
   ],
   "source": [
    "import requests\n",
    "\n",
    "url = \"https://gas-price.p.rapidapi.com/europeanCountries\"\n",
    "\n",
    "headers = {\n",
    "\t\"X-RapidAPI-Key\": \"093c731fb9mshd2b4db3a5a833acp172c94jsn194a4fa97d9b\",\n",
    "\t\"X-RapidAPI-Host\": \"gas-price.p.rapidapi.com\"\n",
    "}\n",
    "\n",
    "response = requests.request(\"GET\", url, headers=headers)\n",
    "all = response.json()\n",
    "for x in all:\n",
    "\tfor key, value in x.items():\n",
    "\t\tif (key == \"currency\"):\n",
    "\t\t\tprint(\"Currency:\", value)\n",
    "\t\tif (key == \"lpg\"):\n",
    "\t\t\tprint(\"Liquified Petroleum Gas:\", value)\n",
    "\t\tif (key == \"diesel\"):\n",
    "\t\t\tprint (\"Diesel:\", value)\n",
    "\t\tif (key == \"gasoline\"):\n",
    "\t\t\tprint (\"Gasoline:\", value)\n",
    "\t\tif (key == \"country\"):\n",
    "\t\t\tprint (\"Country:\", value)"
   ]
  }
 ],
 "metadata": {
  "kernelspec": {
   "display_name": "Python 3.9.12",
   "language": "python",
   "name": "python3"
  },
  "language_info": {
   "codemirror_mode": {
    "name": "ipython",
    "version": 3
   },
   "file_extension": ".py",
   "mimetype": "text/x-python",
   "name": "python",
   "nbconvert_exporter": "python",
   "pygments_lexer": "ipython3",
   "version": "3.9.12 (main, Apr  5 2022, 01:53:17) \n[Clang 12.0.0 ]"
  },
  "orig_nbformat": 4,
  "vscode": {
   "interpreter": {
    "hash": "40d3a090f54c6569ab1632332b64b2c03c39dcf918b08424e98f38b5ae0af88f"
   }
  }
 },
 "nbformat": 4,
 "nbformat_minor": 2
}
