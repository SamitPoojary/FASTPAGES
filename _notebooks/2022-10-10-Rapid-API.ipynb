{
 "cells": [
  {
   "cell_type": "markdown",
   "metadata": {},
   "source": [
    "# Testing out the Features of Rapid API\n",
    "> Gas Prices Throughout the World\n",
    "\n",
    "- title: Testing out Rapid API\n",
    "- toc: false\n",
    "- badges: true\n",
    "- categories: [python, jupyter, notes]"
   ]
  },
  {
   "cell_type": "code",
   "execution_count": 14,
   "metadata": {},
   "outputs": [
    {
     "name": "stdout",
     "output_type": "stream",
     "text": [
      "{\"results\":[{\"currency\":\"euro\",\"lpg\":\"0,655\",\"diesel\":\"1,956\",\"gasoline\":\"1,757\",\"country\":\"Albania\"},{\"currency\":\"euro\",\"lpg\":\"-\",\"diesel\":\"1,651\",\"gasoline\":\"1,672\",\"country\":\"Andorra\"},{\"currency\":\"euro\",\"lpg\":\"0,608\",\"diesel\":\"1,147\",\"gasoline\":\"1,217\",\"country\":\"Armenia\"},{\"currency\":\"euro\",\"lpg\":\"1,250\",\"diesel\":\"1,942\",\"gasoline\":\"1,743\",\"country\":\"Austria\"},{\"currency\":\"euro\",\"lpg\":\"0,542\",\"diesel\":\"0,937\",\"gasoline\":\"0,937\",\"country\":\"Belarus\"},{\"currency\":\"euro\",\"lpg\":\"0,796\",\"diesel\":\"2,070\",\"gasoline\":\"1,875\",\"country\":\"Belgium\"},{\"currency\":\"euro\",\"lpg\":\"0,822\",\"diesel\":\"1,647\",\"gasoline\":\"1,463\",\"country\":\"Bosnia and Herzegovina\"},{\"currency\":\"euro\",\"lpg\":\"0,583\",\"diesel\":\"1,667\",\"gasoline\":\"1,513\",\"country\":\"Bulgaria\"},{\"currency\":\"euro\",\"lpg\":\"0,951\",\"diesel\":\"1,766\",\"gasoline\":\"1,458\",\"country\":\"Croatia\"},{\"currency\":\"euro\",\"lpg\":\"-\",\"diesel\":\"1,814\",\"gasoline\":\"1,469\",\"country\":\"Cyprus\"},{\"currency\":\"euro\",\"lpg\":\"0,757\",\"diesel\":\"1,775\",\"gasoline\":\"1,630\",\"country\":\"Czech Republic\"},{\"currency\":\"euro\",\"lpg\":\"-\",\"diesel\":\"2,115\",\"gasoline\":\"2,106\",\"country\":\"Denmark\"},{\"currency\":\"euro\",\"lpg\":\"0,888\",\"diesel\":\"1,853\",\"gasoline\":\"1,862\",\"country\":\"Estonia\"},{\"currency\":\"euro\",\"lpg\":\"-\",\"diesel\":\"2,159\",\"gasoline\":\"2,096\",\"country\":\"Finland\"},{\"currency\":\"euro\",\"lpg\":\"0,770\",\"diesel\":\"1,868\",\"gasoline\":\"1,712\",\"country\":\"France\"},{\"currency\":\"euro\",\"lpg\":\"0,822\",\"diesel\":\"1,442\",\"gasoline\":\"1,281\",\"country\":\"Georgia\"},{\"currency\":\"euro\",\"lpg\":\"1,104\",\"diesel\":\"2,098\",\"gasoline\":\"1,982\",\"country\":\"Germany\"},{\"currency\":\"euro\",\"lpg\":\"0,999\",\"diesel\":\"1,940\",\"gasoline\":\"2,063\",\"country\":\"Greece\"},{\"currency\":\"euro\",\"lpg\":\"0,949\",\"diesel\":\"1,635\",\"gasoline\":\"1,482\",\"country\":\"Hungary\"},{\"currency\":\"euro\",\"lpg\":\"-\",\"diesel\":\"2,257\",\"gasoline\":\"2,251\",\"country\":\"Iceland\"},{\"currency\":\"euro\",\"lpg\":\"0,890\",\"diesel\":\"1,882\",\"gasoline\":\"1,774\",\"country\":\"Ireland\"},{\"currency\":\"euro\",\"lpg\":\"0,798\",\"diesel\":\"1,804\",\"gasoline\":\"1,715\",\"country\":\"Italy\"},{\"currency\":\"euro\",\"lpg\":\"-\",\"diesel\":\"1,004\",\"gasoline\":\"1,050\",\"country\":\"Kosovo\"},{\"currency\":\"euro\",\"lpg\":\"0,824\",\"diesel\":\"1,849\",\"gasoline\":\"1,781\",\"country\":\"Latvia\"},{\"currency\":\"euro\",\"lpg\":\"0,749\",\"diesel\":\"1,836\",\"gasoline\":\"1,718\",\"country\":\"Lithuania\"},{\"currency\":\"euro\",\"lpg\":\"0,816\",\"diesel\":\"1,897\",\"gasoline\":\"1,715\",\"country\":\"Luxembourg\"},{\"currency\":\"euro\",\"lpg\":\"0,787\",\"diesel\":\"1,474\",\"gasoline\":\"1,400\",\"country\":\"North Macedonia\"},{\"currency\":\"euro\",\"lpg\":\"-\",\"diesel\":\"1,228\",\"gasoline\":\"1,360\",\"country\":\"Malta\"},{\"currency\":\"euro\",\"lpg\":\"0,883\",\"diesel\":\"1,353\",\"gasoline\":\"1,307\",\"country\":\"Moldova\"},{\"currency\":\"euro\",\"lpg\":\"0,860\",\"diesel\":\"1,600\",\"gasoline\":\"1,480\",\"country\":\"Montenegro\"},{\"currency\":\"euro\",\"lpg\":\"0,963\",\"diesel\":\"1,912\",\"gasoline\":\"2,017\",\"country\":\"Netherlands\"},{\"currency\":\"euro\",\"lpg\":\"1,320\",\"diesel\":\"2,334\",\"gasoline\":\"2,262\",\"country\":\"Norway\"},{\"currency\":\"euro\",\"lpg\":\"0,646\",\"diesel\":\"1,552\",\"gasoline\":\"1,369\",\"country\":\"Poland\"},{\"currency\":\"euro\",\"lpg\":\"0,938\",\"diesel\":\"1,872\",\"gasoline\":\"1,842\",\"country\":\"Portugal\"},{\"currency\":\"euro\",\"lpg\":\"0,815\",\"diesel\":\"1,734\",\"gasoline\":\"1,484\",\"country\":\"Romania\"},{\"currency\":\"euro\",\"lpg\":\"0,358\",\"diesel\":\"0,864\",\"gasoline\":\"0,832\",\"country\":\"Russia\"},{\"currency\":\"euro\",\"lpg\":\"0,938\",\"diesel\":\"1,786\",\"gasoline\":\"1,487\",\"country\":\"Serbia\"},{\"currency\":\"euro\",\"lpg\":\"0,866\",\"diesel\":\"1,779\",\"gasoline\":\"1,689\",\"country\":\"Slovakia\"},{\"currency\":\"euro\",\"lpg\":\"1,013\",\"diesel\":\"1,690\",\"gasoline\":\"1,454\",\"country\":\"Slovenia\"},{\"currency\":\"euro\",\"lpg\":\"1,044\",\"diesel\":\"1,885\",\"gasoline\":\"1,778\",\"country\":\"Spain\"},{\"currency\":\"euro\",\"lpg\":\"1,250\",\"diesel\":\"2,425\",\"gasoline\":\"1,971\",\"country\":\"Sweden\"},{\"currency\":\"euro\",\"lpg\":\"1,069\",\"diesel\":\"2,232\",\"gasoline\":\"1,974\",\"country\":\"Switzerland\"},{\"currency\":\"euro\",\"lpg\":\"0,572\",\"diesel\":\"1,385\",\"gasoline\":\"1,161\",\"country\":\"Turkey\"},{\"currency\":\"euro\",\"lpg\":\"-\",\"diesel\":\"1,384\",\"gasoline\":\"1,051\",\"country\":\"U.S.A\"},{\"currency\":\"euro\",\"lpg\":\"0,732\",\"diesel\":\"1,410\",\"gasoline\":\"1,292\",\"country\":\"Ukraine\"},{\"currency\":\"euro\",\"lpg\":\"0,874\",\"diesel\":\"2,087\",\"gasoline\":\"1,904\",\"country\":\"United Kingdom\"}],\"success\":true}\n"
     ]
    }
   ],
   "source": [
    "import requests\n",
    "\n",
    "url = \"https://gas-price.p.rapidapi.com/europeanCountries\"\n",
    "\n",
    "headers = {\n",
    "\t\"X-RapidAPI-Key\": \"093c731fb9mshd2b4db3a5a833acp172c94jsn194a4fa97d9b\",\n",
    "\t\"X-RapidAPI-Host\": \"gas-price.p.rapidapi.com\"\n",
    "}\n",
    "\n",
    "response = requests.request(\"GET\", url, headers=headers)\n",
    "\n",
    "print(response.text)"
   ]
  }
 ],
 "metadata": {
  "kernelspec": {
   "display_name": "Python 3.9.12",
   "language": "python",
   "name": "python3"
  },
  "language_info": {
   "codemirror_mode": {
    "name": "ipython",
    "version": 3
   },
   "file_extension": ".py",
   "mimetype": "text/x-python",
   "name": "python",
   "nbconvert_exporter": "python",
   "pygments_lexer": "ipython3",
   "version": "3.9.12"
  },
  "orig_nbformat": 4,
  "vscode": {
   "interpreter": {
    "hash": "40d3a090f54c6569ab1632332b64b2c03c39dcf918b08424e98f38b5ae0af88f"
   }
  }
 },
 "nbformat": 4,
 "nbformat_minor": 2
}
