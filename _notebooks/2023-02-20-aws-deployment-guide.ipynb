{
 "cells": [
  {
   "attachments": {},
   "cell_type": "markdown",
   "metadata": {},
   "source": [
    "# AWS Deployment Guide\n",
    "> A step-by-step guide and description of methods and processes for deploying your Flask website. \n",
    "\n",
    "> AWS EC2, docker-comnpose, Nginx, Docker, etc.\n",
    "\n",
    "- toc: true\n",
    "- badges: false"
   ]
  },
  {
   "attachments": {},
   "cell_type": "markdown",
   "metadata": {},
   "source": [
    "## Accessing AWS and Server Setup\n",
    "\n",
    "> Amazon Web Services - Electric Cloud Compute Setup\n",
    "\n",
    "- First, head over to [AWS](https://signin.aws.amazon.com/signin?redirect_uri=https%3A%2F%2Faws.amazon.com%2Fmarketplace%2Fmanagement%2Fsignin%3Fstate%3DhashArgs%2523%26isauthcode%3Dtrue&client_id=arn%3Aaws%3Aiam%3A%3A015428540659%3Auser%2Faws-mp-seller-management-portal&forceMobileApp=0&code_challenge=THsilLdgva3JIi0fNok6wZKstoMR3YEyjRDJYJfjT7A&code_challenge_method=SHA-256) and select the \"Instances\" dropdown. Once you click \"Instances\" you will see a couple different ones pop up. Based on who your teacher is, select one of the following. \n",
    "\n",
    "<img src=\"https://user-images.githubusercontent.com/109186517/220186519-ca92be0c-c9e6-4173-bbdb-9715a13a8a69.png\">"
   ]
  },
  {
   "attachments": {},
   "cell_type": "markdown",
   "metadata": {},
   "source": [
    "Once here, run the following line of code to observe the ports which are currently in use. \n",
    "\n",
    "```bash\n",
    "$ sudo docker ps \n",
    "``` "
   ]
  },
  {
   "attachments": {},
   "cell_type": "markdown",
   "metadata": {},
   "source": [
    "## Docker and docker-compose.yml\n",
    "\n",
    "- Update docker-compose.yml and Docker files on corresponding VSCode, on your local machine\n",
    "- Choose a port which is not in use and then change docker-compose.yml to the new, unused port you have decided upon. Should be in the following format: xxx:8086 where xxx is new port\n",
    "\n",
    "### Dockerfile:\n",
    "\n",
    "- Now you want to check that your Dockerfile matches the following:\n",
    "\n",
    "\n",
    "\n",
    "``` bash\n",
    "FROM docker.io/python:3.10\n",
    "\n",
    "WORKDIR /\n",
    "\n",
    "# --- [Install python and pip] ---\n",
    "RUN apt-get update && apt-get upgrade -y && \\\n",
    "    apt-get install -y python3 python3-pip git\n",
    "COPY . /app\n",
    "\n",
    "RUN pip install --no-cache-dir -r requirements.txt\n",
    "RUN pip install gunicorn\n",
    "\n",
    "ENV GUNICORN_CMD_ARGS=\"--workers=3 --bind=0.0.0.0:8080\"\n",
    "\n",
    "EXPOSE 8080\n",
    "\n",
    "CMD [ \"gunicorn\", \"main:app\" ]\n",
    "```\n",
    "\n",
    "\n",
    "\n",
    "- Now, run  ``` bash\n",
    "sudo docker-compose up\n",
    "``` in VSCode terminal to make sure it builds correctly. "
   ]
  },
  {
   "attachments": {},
   "cell_type": "markdown",
   "metadata": {},
   "source": [
    "- Error-proofing! If any errors occur in terminal you will need to revise previous steps. Work in small steps to succeed, test as you go to make sure everything is working in accordance.\n",
    "\n",
    "- Once everything is working, no errors in site, stage and commit all changes to the docker-compose.yml, and of course, to the Docker."
   ]
  },
  {
   "attachments": {},
   "cell_type": "markdown",
   "metadata": {},
   "source": [
    "## Cloning and Relocating Project Location\n",
    "\n",
    "- On AWS, go back to the instance you chose, either Mr. Mort's or Mr. Yeung's. \n",
    "- Once you are in the instace, run \n",
    "\n",
    "```bash\n",
    "ls \n",
    "```"
   ]
  },
  {
   "attachments": {},
   "cell_type": "markdown",
   "metadata": {},
   "source": [
    "- this allows you to check other repo names, so don't select the name of one which already appears once you run this"
   ]
  },
  {
   "attachments": {},
   "cell_type": "markdown",
   "metadata": {},
   "source": [
    "- Now run the following: \n",
    "\n",
    "```bash\n",
    "$ cd\n",
    "$ git clone https://github.com/nighthawkcoders/flask_portfolio.git #input your own GitHub HTTPs link here, not Mr. Mort's. This was just for example\n",
    "$ cd input-yours\n",
    "```"
   ]
  },
  {
   "attachments": {},
   "cell_type": "markdown",
   "metadata": {},
   "source": [
    "- Now that you will be cd'd into your repo, run this:\n",
    "\n",
    "```bash\n",
    "docker-compose up -d --build \n",
    "```"
   ]
  },
  {
   "attachments": {},
   "cell_type": "markdown",
   "metadata": {},
   "source": [
    "- To make sure app is up and running, run\n",
    "\n",
    "```bash\n",
    "curl localhost:xxx # where xxx is the port you selected from earlier\n",
    "```"
   ]
  },
  {
   "attachments": {},
   "cell_type": "markdown",
   "metadata": {},
   "source": [
    "#  Testing Docker Web using IP\n",
    "\n",
    "- Enabling Nginx is crucial"
   ]
  },
  {
   "attachments": {},
   "cell_type": "markdown",
   "metadata": {},
   "source": [
    "- Install Nginx:\n",
    "```bash\n",
    "$ sudo apt install nginx\n",
    "```"
   ]
  },
  {
   "attachments": {},
   "cell_type": "markdown",
   "metadata": {},
   "source": [
    "- Go into directory of Nginx files\n",
    "```bash\n",
    "$ cd /etc/nginx/sites-available\n",
    "```"
   ]
  },
  {
   "attachments": {},
   "cell_type": "markdown",
   "metadata": {},
   "source": [
    "- Open editor to simulate your personal Nginx configuration\n",
    "```bash\n",
    "$ sudo nano input-yours # input name of whatever your nginx file is called\n",
    "```"
   ]
  },
  {
   "attachments": {},
   "cell_type": "markdown",
   "metadata": {},
   "source": [
    "- Now edit your Nginx server configuration, specifically, modify the following:\n",
    "    - IP Address: \n",
    "    - docker-compose, proxy pass Port: 8086\n",
    "\n",
    "- Must Do's\n",
    "\n",
    "- establish unique, valid name for nginx file\n",
    "- Duck DNS name for server - see Jeffrey's guide [here](https://moonpiedumplings.github.io/quartotest/posts/duckdns/). \n",
    "\n",
    "- Use format below to write into your congif file:\n",
    "```nginx\n",
    "server {\n",
    "    listen 80;\n",
    "    listen [::]:80;\n",
    "    server_name 3.233.212.71;\n",
    "    location / {\n",
    "        proxy_pass http://localhost:8086;\n",
    "        # Simple requests\n",
    "        if ($request_method ~* \"(GET|POST)\") {\n",
    "                add_header \"Access-Control-Allow-Origin\"  *;\n",
    "        }\n",
    "        # Preflight requests\n",
    "        if ($request_method = OPTIONS ) {\n",
    "                add_header \"Access-Control-Allow-Origin\"  *;\n",
    "                add_header \"Access-Control-Allow-Methods\" \"GET, POST, OPTIONS, HEAD\";\n",
    "                add_header \"Access-Control-Allow-Headers\" \"Authorization, Origin, X-Requested-With, Content-Type, Accept\";\n",
    "                return 200;\n",
    "        }\n",
    "    }\n",
    "}\n",
    "```\n"
   ]
  },
  {
   "attachments": {},
   "cell_type": "markdown",
   "metadata": {},
   "source": [
    "## Time to Activate Nginx Config\n",
    "\n",
    "- Enable your Nginx server config\n",
    "```bash\n",
    "$ sudo ln -s /etc/nginx/sites-available/input-yours /etc/nginx/sites-enabled # input name of your nginx file\n",
    "$ sudo nginx -t\n",
    "```"
   ]
  },
  {
   "attachments": {},
   "cell_type": "markdown",
   "metadata": {},
   "source": [
    "- Again, error proof!\n",
    "- Check documentation to make sure you aren't missing any semicolon at end of server, or proxy_pass code. \n",
    "- If there aren't any errors, restart your nginx so that the server can activate the files\n",
    "```bash\n",
    "$ sudo systemctl restart nginx\n",
    "```\n",
    "\n"
   ]
  },
  {
   "attachments": {},
   "cell_type": "markdown",
   "metadata": {},
   "source": [
    "- make sure server is running on live browser\n",
    "- you can do this by doing http://(name of your domain)\n"
   ]
  },
  {
   "attachments": {},
   "cell_type": "markdown",
   "metadata": {},
   "source": [
    "## Prep Docker Web App through DNS"
   ]
  },
  {
   "attachments": {},
   "cell_type": "markdown",
   "metadata": {},
   "source": [
    "- certbot config:\n",
    "```bash\n",
    "$ sudo certbot --nginx\n",
    "```"
   ]
  },
  {
   "attachments": {},
   "cell_type": "markdown",
   "metadata": {},
   "source": [
    "Ideally, you should see this...\n"
   ]
  },
  {
   "attachments": {},
   "cell_type": "markdown",
   "metadata": {},
   "source": [
    "```\n",
    "Saving debug log to /var/log/letsencrypt/letsencrypt.log\n",
    "Plugins selected: Authenticator nginx, Installer nginx\n",
    "\n",
    "Which names would you like to activate HTTPS for?\n",
    "- - - - - - - - - - - - - - - - - - - - - - - - - - - - - - - - - - - - - - - -\n",
    "1: coolcodersjava.pw\n",
    "2: www.coolcodersjava.pw\n",
    "3: ajarcade.duckdns.org\n",
    "4: flowhealth.duckdns.org\n",
    "5: goatedgroup.duckdns.org\n",
    "6: jasj-inventory.duckdns.org\n",
    "7: recipies.duckdns.org\n",
    "8: ssvgcars.duckdns.org\n",
    "9: userapi.duckdns.org\n",
    "10: fr0st.ml\n",
    "11: www.fr0st.ml\n",
    "12: agenda.nighthawkcodescrums.gq\n",
    "13: coolcoders.nighthawkcodescrums.gq\n",
    "14: escaperoom.nighthawkcodescrums.gq\n",
    "15: frost.nighthawkcodescrums.gq\n",
    "16: jame.nighthawkcodescrums.gq\n",
    "17: lawnmowers.nighthawkcodescrums.gq\n",
    "18: loopholegames.nighthawkcodescrums.gq\n",
    "19: musicmania.nighthawkcodescrums.gq\n",
    "20: nba.nighthawkcodescrums.gq\n",
    "21: sadv.nighthawkcodescrums.gq\n",
    "22: ssjn.nighthawkcodescrums.gq\n",
    "23: stocks.nighthawkcodescrums.gq\n",
    "24: striver.nighthawkcodescrums.gq\n",
    "25: tngc.nighthawkcodescrums.gq\n",
    "26: white.nighthawkcodescrums.gq\n",
    "27: workwatch.nighthawkcodescrums.gq\n",
    "28: cars.nighthawkcodingsociety.com\n",
    "29: dolphin.nighthawkcodingsociety.com\n",
    "30: saakd.nighthawkcodingsociety.com\n",
    "31: pythonalflask.tk\n",
    "32: www.pythonalflask.tk\n",
    "33: teambrobro.tk\n",
    "34: www.teambrobro.tk\n",
    "35: teamcheeseatimetime.tk\n",
    "36: www.teamcheeseatimetime.tk\n",
    "- - - - - - - - - - - - - - - - - - - - - - - - - - - - - - - - - - - - - - - -\n",
    "Select the appropriate numbers separated by commas and/or spaces, or leave input\n",
    "blank to select all options shown (Enter 'c' to cancel): # ENTER YOUR CORRESPONDING NUMBER\n",
    "\n",
    "Cert not yet due for renewal\n",
    "\n",
    "You have an existing certificate that has exactly the same domains or certificate name you requested and isn't close to expiry.\n",
    "(ref: /etc/letsencrypt/renewal/nighthawkcodingsociety.com-0001.conf)\n",
    "\n",
    "What would you like to do?\n",
    "- - - - - - - - - - - - - - - - - - - - - - - - - - - - - - - - - - - - - - - -\n",
    "1: Attempt to reinstall this existing certificate\n",
    "2: Renew & replace the cert (limit ~5 per 7 days)\n",
    "- - - - - - - - - - - - - - - - - - - - - - - - - - - - - - - - - - - - - - - -\n",
    "Select the appropriate number [1-2] then [enter] (press 'c' to cancel): 2\n",
    "Renewing an existing certificate\n",
    "Performing the following challenges:\n",
    "http-01 challenge for nighthawkcodingsociety.com\n",
    "http-01 challenge for csa.nighthawkcodingsociety.com\n",
    "http-01 challenge for cso.nighthawkcodingsociety.com\n",
    "http-01 challenge for flm.nighthawkcodingsociety.com\n",
    "Waiting for verification...\n",
    "Cleaning up challenges\n",
    "Deploying Certificate to VirtualHost /etc/nginx/sites-enabled/nighthawk_society\n",
    "Deploying Certificate to VirtualHost /etc/nginx/sites-enabled/nighthawk_csa\n",
    "Deploying Certificate to VirtualHost /etc/nginx/sites-enabled/nighthawk_csp\n",
    "Deploying Certificate to VirtualHost /etc/nginx/sites-enabled/nighthawk_flm\n",
    "\n",
    "Please choose whether or not to redirect HTTP traffic to HTTPS, removing HTTP access.\n",
    "- - - - - - - - - - - - - - - - - - - - - - - - - - - - - - - - - - - - - - - -\n",
    "1: No redirect - Make no further changes to the webserver configuration.\n",
    "2: Redirect - Make all requests redirect to secure HTTPS access. Choose this for\n",
    "new sites, or if you're confident your site works on HTTPS. You can undo this\n",
    "change by editing your web server's configuration.\n",
    "- - - - - - - - - - - - - - - - - - - - - - - - - - - - - - - - - - - - - - - -\n",
    "Select the appropriate number [1-2] then [enter] (press 'c' to cancel): 2\n",
    "Traffic on port 80 already redirecting to ssl in /etc/nginx/sites-enabled/nighthawk_society\n",
    "Traffic on port 80 already redirecting to ssl in /etc/nginx/sites-enabled/nighthawk_csa\n",
    "Traffic on port 80 already redirecting to ssl in /etc/nginx/sites-enabled/nighthawk_csp\n",
    "Traffic on port 80 already redirecting to ssl in /etc/nginx/sites-enabled/nighthawk_flm\n",
    "\n",
    "- - - - - - - - - - - - - - - - - - - - - - - - - - - - - - - - - - - - - - - -\n",
    "Your existing certificate has been successfully renewed, and the new certificate\n",
    "has been installed.\n",
    "\n",
    "The new certificate covers the following domains:\n",
    "https://nighthawkcodingsociety.com, \n",
    "https://csa.nighthawkcodingsociety.com, \n",
    "https://csp.nighthawkcodingsociety.com, and\n",
    "https://flm.nighthawkcodingsociety.com,\n",
    "\n",
    "You should test your configuration at:\n",
    "https://www.ssllabs.com/ssltest/analyze.html?d=nighthawkcodingsociety.com\n",
    "https://www.ssllabs.com/ssltest/analyze.html?d=csa.nighthawkcodingsociety.com\n",
    "https://www.ssllabs.com/ssltest/analyze.html?d=csp.nighthawkcodingsociety.com\n",
    "https://www.ssllabs.com/ssltest/analyze.html?d=flm.nighthawkcodingsociety.com\n",
    "- - - - - - - - - - - - - - - - - - - - - - - - - - - - - - - - - - - - - - - -\n",
    "\n",
    "IMPORTANT NOTES:\n",
    " - Congratulations! Your certificate and chain have been saved at:\n",
    "   /etc/letsencrypt/live/nighthawkcodingsociety.com-0001/fullchain.pem\n",
    "   Your key file has been saved at:\n",
    "   /etc/letsencrypt/live/nighthawkcodingsociety.com-0001/privkey.pem\n",
    "   Your cert will expire on 2022-03-06. To obtain a new or tweaked\n",
    "   version of this certificate in the future, simply run certbot again\n",
    "   with the \"certonly\" option. To non-interactively renew *all* of\n",
    "   your certificates, run \"certbot renew\"\n",
    " - If you like Certbot, please consider supporting our work by:\n",
    "\n",
    "   Donating to ISRG / Let's Encrypt:   https://letsencrypt.org/donate\n",
    "   Donating to EFF:                    https://eff.org/donate-le\n",
    "```"
   ]
  },
  {
   "attachments": {},
   "cell_type": "markdown",
   "metadata": {},
   "source": [
    "## Nearing Completion!\n",
    "\n",
    "- You should be nearly done! \n",
    "\n",
    "- Now, you want to update deployment. To update all your code, run the following;\n",
    "```bash\n",
    "$ sudo docker-compose kill\n",
    "Killing flask_portfolio_web_1 ... done\n",
    "```\n"
   ]
  },
  {
   "attachments": {},
   "cell_type": "markdown",
   "metadata": {},
   "source": [
    "- You may see an error, now, so run git pull. \n",
    "\n",
    "```bash\n",
    "$ git pull \n",
    "```"
   ]
  },
  {
   "attachments": {},
   "cell_type": "markdown",
   "metadata": {},
   "source": [
    "- Now rebuild...\n",
    "```bash\n",
    "$ sudo docker-compose build --no-cache\n",
    "```"
   ]
  },
  {
   "attachments": {},
   "cell_type": "markdown",
   "metadata": {},
   "source": [
    "- All you have to do now is run\n",
    "\n",
    "```bash\n",
    "$ sudo docker-compose up -d\n",
    "Recreating flask_portfolio_web_1 ... done\n",
    "```"
   ]
  },
  {
   "attachments": {},
   "cell_type": "markdown",
   "metadata": {},
   "source": [
    "- If this works succesfully, you should see your server back up with any changes or updates you just made to it. Congrats!"
   ]
  }
 ],
 "metadata": {
  "kernelspec": {
   "display_name": "Python 3",
   "language": "python",
   "name": "python3"
  },
  "language_info": {
   "name": "python",
   "version": "3.9.12"
  },
  "orig_nbformat": 4,
  "vscode": {
   "interpreter": {
    "hash": "40d3a090f54c6569ab1632332b64b2c03c39dcf918b08424e98f38b5ae0af88f"
   }
  }
 },
 "nbformat": 4,
 "nbformat_minor": 2
}
