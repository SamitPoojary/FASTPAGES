{
 "cells": [
  {
   "cell_type": "markdown",
   "metadata": {},
   "source": [
    "# Unit 3 Sections 5-7\n",
    "\n",
    "- title: Teaching Plan - Booleans and Conditionals\n",
    "- comments: false\n",
    "- badges: false\n",
    "- categories: [notebooks]"
   ]
  },
  {
   "cell_type": "markdown",
   "metadata": {},
   "source": [
    "Lesson by Samit\n",
    "\n",
    "# Lesson Overview: 3.5 - Boolean Expressions\n",
    "- Here we will focus on:\n",
    "    - relational operators and variable/expression/number relationships\n",
    "    - logical operators\n",
    "    - applications of True/False expressions\n",
    "\n",
    "## Must Knows\n",
    "- A Boolean value is either TRUE or FALSE\n",
    "- The AP Exam will provide you with a reference sheet with the operators below.\n",
    "\n",
    "![]({{site.baseurl}}/images/operators.png)\n",
    "\n",
    "- A few ways these operators could be used...\n",
    "\n",
    "![]({{site.baseurl}}/images/operators2.png)\n",
    "\n",
    "## Determing if a number is Even or Odd:\n",
    "- The MOD operator can determine whether or not a number is even, because it checks what the remainder would be if said number is divided by 2\n",
    "\n",
    "![]({{site.baseurl}}/images/operators3.png)\n",
    "\n",
    "- Here, the operator checks what the remainder would be if \"num\" is divided by 2, and since it is 0, \"num\" must be an even number\n",
    "\n",
    "## Try this!\n",
    "- How could you use operators to determine if the average of grade1, grade2, and grade3 is at least a 70?\n",
    "\n",
    "![]({{site.baseurl}}/images/operators4.png)"
   ]
  }
 ],
 "metadata": {
  "kernelspec": {
   "display_name": "Python 3.9.12",
   "language": "python",
   "name": "python3"
  },
  "language_info": {
   "name": "python",
   "version": "3.9.12"
  },
  "orig_nbformat": 4,
  "vscode": {
   "interpreter": {
    "hash": "40d3a090f54c6569ab1632332b64b2c03c39dcf918b08424e98f38b5ae0af88f"
   }
  }
 },
 "nbformat": 4,
 "nbformat_minor": 2
}
