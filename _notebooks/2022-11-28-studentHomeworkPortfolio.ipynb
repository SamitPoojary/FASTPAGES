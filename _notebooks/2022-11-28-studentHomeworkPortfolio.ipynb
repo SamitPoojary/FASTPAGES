{
 "cells": [
  {
   "attachments": {},
   "cell_type": "markdown",
   "metadata": {},
   "source": [
    "# Student Portfolio\n",
    "> Completing Student Notes and Homework\n",
    "\n",
    "- title: Student Portfolio\n",
    "- toc: true\n",
    "- badges: false\n",
    "- permalink: /week14/studentHomeworkPortfolio\n",
    "- categories: [week 14, student learning portfolio]"
   ]
  },
  {
   "attachments": {},
   "cell_type": "markdown",
   "metadata": {},
   "source": [
    "# [Vocab](https://samitpoojary.github.io/FASTPAGES/student%20learning%20portfolio/2022/12/06/vocab.html)"
   ]
  },
  {
   "attachments": {},
   "cell_type": "markdown",
   "metadata": {},
   "source": [
    "# Unit 3 Sections 1-2"
   ]
  },
  {
   "attachments": {},
   "cell_type": "markdown",
   "metadata": {},
   "source": [
    "Variables, Assignments, and Data Abstraction:\n",
    "- Tip: using meaningful variable names helps with readability and understanding of what values are represented by the variables\n",
    "- keep it nice and simple\n",
    "- easier to understand what value means later on\n",
    "- no spaces between characters\n",
    "\n",
    "\n",
    "Variables\n",
    "- A list of data can also be stored in variables\n",
    "    - printing and retrieving specific value in the list without creating a lot of variables\n",
    "    - easily removing, adding, or changing items into the list\n",
    "\n",
    "\n",
    "Types of Data\n",
    "- integer: A number\n",
    "- Text/string: A word\n",
    "- Boolean: Data that determines if something is true or false\n",
    "    - List of data can even be stored as a single variable\n",
    "    - makes it more organized"
   ]
  },
  {
   "cell_type": "code",
   "execution_count": 2,
   "metadata": {},
   "outputs": [
    {
     "name": "stdout",
     "output_type": "stream",
     "text": [
      "table1 <class 'str'>\n",
      "4 <class 'int'>\n",
      "False <class 'bool'>\n"
     ]
    }
   ],
   "source": [
    "name = \"table1\" #string\n",
    "print(name, type(name))\n",
    "\n",
    "number = 4 #integer\n",
    "print(number, type(number))\n",
    "\n",
    "isAbsent = False\n",
    "print(isAbsent, type(isAbsent))"
   ]
  },
  {
   "attachments": {},
   "cell_type": "markdown",
   "metadata": {},
   "source": [
    "Assignments\n",
    "- The assignment operator allows a program to change the value represented by a variable\n",
    "- Used to assigning values to variables\n",
    "- The \"=\" operator assigns equated values on either side\n",
    "- The \"+=\" operator adds the right side to the left, then assigns it all to the left operand\n",
    "    - x += y\n",
    "        - Result: x+y\n",
    "- The \"-=\" operator subtracts the right side from the left, and assigns it all to the left operand\n",
    "    - x -= y\n",
    "    - x-y\n",
    "- Similarily, the */ and /= multiply and divide the right and left side, respectively"
   ]
  },
  {
   "cell_type": "code",
   "execution_count": 3,
   "metadata": {},
   "outputs": [
    {
     "name": "stdout",
     "output_type": "stream",
     "text": [
      "2\n"
     ]
    }
   ],
   "source": [
    "a = 1\n",
    "b = 2\n",
    "a = b\n",
    "print(a)"
   ]
  },
  {
   "cell_type": "markdown",
   "metadata": {},
   "source": [
    "Notice here how the value stored in a variable will be the most recent value assigned"
   ]
  },
  {
   "cell_type": "code",
   "execution_count": 4,
   "metadata": {},
   "outputs": [
    {
     "name": "stdout",
     "output_type": "stream",
     "text": [
      "1\n"
     ]
    }
   ],
   "source": [
    "a = 1\n",
    "b = a\n",
    "a = 2\n",
    "print(b)"
   ]
  },
  {
   "attachments": {},
   "cell_type": "markdown",
   "metadata": {},
   "source": [
    "Changing Values"
   ]
  },
  {
   "cell_type": "code",
   "execution_count": 5,
   "metadata": {},
   "outputs": [
    {
     "name": "stdout",
     "output_type": "stream",
     "text": [
      "10\n"
     ]
    }
   ],
   "source": [
    "currentScore = 10\n",
    "highScore = currentScore\n",
    "currentScore = 7\n",
    "print(highScore)"
   ]
  },
  {
   "cell_type": "markdown",
   "metadata": {},
   "source": [
    "Notice how it prints 10 rather than 7, because currentScore was initially defined before highScore was. "
   ]
  },
  {
   "attachments": {},
   "cell_type": "markdown",
   "metadata": {},
   "source": [
    "Data Abstraction\n",
    "- method used in coding to represent data in a useful form, by taking away aspects of data that aren't being used in the situation\n",
    "- Variables and lists are primary tools in data abstraction\n",
    "- provides a separation between the abstract properties of a data type and the concrete details of its representation\n",
    "- helps manage complexity in programs by giving a collection of data a name without referencing the specific details of the representation\n",
    "\n",
    "List & Strings\n",
    "- List = ordered sequence of elements\n",
    "- Element = individual value in a list that is assigned to a unique index\n",
    "- Index = a way to reference the elements in a list or string using natural numbers\n",
    "- String = ordered sequences of characters"
   ]
  },
  {
   "attachments": {},
   "cell_type": "markdown",
   "metadata": {},
   "source": [
    "Managing Lists\n",
    "- There are 3 different types of list operations\n",
    "    - one is to assign values to a list at certain indices\n",
    "    - another is to create an empty list an dassign it to a variable\n",
    "    - the third is assigning a copy of one list to another list\n",
    "\n",
    "Managing Complexity/Readability:\n",
    "- Helps improve the fluidity and readability\n",
    "- reduces the need for new variables since more and more data is being collected (don't overcomplicate)\n",
    "- Update data with ease!"
   ]
  },
  {
   "cell_type": "code",
   "execution_count": 1,
   "metadata": {},
   "outputs": [
    {
     "name": "stdout",
     "output_type": "stream",
     "text": [
      "green\n",
      "red\n",
      "pink\n",
      "purple\n",
      "blue\n",
      "brown\n"
     ]
    }
   ],
   "source": [
    "colorList = [\"green\", \"red\", \"pink\", \"purple\", \"blue\", \"brown\"]\n",
    "for i in colorList:\n",
    "    print (i)"
   ]
  },
  {
   "attachments": {},
   "cell_type": "markdown",
   "metadata": {},
   "source": [
    "## Hacks1\n",
    "\n",
    "You will turn in a program that utilizes lists and variables as it's primary function, options could be a quiz, a sorter, database, or wherever your imagination brings you. You will be graded on how well you understood the concepts and if you used anything other than just the simplest parts."
   ]
  },
  {
   "cell_type": "code",
   "execution_count": 9,
   "metadata": {},
   "outputs": [
    {
     "name": "stdout",
     "output_type": "stream",
     "text": [
      "For each question below, please use proper capitalization and provide non-numerical answers\n",
      "1) Who won the 2014 FIFA World Cup?\n",
      "Nice job! You correctly answered Germany\n",
      "2) What country has won the most FIFA World Cups?\n",
      "Nice job! You correctly answered Brazil\n",
      "3) Who has the most WC assists of all time (last name only)?\n",
      "Nice job! You correctly answered Maradona\n",
      "4) What is the name of the German striker who leads all time WC Goals?\n",
      "Nice job! You correctly answered Miroslav Klose\n",
      "5) Where is the current World Cup being held? \n",
      "Nice job! You correctly answered Qatar\n",
      "6) Where is the  World Cup being held in 2026? \n",
      "Nice job! You correctly answered USA\n",
      "7) The FIFA World Cup occurs once every _ years? \n",
      "Nice job! You correctly answered Four\n",
      "8) Where was the FIFA World Cup held in 2014? \n",
      "Yikes! You incorrectly answered South Africa\n",
      "9) Where was the FIFA World Cup held in 2010? \n",
      "Nice job! You correctly answered South Africa\n",
      "10) Who won the FIFA World Cup in 2010? \n",
      "Nice job! You correctly answered Spain\n",
      "Congratulations (Or Not)! Your score is 9 out of 10\n"
     ]
    }
   ],
   "source": [
    "print(\"For each question below, please use proper capitalization and provide non-numerical answers\")\n",
    "\n",
    "WCQuiz = {\n",
    "    \"1) Who won the 2014 FIFA World Cup?\": \"Germany\", \n",
    "    \"2) What country has won the most FIFA World Cups?\": \"Brazil\", \n",
    "    \"3) Who has the most WC assists of all time (last name only)?\": \"Maradona\", \n",
    "    \"4) What is the name of the German striker who leads all time WC Goals?\": \"Miroslav Klose\", \n",
    "    \"5) Where is the current World Cup being held? \": \"Qatar\", \n",
    "    \"6) Where is the  World Cup being held in 2026? \": \"USA\",\n",
    "    \"7) The FIFA World Cup occurs once every _ years? \": \"Four\",\n",
    "    \"8) Where was the FIFA World Cup held in 2014? \": \"Brazil\",\n",
    "    \"9) Where was the FIFA World Cup held in 2010? \": \"South Africa\",\n",
    "    \"10) Who won the FIFA World Cup in 2010? \": \"Spain\",\n",
    "}\n",
    "\n",
    "# the code below aims to first project the question to the user, and then return the same exact value that was inputted in order to check correctness\n",
    "def interface(question):\n",
    "    print(question)\n",
    "    user = input()\n",
    "    return user\n",
    "\n",
    "score = 0 #this sets the user's initial score to 0, since they have not answered any questions correctly just yet\n",
    "\n",
    "for key in WCQuiz:\n",
    "    usr = interface(key)\n",
    "    if usr == WCQuiz[key]:\n",
    "        print(f\"Nice job! You correctly answered {usr}\") # usage of an f-string provides us a way to embed an expression inside a string; the little f before the \"\n",
    "        score += 1\n",
    "    else:\n",
    "        print(f\"Yikes! You incorrectly answered {usr}\") # usage of an f-string provides us a way to embed an expression inside a string; the little f before the \"\n",
    "\n",
    "print(\"Congratulations (Or Not)! Your score is \" + str(score) + \" out of 10\")\n"
   ]
  },
  {
   "cell_type": "markdown",
   "metadata": {},
   "source": [
    "# Unit 3 Sections 3-4 \n",
    "\n",
    "- title: Mathematical Expressions and Strings\n",
    "- comments: true\n",
    "- permalink: /jupyter/lesson2\n",
    "- categories: [jupyter]"
   ]
  },
  {
   "attachments": {},
   "cell_type": "markdown",
   "metadata": {},
   "source": [
    "Arithmetic Operations\n",
    "\n",
    "Arithmetic operations exist in most programming languages.\n",
    "\n",
    "Basic Operations\n",
    "\n",
    "**Subtraction**:\n",
    "\n",
    "- Represented by “-\""
   ]
  },
  {
   "cell_type": "code",
   "execution_count": 1,
   "metadata": {},
   "outputs": [],
   "source": [
    "num1 = 2 - 1"
   ]
  },
  {
   "cell_type": "markdown",
   "metadata": {},
   "source": [
    "**Addition**: \n",
    "\n",
    "- Represented by \"+\""
   ]
  },
  {
   "cell_type": "code",
   "execution_count": 2,
   "metadata": {},
   "outputs": [],
   "source": [
    "num1 = 2 + 1"
   ]
  },
  {
   "cell_type": "markdown",
   "metadata": {},
   "source": [
    "**Multiplication**: \n",
    "\n",
    "- Represented by “*”"
   ]
  },
  {
   "cell_type": "code",
   "execution_count": 3,
   "metadata": {},
   "outputs": [],
   "source": [
    "num1 = 2 * 1"
   ]
  },
  {
   "cell_type": "markdown",
   "metadata": {},
   "source": [
    "**Division**: \n",
    "\n",
    "- Represented by “/”"
   ]
  },
  {
   "cell_type": "markdown",
   "metadata": {},
   "source": [
    "**Getting the Remainder**: \n",
    "\n",
    "- Represented by “MOD” (% in python)"
   ]
  },
  {
   "cell_type": "code",
   "execution_count": 4,
   "metadata": {},
   "outputs": [],
   "source": [
    "num1 = 5 % 2"
   ]
  },
  {
   "attachments": {},
   "cell_type": "markdown",
   "metadata": {},
   "source": [
    "Different Uses\n",
    "\n",
    "> Items can be numbers or variables.\n",
    "\n",
    "Examples:"
   ]
  },
  {
   "cell_type": "code",
   "execution_count": 5,
   "metadata": {},
   "outputs": [],
   "source": [
    "num1 = 10\n",
    "num2 = num1 - 25\n",
    "num3 = 100 * num1\n",
    "num4 = num1 / num2\n",
    "num5 = 9 % num4"
   ]
  },
  {
   "attachments": {},
   "cell_type": "markdown",
   "metadata": {},
   "source": [
    "Order of Operations\n",
    "\n",
    "Arithmetic operations in programming are performed in the same order as operations in mathematics:\n",
    "\n",
    "- Operations in parentheses should be done first.\n",
    "\n",
    "- Division and multiplication should be done before addition and subtraction.\n",
    "\n",
    "- Modulus works similar to multiplication and division.\n",
    "\n",
    "Example: Evaluate num1\t"
   ]
  },
  {
   "cell_type": "code",
   "execution_count": 6,
   "metadata": {},
   "outputs": [
    {
     "name": "stdout",
     "output_type": "stream",
     "text": [
      "10.0\n"
     ]
    }
   ],
   "source": [
    "num1 = 9 % 2 * ( 8 - 2 ) + 8 / ( 6 - 4 )\n",
    "print(num1)"
   ]
  },
  {
   "attachments": {},
   "cell_type": "markdown",
   "metadata": {},
   "source": [
    "Variables\n",
    "\n",
    "Different Ways Values are Stored in Variables\n",
    "\n",
    "1. Numerical value stored in a variable\n",
    "   \n",
    "2. Value of another variable stored in a variable \n",
    "   \n",
    "3. Result of an operation stored in a variable \n",
    "\n",
    "4. Result of a procedure call stored in a variable "
   ]
  },
  {
   "attachments": {},
   "cell_type": "markdown",
   "metadata": {},
   "source": [
    "Sequencing is Important!\n",
    "\n",
    "Changing the order of the steps changes the overall outcome, since every time the value assigned to a variable is changed, it overrides the last value which was assigned to the same variable. That is why it is important to track the value of variables, especially in code where the value is constantly changing."
   ]
  },
  {
   "cell_type": "code",
   "execution_count": null,
   "metadata": {},
   "outputs": [],
   "source": [
    "num1 = 2\n",
    "num2 = 4\n",
    "num3 = 6\n",
    "num1 = num2 + num3      # num1 is now 4 + 6, which is 10\n",
    "num2 = num1 + num3      # num2 is now (the new num1) 10 + 6, which is 16\n",
    "# output: num1 = 10, num2 = 16, num3 = 6"
   ]
  },
  {
   "cell_type": "markdown",
   "metadata": {},
   "source": [
    "**VS**"
   ]
  },
  {
   "cell_type": "code",
   "execution_count": null,
   "metadata": {},
   "outputs": [],
   "source": [
    "num1 = 2\n",
    "num2 = 4\n",
    "num3 = 6\n",
    "num2 = num1 + num3  #num2 is now 8\n",
    "num1 = num2 + num3  # num1 is now 14\n",
    "# output: num1 = 14, num2 = 8, num3 = 6"
   ]
  },
  {
   "attachments": {},
   "cell_type": "markdown",
   "metadata": {},
   "source": [
    "Tracking Variables\n",
    "\n",
    "Tracking variables is a common question found on AP exams and is an important thing to keep in mind when writing any code. If the value of your variables changes a lot, not accounting for these changes can result in an unwanted outcome."
   ]
  },
  {
   "cell_type": "code",
   "execution_count": null,
   "metadata": {},
   "outputs": [],
   "source": [
    "var1 = 9\n",
    "var2 = 7\n",
    "var3 = 2\n",
    "\n",
    "#var = var1 + 5\n",
    "#var2 = var1 - var3\n",
    "#var1 = var2\n",
    "#var3 = (var1 + var2) / 2\n",
    "#var2 = 6\n",
    "\n",
    "print(var1)\n",
    "print(var2)\n",
    "print(var3)"
   ]
  },
  {
   "attachments": {},
   "cell_type": "markdown",
   "metadata": {},
   "source": [
    "## Hacks2\n",
    "\n",
    "Evaluate the variable \"result\"."
   ]
  },
  {
   "cell_type": "code",
   "execution_count": 11,
   "metadata": {},
   "outputs": [
    {
     "name": "stdout",
     "output_type": "stream",
     "text": [
      "20.4\n"
     ]
    }
   ],
   "source": [
    "Num1 = 50\n",
    "Num2 = Num1 % 9 + 15                    # Num2 = 50 % 9 = 5 +15 = 20\n",
    "Num3 = Num2 / Num1 + ( Num2 * 2 )       # Num3 = 20/50 + 40 = 40.4\n",
    "Num4 = Num3 + Num1 / 5 - 10             # Num4 = 40.4 + 10 - 10\n",
    "Result = Num4 - Num2                    # Result = 40.4 - 20 = 20.4"
   ]
  },
  {
   "cell_type": "code",
   "execution_count": 10,
   "metadata": {},
   "outputs": [
    {
     "name": "stdout",
     "output_type": "stream",
     "text": [
      "0\n"
     ]
    }
   ],
   "source": [
    "Num1 = 10\n",
    "Num2 = Num1 % 3 * 4                     # Num2 = 1 * 4 = 4\n",
    "Num1 = Num2                             # Num1 = 4\n",
    "Num3 = Num1 * 3                         # Num3 = 4 * 3 = 12\n",
    "Result = Num3 % 2                       # Result = 0"
   ]
  },
  {
   "cell_type": "code",
   "execution_count": 1,
   "metadata": {},
   "outputs": [
    {
     "name": "stdout",
     "output_type": "stream",
     "text": [
      "17\n"
     ]
    }
   ],
   "source": [
    "valueA = 4\n",
    "valueB = 90\n",
    "valueC = 17\n",
    "valueB = valueC - valueA                # valueB = 17 - 4 = 13\n",
    "valueA = valueA * 10                    # valueA = 4 * 10 = 40\n",
    "if valueB > 10:                         # valueB is 13 (> 10)\n",
    "    print(valueC)                       # Will print 17"
   ]
  },
  {
   "cell_type": "code",
   "execution_count": 2,
   "metadata": {},
   "outputs": [
    {
     "name": "stdout",
     "output_type": "stream",
     "text": [
      "straightbrownshort\n"
     ]
    }
   ],
   "source": [
    "type = \"curly\"\n",
    "color = \"brown\"\n",
    "length = \"short\"\n",
    "type = \"straight\"\n",
    "hair = type + color + length            # hair = \"straightbrownshort\" (concatenation)\n",
    "print(hair)                             # This will print straightbrownshort"
   ]
  },
  {
   "attachments": {},
   "cell_type": "markdown",
   "metadata": {},
   "source": [
    "Strings Hacks\n",
    "\n",
    "Find the result of the following problems. Then convert the pseudocode to working python code using your knowledge of python string operators.\n",
    "\n",
    "**Problem 1** Solution"
   ]
  },
  {
   "cell_type": "markdown",
   "metadata": {},
   "source": [
    "Problem 1 CollegeBoard Code"
   ]
  },
  {
   "cell_type": "code",
   "execution_count": null,
   "metadata": {},
   "outputs": [],
   "source": [
    "Noun = \"Mr.Mortenson\" \n",
    "Adjective = \"handsome\" \n",
    "Adjective2 = \"Very\" \n",
    "Verb = \"is\" \n",
    "abrev = subtring(Noun, 1, 7) # Abbreviate \"Mr.Mortensen\" to \"Mr.Mort\"\n",
    "yoda = concat(Adjective2, \" \", Adjective, \" \", abrev, \" \",Verb, \".\") # yoda = VeryhandsomeMr.Mortis\n",
    "display[yoda]"
   ]
  },
  {
   "cell_type": "markdown",
   "metadata": {},
   "source": [
    "Problem 1 Correct Code"
   ]
  },
  {
   "cell_type": "code",
   "execution_count": 7,
   "metadata": {},
   "outputs": [
    {
     "name": "stdout",
     "output_type": "stream",
     "text": [
      "Very handsome Mr.Mort is.\n"
     ]
    }
   ],
   "source": [
    "Noun = \"Mr.Mortenson\" \n",
    "Adjective = \"handsome\" \n",
    "Adjective2 = \"Very\" \n",
    "Verb = \"is\" \n",
    "abrev = Noun[:7]\n",
    "yoda = Adjective2 + \" \" + Adjective + \" \" + abrev + \" \" + Verb + \".\"\n",
    "print(yoda)\n"
   ]
  },
  {
   "cell_type": "markdown",
   "metadata": {},
   "source": [
    "Problem 2 Collegeboard Code"
   ]
  },
  {
   "cell_type": "code",
   "execution_count": null,
   "metadata": {},
   "outputs": [],
   "source": [
    "cookie = \"choclate\" \n",
    "cookie2 = \"rasin\" \n",
    "len1 = len(cookie) / 2 # len1 = 4\n",
    "len2 = len(cookie2) * 45 # len2 = 225\n",
    "vote1 = (cookie, \"vote\", len2) # vote1 = choclatevote225\n",
    "vote2 = (cookie2, \"vote\", len1) # vote2 = rasinvote4\n",
    "votes = concat(vote1, \" \", vote2) # votes = choclatevote225 rasinvote4\n",
    "display[votes]"
   ]
  },
  {
   "cell_type": "markdown",
   "metadata": {},
   "source": [
    "**Problem 2** Solution"
   ]
  },
  {
   "cell_type": "code",
   "execution_count": 1,
   "metadata": {},
   "outputs": [
    {
     "name": "stdout",
     "output_type": "stream",
     "text": [
      "cookie has 4.0 votes and the second cookie has 225 votes.\n"
     ]
    }
   ],
   "source": [
    "cookie = \"choclate\" \n",
    "cookie2 = \"rasin\" \n",
    "len1 = len(cookie) / 2 \n",
    "len2 = len(cookie2) * 45 \n",
    "vote1 = (cookie, \"vote\", len2) \n",
    "vote2 = (cookie2, \"vote\", len1) \n",
    "votes = \"cookie has \" + str(len1) + \" votes and the second cookie has \" + str(len2) + \" votes.\"\n",
    "print(votes)"
   ]
  },
  {
   "cell_type": "markdown",
   "metadata": {},
   "source": [
    "# Unit 3 Sections 8 and 10"
   ]
  },
  {
   "attachments": {},
   "cell_type": "markdown",
   "metadata": {},
   "source": [
    "Lists\n",
    "\n",
    "What are lists?\n",
    "\n",
    "Lists: a sequence of variables\n",
    "- we can use lists to store multiple items into one variable\n",
    "- used to store collections of data\n",
    "- changeable, ordered, allow duplicates"
   ]
  },
  {
   "attachments": {},
   "cell_type": "markdown",
   "metadata": {},
   "source": [
    "List examples in Python, JavaScript, and Pseudocode."
   ]
  },
  {
   "cell_type": "code",
   "execution_count": null,
   "metadata": {},
   "outputs": [],
   "source": [
    "fruits = [\"apple\", \"grape\", \"strawberry\"]\n",
    "print (fruits)"
   ]
  },
  {
   "cell_type": "code",
   "execution_count": null,
   "metadata": {
    "vscode": {
     "languageId": "javascript"
    }
   },
   "outputs": [],
   "source": [
    "const fruits = [\"apple\", \"grape\", \"strawberry\"];"
   ]
  },
  {
   "cell_type": "code",
   "execution_count": null,
   "metadata": {},
   "outputs": [],
   "source": [
    "fruits ← [apple, grape, strawberry]"
   ]
  },
  {
   "attachments": {},
   "cell_type": "markdown",
   "metadata": {},
   "source": [
    "More list examples"
   ]
  },
  {
   "cell_type": "code",
   "execution_count": null,
   "metadata": {},
   "outputs": [],
   "source": [
    "brands = [\"nike\", \"adidas\", \"underarmour\"] #string\n",
    "numbers = [1, 2, 3, 4, 5] #integer\n",
    "truefalse = [True, False, True] #boolean"
   ]
  },
  {
   "attachments": {},
   "cell_type": "markdown",
   "metadata": {},
   "source": [
    "Lists are just one of four collection data types in Python\n",
    "\n",
    "- Tuple: collection that is ordered, unchangeable, allows duplicates\n",
    "- Set: collection that is unordered, unchangeable, doesn't allow duplicates\n",
    "- Dictionary: collection that is ordered, changeable, doesn't allow duplicates"
   ]
  },
  {
   "attachments": {},
   "cell_type": "markdown",
   "metadata": {},
   "source": [
    "Terms\n",
    "- Index: a term used to sort data in order to reference to an element in a list (allows for duplicates)\n",
    "- Elements: the values in the list assigned to an index"
   ]
  },
  {
   "cell_type": "code",
   "execution_count": null,
   "metadata": {},
   "outputs": [],
   "source": [
    "fruits = [\"apple\", \"grape\", \"strawberry\"]\n",
    "index = 1\n",
    "\n",
    "print (fruits[index])"
   ]
  },
  {
   "attachments": {},
   "cell_type": "markdown",
   "metadata": {},
   "source": [
    "Methods in Lists\n",
    "\n",
    "| Method | Definition | Example |\n",
    "|-|-|-|\n",
    "| append() | adds element to the end of the list | fruits.append(\"watermelon\") |\n",
    "| index() | returns the index of the first element with the specified value | fruits.index(\"apple\") |\n",
    "| insert() | adds element at given position | fruits.insert(1, \"watermelon\")|\n",
    "| remove() | removes the first item with the specified value | fruits.remove(\"strawberry\") |\n",
    "| reverse() | reverses the list order | fruits.reverse() |\n",
    "| sort() | sorts the list | fruits.sort() |\n",
    "| count() | returns the amount of elements with the specified value | fruits.count(\"apple\") |\n",
    "| copy() | returns a copy of the list | fruits.copy() |\n",
    "| clear() | removes the elements from the list | fruits.clear() |"
   ]
  },
  {
   "cell_type": "code",
   "execution_count": null,
   "metadata": {},
   "outputs": [],
   "source": [
    "sports = [\"football\", \"soccer\", \"baseball\", \"basketball\"]\n",
    "\n",
    "# change the value \"soccer\" to \"hockey\"\n",
    "print (sports)\n"
   ]
  },
  {
   "cell_type": "code",
   "execution_count": null,
   "metadata": {},
   "outputs": [],
   "source": [
    "sports = [\"football\", \"soccer\", \"baseball\", \"basketball\"]\n",
    "\n",
    "# add \"golf\" as the 3rd element in the list\n",
    "print (sports)"
   ]
  },
  {
   "attachments": {},
   "cell_type": "markdown",
   "metadata": {},
   "source": [
    "Iteration Notes"
   ]
  },
  {
   "cell_type": "markdown",
   "metadata": {},
   "source": [
    "- repetition of a process applies to the result or taken from previous statement\n",
    "    - for loops\n",
    "    - while loops\n",
    "- 2 types of iteration: indefinite and definite\n",
    "    - definite: clarifies how many times the loop will run\n",
    "    - indefinite: does not specify the amount of times the loop will be ran \n",
    "- when object is iterable it can be used in an iteration\n",
    "- Iter() returns an iterator\n",
    "- Strings, list, dictionaries, sets, and tuples are iterable objects\n",
    "- Break: stops the loop"
   ]
  },
  {
   "attachments": {},
   "cell_type": "markdown",
   "metadata": {},
   "source": [
    "HW Iteration\n",
    "\n",
    "Use the list below to turn the first letter of any word (using input()) into its respective NATO phonetic alphabet word\n",
    "\n",
    "Ex:\n",
    "\n",
    "list ->\n",
    "\n",
    "lima\n",
    "india\n",
    "sierra\n",
    "tango"
   ]
  },
  {
   "cell_type": "code",
   "execution_count": null,
   "metadata": {},
   "outputs": [],
   "source": [
    "words = [\"alfa\", \"bravo\", \"charlie\", \"delta\", \"echo\", \"foxtrot\", \"golf\", \"hotel\", \"india\", \"juliett\", \"kilo\",\n",
    "\"lima\", \"mike\", \"november\", \"oscar\", \"papa\", \"quebec\", \"romeo\", \"sierra\", \"tango\", \"uniform\", \"victor\", \"whiskey\", \"xray\", \"yankee\", \"zulu\"]\n",
    "\n",
    "inp = input().lower()\n",
    "alpha = [\"a\",\"b\",\"c\",\"d\",\"e\",\"f\",\"g\",\"h\",\"i\",\"j\",\"k\",\"l\",\"m\",\"n\",\"o\",\"p\",\"q\",\"r\",\"s\",\"t\",\"u\",\"v\",\"w\",\"x\",\"y\",\"z\"]\n",
    "\n",
    "for i in words:\n",
    "    print(inp)"
   ]
  },
  {
   "attachments": {},
   "cell_type": "markdown",
   "metadata": {},
   "source": [
    "2D Iteration\n",
    "\n",
    "2D Arrays\n",
    "\n",
    "A 2D array is simply just a list of lists. The example below is technically correct but..."
   ]
  },
  {
   "cell_type": "code",
   "execution_count": null,
   "metadata": {},
   "outputs": [],
   "source": [
    "# Example matrix\n",
    "\n",
    "keypad = [[1, 2, 3], [4, 5, 6], [7, 8, 9], [\" \", 0, \" \"]]"
   ]
  },
  {
   "cell_type": "markdown",
   "metadata": {},
   "source": [
    "Conventially 2D arrays are written like below. This is because 2D arrays are meant to be read in 2 dimensions (hence the name). Writing them like below makes them easier to visualize and understand. "
   ]
  },
  {
   "cell_type": "code",
   "execution_count": null,
   "metadata": {},
   "outputs": [],
   "source": [
    "# Better example matrix\n",
    "keypad =   [[1, 2, 3],\n",
    "            [4, 5, 6],\n",
    "            [7, 8, 9],\n",
    "            [\" \", 0, \" \"]]"
   ]
  },
  {
   "attachments": {},
   "cell_type": "markdown",
   "metadata": {},
   "source": [
    "Printing a 2D Array\n",
    "\n",
    "We already know that we can't just print the matrix by calling it. We need to iterate through it to print it. "
   ]
  },
  {
   "cell_type": "code",
   "execution_count": null,
   "metadata": {},
   "outputs": [],
   "source": [
    "# Nested loops using ij indexes\n",
    "def print_matrix1(matrix): \n",
    "    for i in range(len(matrix)):  # outer for loop. This runs on i which represents the row. range(len(matrix)) is in order to iterate through the length of the matrix\n",
    "        for j in range(len(matrix[i])):  # inner for loop. This runs on the length of the i'th row in the matrix (j changes for each row with a different length)\n",
    "            print(matrix[i][j], end=\" \")  # [i][j] is the 2D location of that value in the matrix, kinda like a coordinate pair. [i] iterates to the specific row and [j] iterates to the specific value in the row. end=\" \" changes the end value to space, not a new line.\n",
    "        print() # prints extra line. this is in the outer loop, not the inner loop, because it only wants to print a new line for each row"
   ]
  },
  {
   "cell_type": "code",
   "execution_count": null,
   "metadata": {},
   "outputs": [],
   "source": [
    "print(\"Raw matrix (list of lists): \")\n",
    "print(keypad)\n",
    "print(\"Matrix printed using nested for loop iteration:\")\n",
    "print_matrix1(keypad)\n",
    "print()\n"
   ]
  },
  {
   "cell_type": "code",
   "execution_count": null,
   "metadata": {},
   "outputs": [],
   "source": [
    "def print_matrix2(matrix):\n",
    "    for row in matrix:  # Iterates through each \"row\" of matrix. Row is a dummy variable, it could technically be anything. It iterates through each value of matrix and each value is it's own list. in this syntax the list is stored in \"row\".\n",
    "        for col in row:  # Iterates through each value in row. Again col, column, is a dummy variable. Each value in row is stored in col.\n",
    "            print(col, end=\" \") # Same as 1\n",
    "        print() # Same as 1\n",
    "\n",
    "print_matrix2(keypad)"
   ]
  },
  {
   "attachments": {},
   "cell_type": "markdown",
   "metadata": {},
   "source": [
    "More Functions\n",
    "\n",
    "Try to find another way to print the matrix. Only complete one of the two (unless you'd like to do both). Below is a hint"
   ]
  },
  {
   "cell_type": "code",
   "execution_count": null,
   "metadata": {},
   "outputs": [],
   "source": [
    "fruit = [\"apples\", \"bananas\", \"grapes\"]\n",
    "print(fruit)\n",
    "print(*fruit) # Python built in function: \"*\". Figure out what it does"
   ]
  },
  {
   "cell_type": "code",
   "execution_count": null,
   "metadata": {},
   "outputs": [],
   "source": [
    "def print_matrix3(matrix):\n",
    "    code = \"your code goes here\""
   ]
  },
  {
   "cell_type": "markdown",
   "metadata": {},
   "source": [
    "Alternatively, find a way to print the matrix using the iter() function you already learned. Or use both!"
   ]
  },
  {
   "cell_type": "code",
   "execution_count": null,
   "metadata": {},
   "outputs": [],
   "source": [
    "def print_matrix4(matrix):\n",
    "    code = \"your code goes here\""
   ]
  },
  {
   "cell_type": "code",
   "execution_count": null,
   "metadata": {},
   "outputs": [],
   "source": [
    "keyboard = [[\"`\", 1, 2, 3, 4, 5, 6, 7, 8, 9, 0, \"-\", \"=\"],\n",
    "            [\"Q\", \"W\", \"E\", \"R\", \"T\", \"Y\", \"U\", \"I\", \"O\", \"P\", \"[\", \"]\"],\n",
    "            [\"A\", \"S\", \"D\", \"F\", \"G\", \"H\", \"J\", \"K\", \"L\", \";\", \"'\"],\n",
    "            [\"Z\", \"X\", \"C\", \"V\", \"B\", \"N\", \"M\", \",\", \".\", \"/\"]]"
   ]
  },
  {
   "attachments": {},
   "cell_type": "markdown",
   "metadata": {},
   "source": [
    "## Hacks3"
   ]
  },
  {
   "attachments": {},
   "cell_type": "markdown",
   "metadata": {},
   "source": [
    "Part 1"
   ]
  },
  {
   "cell_type": "code",
   "execution_count": 1,
   "metadata": {},
   "outputs": [
    {
     "name": "stdout",
     "output_type": "stream",
     "text": [
      "Word: car\n",
      "\n",
      "the NATO code:\n",
      "charlie\n",
      "alfa\n",
      "romeo\n"
     ]
    }
   ],
   "source": [
    "words = [\"alfa\", \"bravo\", \"charlie\", \"delta\", \"echo\", \"foxtrot\", \"golf\", \"hotel\", \"india\", \"juliett\", \"kilo\",\n",
    "\"lima\", \"mike\", \"november\", \"oscar\", \"papa\", \"quebec\", \"romeo\", \"sierra\", \"tango\", \"uniform\", \"victor\", \"whiskey\", \"xray\", \"yankee\", \"zulu\"]\n",
    "\n",
    "inp = input(\"\").lower()\n",
    "\n",
    "print(\"Word:\", inp)\n",
    "print(\"\")\n",
    "print(\"the NATO code:\")\n",
    "letters = list(inp)\n",
    "for n in inp:\n",
    "    for nato in words: \n",
    "        if nato[0] == n:\n",
    "            print(nato)"
   ]
  },
  {
   "attachments": {},
   "cell_type": "markdown",
   "metadata": {},
   "source": [
    "Part 2"
   ]
  },
  {
   "cell_type": "code",
   "execution_count": 2,
   "metadata": {},
   "outputs": [
    {
     "name": "stdout",
     "output_type": "stream",
     "text": [
      "1 2 3\n",
      "4 5 6\n",
      "7 8 9\n",
      "  0  \n"
     ]
    }
   ],
   "source": [
    "keypad =   [[\"1\", \"2\", \"3\"],\n",
    "            [\"4\", \"5\", \"6\"],\n",
    "            [\"7\", \"8\", \"9\"],\n",
    "            [\" \", \"0\", \" \"]]\n",
    "\n",
    "m = 0\n",
    "while m < len(keypad):\n",
    "    print(*keypad[m])\n",
    "    m = m + 1"
   ]
  },
  {
   "attachments": {},
   "cell_type": "markdown",
   "metadata": {},
   "source": [
    "Part 3"
   ]
  },
  {
   "cell_type": "code",
   "execution_count": 3,
   "metadata": {},
   "outputs": [],
   "source": [
    "keyboard = [[\"`\", 1, 2, 3, 4, 5, 6, 7, 8, 9, 0, \"-\", \"=\"],\n",
    "            [\"Q\", \"W\", \"E\", \"R\", \"T\", \"Y\", \"U\", \"I\", \"O\", \"P\", \"[\", \"]\"],\n",
    "            [\"A\", \"S\", \"D\", \"F\", \"G\", \"H\", \"J\", \"K\", \"L\", \";\", \"'\"],\n",
    "            [\"Z\", \"X\", \"C\", \"V\", \"B\", \"N\", \"M\", \",\", \".\", \"/\"]]"
   ]
  },
  {
   "cell_type": "code",
   "execution_count": 4,
   "metadata": {},
   "outputs": [
    {
     "name": "stdout",
     "output_type": "stream",
     "text": [
      "Month of Birth:\n",
      "F E B\n",
      "\n",
      "My Age:\n",
      "1 6\n"
     ]
    }
   ],
   "source": [
    "print(\"Month of Birth:\")\n",
    "print(keyboard[2][3], keyboard[1][2], keyboard[3][4])\n",
    "print(\"\")\n",
    "print(\"My Age:\")\n",
    "print(keyboard[0][1], keyboard[0][6])"
   ]
  },
  {
   "attachments": {},
   "cell_type": "markdown",
   "metadata": {},
   "source": [
    "# Unit 3 Sections 9 and 11"
   ]
  },
  {
   "cell_type": "code",
   "execution_count": 2,
   "metadata": {},
   "outputs": [
    {
     "name": "stdout",
     "output_type": "stream",
     "text": [
      "It's too hot outside!\n"
     ]
    }
   ],
   "source": [
    "temp = int(input(\"Select a temperature from 0 to 99 degrees F\"))\n",
    "if (temp >= 90):\n",
    "    print(\"It's too hot outside!\")\n",
    "else:\n",
    "    if (temp >= 65):\n",
    "        print(\"Sure I will play outside!\")\n",
    "    else: \n",
    "        print(\"It is too cold outside!\")\n",
    "# Input 54 and then 95, what do you notice?"
   ]
  },
  {
   "cell_type": "code",
   "execution_count": 4,
   "metadata": {},
   "outputs": [
    {
     "name": "stdout",
     "output_type": "stream",
     "text": [
      "It's too hot outside!\n",
      "Sure I will play outside!\n"
     ]
    }
   ],
   "source": [
    "temp = int(input(\"Select a temperature from 0 to 99 degrees F\"))\n",
    "if (temp >= 90):\n",
    "    print(\"It's too hot outside!\")\n",
    "if (temp >= 65):\n",
    "    print(\"Sure I will play outside!\")\n",
    "if (temp < 65):\n",
    "    print(\"It is too cold outside!\")\n",
    "    # Input 54 and then Input 95, what do you notice?"
   ]
  },
  {
   "attachments": {},
   "cell_type": "markdown",
   "metadata": {},
   "source": [
    "Conditionals vs. Booleans\n",
    "\n",
    "The condition and instructions are what differ, that's where the magic happens. The condition is a boolean expression when an expression outputs either true or false. Boolean values are another type of data type in programming languages, and they can only ever hold true or false. "
   ]
  },
  {
   "cell_type": "code",
   "execution_count": 5,
   "metadata": {},
   "outputs": [
    {
     "name": "stdout",
     "output_type": "stream",
     "text": [
      "True\n"
     ]
    }
   ],
   "source": [
    "IsHoliday = False\n",
    "IsWeekday = True\n",
    "if IsHoliday:\n",
    "    driveWork = True\n",
    "else: \n",
    "    if IsWeekday: \n",
    "        driveWork = True\n",
    "    else: \n",
    "        driveWork = False\n",
    "print(driveWork)"
   ]
  },
  {
   "attachments": {},
   "cell_type": "markdown",
   "metadata": {},
   "source": [
    "Logically thinking about conditionals and booleans\n",
    "\n",
    "Now the problem may seem confusing, but the best way to develop an algorithm is to think about all the possible results that can be potentially be outputted.\n",
    "\n",
    "So if IsHoliday is set to true, then driveWork is automatically equal to false and it does not matter what value of isWeekday is. This must mean that one of the conditionals must be NOT IsHoliday.\n",
    "\n",
    "In the case that lets say IsHoliday is set to false, then the variable for weekday needs to be checked. If it's true then driveWork is true, if it's false then driveWork is false. This must mean that the other conditional isWeekday.\n",
    "\n",
    "Combining both conditionals, you get option 2, which is not IsHoliday and IsWeekday. This is why option 2 is right!\n",
    "\n"
   ]
  },
  {
   "attachments": {},
   "cell_type": "markdown",
   "metadata": {},
   "source": [
    "\n",
    "Flowcharts\n",
    "\n",
    "- Flowcharts can help you visualize the functionality of an algorithm\n",
    "\n",
    "- They are a good way to double check whether or not your algorithm is achieving its purpose\n",
    "\n",
    "\n",
    "How To Set Up A Flowchart\n",
    "\n",
    "1. label the start point\n",
    "\n",
    "2. Define any and all variables you may need\n",
    "\n",
    "3. Consider the first question you want the algorithm to ask\n",
    "\n",
    "4. Write what you want the algorithm to do if the answer to that question is yes (or true)\n",
    "\n",
    "5. Write what you want the algorithm to do if the answer to that question is no (or false)\n",
    "\n",
    "    * Steps 3-5 are the steps to creating code that uses a process called selection (you can convert the question from step 3 to a conditional if-statement in code)\n",
    "    <br>\n",
    "    <br>\n",
    "6. Write out all necessary steps for the algorithm to function properly\n",
    "\n",
    "7. You may want your algorithm to iterate some steps until a condition is met\n",
    "\n",
    "    * You can write the steps that need to be repeated, then draw an arrow from the last step to a step above that contains a conditional statement\n",
    "    <br>\n",
    "    <br>\n",
    "8. determine a way to reach the end goal\n",
    "\n",
    "\n",
    "Selection vs. Iteration\n",
    "\n",
    "- Selection:\n",
    "\n",
    "    - A process used in algorithms where a conditional if-statement leads to one of two outcomes\n",
    "        \n",
    "        - Outcome 1: if the conditional statement is true, something will happen\n",
    "        \n",
    "        - Outcome 2: if the conditional statement is false, something else will happen\n",
    "\n",
    "\n",
    "- Iteration\n",
    "\n",
    "    - A process used in algorithms that allows certain things to happen until a condition is satisfied\n",
    "\n",
    "        - Once the condition is satisfied, then an outcome is produced\n",
    "\n",
    "        - This can take the form of a for-loop, while-loop, and/or if-statement\n",
    "\n",
    "\n",
    "Example A\n",
    "- Consider this situation:\n",
    "\n",
    "    - You are shopping for your favorite food at your favorite supermarket\n",
    "\n",
    "    - You see that there is a sale on wheat products for 35% off\n",
    "    \n",
    "    - There is another sale on produce for 20% off\n",
    "    \n",
    "    - These sales are mutually exclusive\n",
    "    \n",
    "    - Tax on all items is 8%\n",
    "\n",
    "- Your TASK:\n",
    "\n",
    "    - Create a flowchart for an algorithm that can be used to calculate the cost of your favorite item\n",
    "\n"
   ]
  },
  {
   "attachments": {},
   "cell_type": "markdown",
   "metadata": {},
   "source": [
    "Procedure to Building an Algorithm"
   ]
  },
  {
   "cell_type": "code",
   "execution_count": 6,
   "metadata": {},
   "outputs": [
    {
     "name": "stdout",
     "output_type": "stream",
     "text": [
      "choose value for x\n",
      "12\n"
     ]
    }
   ],
   "source": [
    "print(\"choose value for x\")\n",
    "\n",
    "varx=int(input(\"Enter any positive Integer\"))\n",
    "\n",
    "if (varx %2 == 0):\n",
    "     varx == varx/2       # Change print to the function\n",
    "\n",
    "else:\n",
    "    varx == varx * 3 + 1      # Change print to the function\n",
    "\n",
    "print(varx)"
   ]
  },
  {
   "cell_type": "code",
   "execution_count": 7,
   "metadata": {},
   "outputs": [
    {
     "name": "stdout",
     "output_type": "stream",
     "text": [
      "choose value for x\n",
      "1.0\n"
     ]
    }
   ],
   "source": [
    "print(\"choose value for x\")\n",
    "\n",
    "varx=int(input(\"Enter any positive Integer\"))\n",
    "\n",
    "while varx != 1:\n",
    "\n",
    "    if (varx %2 == 0):\n",
    "        varx = varx/2       # Change print to the function\n",
    "\n",
    "    else:\n",
    "        varx = varx * 3 + 1      # Change print to the function\n",
    "\n",
    "print(varx)"
   ]
  },
  {
   "cell_type": "code",
   "execution_count": 8,
   "metadata": {},
   "outputs": [
    {
     "name": "stdout",
     "output_type": "stream",
     "text": [
      "choose value for x\n",
      "12\n",
      "6.0\n",
      "3.0\n",
      "10.0\n",
      "5.0\n",
      "16.0\n",
      "8.0\n",
      "4.0\n",
      "2.0\n",
      "1.0\n",
      "1.0\n"
     ]
    }
   ],
   "source": [
    "print(\"choose value for x\")\n",
    "\n",
    "varx=int(input(\"Enter any positive Integer\"))\n",
    "\n",
    "print(varx)\n",
    "while varx != 1:\n",
    "\n",
    "    if (varx %2 == 0):\n",
    "        varx = varx/2       \n",
    "        print(varx)               # add Display\n",
    "    else:\n",
    "        varx = varx * 3 + 1      \n",
    "        print(varx)               # add Display\n",
    "print(varx)                       # Final # Should be 1 every time\n"
   ]
  },
  {
   "attachments": {},
   "cell_type": "markdown",
   "metadata": {},
   "source": [
    "## Hacks4"
   ]
  },
  {
   "cell_type": "code",
   "execution_count": 1,
   "metadata": {},
   "outputs": [
    {
     "name": "stdout",
     "output_type": "stream",
     "text": [
      "Number 1 is 3\n",
      "Number 2 is 15\n",
      "Number 3 is 13\n",
      "Your score is 15\n"
     ]
    }
   ],
   "source": [
    "import random\n",
    "sun = 0\n",
    "numList = []\n",
    "for i in range(3):\n",
    "    numList.append(random.randint(1, 20))\n",
    "    print(\"Number \" + str(i + 1), \"is\", str(numList[i]))\n",
    "    if(numList[i] > sun):\n",
    "        sun = numList[i]\n",
    "print(\"Your score is \" + str(sun))"
   ]
  },
  {
   "attachments": {},
   "cell_type": "markdown",
   "metadata": {},
   "source": [
    "Binary Search:\n",
    "\n",
    "- determine number of iterations to find value in the data set\n",
    "- explain requirements for binary search\n",
    "- Binary search is a search algorithm that finds the position of a target value within a sorted array.  \n",
    "- Binary search compares the target value to the middle element of the array.\n",
    "An algorithm for iterating to find a value inside a data set\n",
    "- Starts in the middle of data set and eliminates half the data\n",
    "- Data must be stored in order"
   ]
  },
  {
   "cell_type": "code",
   "execution_count": 9,
   "metadata": {},
   "outputs": [
    {
     "name": "stdout",
     "output_type": "stream",
     "text": [
      "Element is present at index 1\n"
     ]
    }
   ],
   "source": [
    "# Binary Search in python\n",
    "\n",
    "def BinarySearch(array, x, low, high):\n",
    "\n",
    "    # Repeat until the pointers low and high meet each other \n",
    "    while low <= high:\n",
    "\n",
    "        mid = low + (high - low)//2 # find the middle (taking the higest index number plus the lowest and divided by two)\n",
    "\n",
    "        if array[mid] == x: # if desired number is the middle is found return desired number (middle number) \n",
    "            return mid\n",
    "\n",
    "        elif array[mid] < x: \n",
    "            low = mid + 1\n",
    "\n",
    "        else:\n",
    "            high = mid - 1\n",
    "\n",
    "    return -1\n",
    "\n",
    "\n",
    "array = [3, 4, 5, 6, 7, 8, 9]\n",
    "x = 4\n",
    "\n",
    "result = BinarySearch(array, x, 0, len(array)-1)\n",
    "\n",
    "if result != -1:\n",
    "    print(\"Element is present at index \" + str(result))\n",
    "else:\n",
    "    print(\"Not found\")"
   ]
  },
  {
   "attachments": {},
   "cell_type": "markdown",
   "metadata": {},
   "source": [
    "# Unit 3 Sections 12 and 13\n",
    "\n",
    "Calling Procedures:\n",
    "\n",
    "- A procedure is a named group of programming instructions that may have parameters and return values\n",
    "- Procedures are referred to by different names, such as method or function, depending on the programming language\n",
    "- Parameters are input values of a procedure. Arguments specify the values of the parameters when procedure is called\n",
    "- A procedure call interrupts the sequential execution of statements causing the program to execute the statements within the procedure before continuing\n",
    "- When calling procedures, it's important to take notice to whether it returns data, or a block of statements\n",
    "\n",
    "Developing and Writing Procedures:\n",
    "\n",
    "- There are 2 different types of procedures - ones that return a value and those that simply execute a block of statements\n",
    "- Picking a descriptive name is important in case you revisit the code later on (separate words with capitals)\n",
    "- steps of developing procedure: picking name, thinking of paramters , making a flowchart or writing procedure in pseudocode, and actually developing the procedure\n",
    "\n",
    "Procedural Abstraction:\n",
    "\n",
    "- One type of abstraction is procedural abstraction which provides a name for a process and allows a procedure to be used only knowing what it does and not how it does it\n",
    "    - This is helpful in managing complexity in a program\n",
    "- Subdivision of a program into separate subprograms is called modularity\n",
    "- A procedural abstraction may extract shared features to generalize functionality instead of duplicating code. This allows for program reuse, which helps manage complexity\n",
    "- When a pre-written procedure is called, you don't neccessarily need to know the details of this, just what it does and how to call it\n",
    "- simply, procedural abstraction is naming and calling a prewritten procedure"
   ]
  },
  {
   "cell_type": "code",
   "execution_count": 12,
   "metadata": {},
   "outputs": [
    {
     "name": "stdout",
     "output_type": "stream",
     "text": [
      "-6.666666666666667\n"
     ]
    }
   ],
   "source": [
    "def convertFahrenheit(temperature):\n",
    "    celsius = temperature - 32\n",
    "    celsius = celsius * 5 / 9\n",
    "    return celsius\n",
    "\n",
    "\n",
    "outsideTemp = input(\"What is the temperature Outside?\")\n",
    "print(convertFahrenheit(int(outsideTemp)))"
   ]
  },
  {
   "cell_type": "code",
   "execution_count": 16,
   "metadata": {},
   "outputs": [
    {
     "name": "stdout",
     "output_type": "stream",
     "text": [
      "your new grade is: 95.45454545454545\n"
     ]
    }
   ],
   "source": [
    "quizGrade = 32\n",
    "def currentGrade(currentPoints):    \n",
    "    currentGrade = currentPoints / 44\n",
    "    currentGrade = currentGrade * 100\n",
    "    return currentGrade\n",
    "\n",
    "newPoints = int(input(\"how many points do you currently have?\"))\n",
    "newPercent = (currentGrade(int(newPoints)))\n",
    "\n",
    "if (newPoints > quizGrade):\n",
    "    newquizGrade = newPercent\n",
    "    print(\"your new grade is: \" + str(newquizGrade))\n",
    "else:\n",
    "    print(\"your score is still \" + str(quizGrade))"
   ]
  },
  {
   "attachments": {},
   "cell_type": "markdown",
   "metadata": {},
   "source": [
    "## Hacks5"
   ]
  },
  {
   "cell_type": "code",
   "execution_count": 5,
   "metadata": {},
   "outputs": [
    {
     "name": "stdout",
     "output_type": "stream",
     "text": [
      "physics lab: in two weeks\n",
      "APEL paper: next week\n",
      "math homework: tomorrow\n",
      "Your weighted average is: 91.55555555555556\n"
     ]
    }
   ],
   "source": [
    "def organize_assignments(assignments, due_dates):\n",
    "  # create a dictionary to store assignments and due dates\n",
    "  assignment_dict = {}\n",
    "  \n",
    "  # loop through the assignments and due dates lists\n",
    "  for assignment, due_date in zip(assignments, due_dates):\n",
    "    # add the assignment and due date to the dictionary\n",
    "    assignment_dict[assignment] = due_date\n",
    "  \n",
    "  # sort the dictionary by due date\n",
    "  sorted_assignments = sorted(assignment_dict.items(), key=lambda x: x[1])\n",
    "  \n",
    "  # print the assignments and due dates\n",
    "  for assignment, due_date in sorted_assignments:\n",
    "    print(f\"{assignment}: {due_date}\")\n",
    "    \n",
    "# example usage\n",
    "assignments = [\"math homework\", \"APEL paper\", \"physics lab\"]\n",
    "due_dates = [\"tomorrow\", \"next week\", \"in two weeks\"]\n",
    "\n",
    "organize_assignments(assignments, due_dates)\n",
    "\n",
    "def track_grades(grades, weights):\n",
    "  # create a dictionary to store grades and weights\n",
    "  grade_dict = {}\n",
    "  \n",
    "  # loop through the grades and weights lists\n",
    "  for grade, weight in zip(grades, weights):\n",
    "    # add the grade and weight to the dictionary\n",
    "    grade_dict[grade] = weight\n",
    "  \n",
    "  # calculate the weighted average of the grades\n",
    "  weighted_sum = 0\n",
    "  total_weight = 0\n",
    "  for grade, weight in grade_dict.items():\n",
    "    weighted_sum += grade * weight\n",
    "    total_weight += weight\n",
    "  \n",
    "  # print the weighted average using f-strings\n",
    "  print(f\"Your weighted average is: {weighted_sum / total_weight}\")\n",
    "  \n",
    "# example usage\n",
    "grades = [90, 90, 92]\n",
    "weights = [0.1, 0.2, 0.7]\n",
    "\n",
    "track_grades(grades, weights)\n",
    "\n"
   ]
  },
  {
   "attachments": {},
   "cell_type": "markdown",
   "metadata": {},
   "source": [
    "This procedure takes in two lists, one for the grades and one for the weights, and creates a dictionary with the grades as keys and the weights as values. It then calculates the weighted average of the grades and prints it.\n",
    "\n",
    "To call the procedure, you would simply need to provide two lists of the same length with the grades and weights, like this:"
   ]
  },
  {
   "attachments": {},
   "cell_type": "markdown",
   "metadata": {},
   "source": [
    "# Unit 3 Sections 14 and 15"
   ]
  },
  {
   "attachments": {},
   "cell_type": "markdown",
   "metadata": {},
   "source": [
    "Libraries:\n",
    "- collections of precompiled codes that can be used later in a program for specific well defined operations\n",
    "- can be referred to as modules\n",
    "- may also contain documentation, configuration data, message templates, classes, and values, etc.\n",
    "\n",
    "Some libraries that simplify the coding process:\n",
    "- Pillow allows you to work with images\n",
    "- Tensor Flow helps with data automation and monitors performance\n",
    "- Matplotlib allows you to make 2D graphs and plots"
   ]
  },
  {
   "cell_type": "code",
   "execution_count": 2,
   "metadata": {},
   "outputs": [
    {
     "name": "stdout",
     "output_type": "stream",
     "text": [
      "[[1 2 3]\n",
      " [4 5 6]\n",
      " [7 8 9]]\n"
     ]
    }
   ],
   "source": [
    "import numpy as np\n",
    "new_matrix = np.array([[1, 2, 3],[4, 5, 6],[7, 8, 9]])\n",
    " \n",
    "print (new_matrix)"
   ]
  },
  {
   "cell_type": "code",
   "execution_count": 3,
   "metadata": {},
   "outputs": [
    {
     "name": "stdout",
     "output_type": "stream",
     "text": [
      "Polynomial function, f(x):\n",
      "    2\n",
      "2 x + 1\n",
      "Derivative, f(x)'=  \n",
      "4 x\n",
      "When x=5  f(x)'= 20\n"
     ]
    }
   ],
   "source": [
    "import numpy as np\n",
    " \n",
    "# defining polynomial function\n",
    "var = np.poly1d([2, 0, 1])\n",
    "print(\"Polynomial function, f(x):\\n\", var)\n",
    " \n",
    "# calculating the derivative\n",
    "derivative = var.deriv()\n",
    "print(\"Derivative, f(x)'=\", derivative)\n",
    " \n",
    "# calculates the derivative of after\n",
    "# given value of x\n",
    "print(\"When x=5  f(x)'=\", derivative(5))"
   ]
  },
  {
   "attachments": {},
   "cell_type": "markdown",
   "metadata": {},
   "source": [
    "Random Values:\n",
    "- Random number generation (RNG) produces a random number \n",
    "    - a procedure with RNG can return different values even if the parameters (inputs) do not change\n",
    "- Collegeboard uses RANDOM(A,B), to return an integer between integers A and B\n",
    "    - RANDOM(1,10) can output 1,2,3,4,5,6,7,8,9, or 10\n",
    "    - In Python, this would be random.randint(A,B), after importing Python's random library (import random)\n",
    "    - JavaScript works a little differently, with Math.random() returning a value between 0 and 1\n",
    "    \n"
   ]
  },
  {
   "cell_type": "code",
   "execution_count": 6,
   "metadata": {},
   "outputs": [
    {
     "data": {
      "text/plain": [
       "24"
      ]
     },
     "execution_count": 6,
     "metadata": {},
     "output_type": "execute_result"
    }
   ],
   "source": [
    "import random # Fill in the blank\n",
    "\n",
    "def Dice(n):\n",
    "    sum = 0\n",
    "    while n>0:\n",
    "        sum = sum + random.randint(1,6)\n",
    "        n -=1\n",
    "    return sum# Code here\n",
    "    \n",
    "Dice(5) # Will output a range of __ to __"
   ]
  },
  {
   "attachments": {},
   "cell_type": "markdown",
   "metadata": {},
   "source": [
    "## Hacks6"
   ]
  },
  {
   "cell_type": "code",
   "execution_count": 1,
   "metadata": {},
   "outputs": [
    {
     "name": "stdout",
     "output_type": "stream",
     "text": [
      "Even list: [18, 16, 16, 20, 2, 14]\n",
      "Odd list: [7, 19]\n"
     ]
    }
   ],
   "source": [
    "import random\n",
    "list = []\n",
    "\n",
    "n = int(input(\"How many numbers would you like to generate?\"))\n",
    "min = int(input(\"What is the smallest number you would like to generate?\"))\n",
    "max = int(input(\"What is the biggest number you would like to generate?\"))\n",
    "\n",
    "num = [random.randint(min, max) for v in range(n)] #generating 100 random numbers in the range of 0-200 (in this case my n random numbers is 100. Im setting a range to prevent ridiculous numbers)\n",
    "list.extend(num)\n",
    "\n",
    "def splitevenodd(list): \n",
    "   evenlist = [] \n",
    "   oddlist = [] \n",
    "   for i in list: \n",
    "        if (i % 2 == 0): \n",
    "            evenlist.append(i) \n",
    "        else: \n",
    "            oddlist.append(i) \n",
    "   print(\"Even list:\", evenlist) \n",
    "   print(\"Odd list:\", oddlist) \n",
    "\n",
    "splitevenodd(list)"
   ]
  },
  {
   "cell_type": "code",
   "execution_count": 2,
   "metadata": {},
   "outputs": [
    {
     "name": "stdout",
     "output_type": "stream",
     "text": [
      "f(x)=\n",
      "    5     2\n",
      "2 x + 6 x + 24 x\n",
      "The derivative of f(x)=\n",
      "     4\n",
      "10 x + 12 x + 24\n",
      "g(x)=\n",
      "      4     2\n",
      "6.5 x + 2 x\n",
      "The derivative of 13x^4 + 4x^2 / 2 (g(x)) when x = 9 is:\n",
      " 18990.0\n"
     ]
    }
   ],
   "source": [
    "import numpy as np\n",
    "# defining polynomial function\n",
    "eq1 = np.poly1d([2, 0, 0, 6, 24, 0])\n",
    "print(\"f(x)=\\n\", eq1)\n",
    "\n",
    "# calculating the derivative\n",
    "derivative = eq1.deriv()\n",
    "print(\"The derivative of f(x)=\\n\", derivative)\n",
    "\n",
    "#-----------------------------------\n",
    "\n",
    "eq2 = np.poly1d([6.5, 0, 2, 0, 0]) #i simplified your derivative which shud be fine right?\n",
    "print(\"g(x)=\\n\", eq2)\n",
    "\n",
    "derivative2 = eq2.deriv()\n",
    "print(\"The derivative of 13x^4 + 4x^2 / 2 (g(x)) when x = 9 is:\\n\", derivative2(9))"
   ]
  },
  {
   "cell_type": "code",
   "execution_count": 3,
   "metadata": {},
   "outputs": [
    {
     "name": "stdout",
     "output_type": "stream",
     "text": [
      "New Random Order: ['lily', 'bob', 'ollie', 'tod', 'oreo', 'cookie', 'frank', 'charlie', 'mark', 'lucy']\n",
      "New Random Order: ['boba', 'ginger', 'luna', 'jeff', 'mochi', 'lemon', 'louis', 'pluto', 'skippy', 'chase']\n"
     ]
    }
   ],
   "source": [
    "import random\n",
    "dogs = [\"bob\", \"mark\", \"lucy\", \"tod\", \"frank\", \"lily\", \"cookie\", \"oreo\", \"ollie\", \"charlie\"] \n",
    "cats = [\"luna\", \"ginger\", \"mochi\", \"pluto\", \"jeff\", \"skippy\", \"lemon\", \"boba\", \"chase\", \"louis\"] #list of 10 dog and cat names\n",
    "\n",
    "def randomOrder(animals):\n",
    "    list = []\n",
    "    random.shuffle(animals)\n",
    "    result = f'{animals}'\n",
    "    print(\"New Random Order: \" + result)\n",
    "\n",
    "randomOrder(dogs)\n",
    "randomOrder(cats)"
   ]
  },
  {
   "attachments": {},
   "cell_type": "markdown",
   "metadata": {},
   "source": [
    "# Unit 3 Section 16"
   ]
  },
  {
   "attachments": {},
   "cell_type": "markdown",
   "metadata": {},
   "source": [
    "Simulation:\n",
    "\n",
    "- A tested scenario for viewing results/outputs to prepare for them in real world situations\n",
    "- These can be used for games like dice rolling, spinners, etc\n",
    "- These simulations can have the option of obeying real world physics (Gravity, collision) or they can go against these norms since this is a fictitious scenario, and couldn't happen in real life\n",
    "\n"
   ]
  },
  {
   "attachments": {},
   "cell_type": "markdown",
   "metadata": {},
   "source": [
    "Simulation 1:\n",
    "\n",
    "Both programs below do the same thing. Given a height and a weight, they calculate how long it will take for a object to fall to the ground in a vacuum subjected to normal Earth levels of gravity.\n",
    "\n",
    "However, the second one is a simulation. It calculates the distance the object has fallen every 0.1 seconds. This is useful for if you wanted a visual representation of a falling object, which pure math can't do as smoothly."
   ]
  },
  {
   "cell_type": "code",
   "execution_count": 1,
   "metadata": {},
   "outputs": [
    {
     "name": "stdout",
     "output_type": "stream",
     "text": [
      "It will take 1.4285714285714286 seconds for an object that weighs 50 pounds to fall  10.0 meters in a vacuum\n"
     ]
    }
   ],
   "source": [
    "height = float(input(\"height in meters?\"))\n",
    "\n",
    "weight = input(\"weight in pounds?\")\n",
    "\n",
    "stuff = (2 * (height / 9.8))**(1/2)\n",
    "\n",
    "print(\"It will take\", stuff,\"seconds for an object that weighs\",weight,\"pounds\",\"to fall \",height,\"meters in a vacuum\")"
   ]
  },
  {
   "cell_type": "code",
   "execution_count": 2,
   "metadata": {},
   "outputs": [
    {
     "name": "stdout",
     "output_type": "stream",
     "text": [
      "1.5000000000000002\n",
      "11.025000000000002\n"
     ]
    }
   ],
   "source": [
    "t = 0\n",
    "g = 0\n",
    "d = 0\n",
    "false = True\n",
    "while false:\n",
    "    t = t + 0.1\n",
    "    d = 9.8 / 2 * (t**2)\n",
    "    if d >= height:\n",
    "        false = False\n",
    "    #print(d) # if you want to print the distance every time it calculates it. Too long to output to a terminal, but this could be useful to display graphically. \n",
    "    #print(t)\n",
    "\n",
    "print(t)\n",
    "print(d)"
   ]
  },
  {
   "attachments": {},
   "cell_type": "markdown",
   "metadata": {},
   "source": [
    "Simulation 2:\n",
    "\n",
    "This simulation is made in order to simulate movement on a 2d plane vs a 3d plane.\n",
    "\n",
    "How it works: we have multiple variables, if statements and equations under a while command in order to randomy generate steps on a 2d plane. Once it reaches the set destination, it will say that the man made it home after x amount of steps.\n",
    "\n",
    "For the 3D plane, it takes a lot longer due to how big and open the 3d environment is, so there are more if statements in the 3d plane"
   ]
  },
  {
   "cell_type": "code",
   "execution_count": null,
   "metadata": {},
   "outputs": [],
   "source": [
    "import random\n",
    "x = 0\n",
    "y = 0\n",
    "nights = 0\n",
    "turn = 0\n",
    "stopped = 0\n",
    "turns = []\n",
    "\n",
    "while (nights < 100):\n",
    "    step = random.randrange(4)\n",
    "    if step == 0:\n",
    "        x = x+1\n",
    "    if step == 1:\n",
    "        x = x-1\n",
    "    if step == 2:\n",
    "        y = y+1\n",
    "    if step == 3:\n",
    "        y = y-1\n",
    "\n",
    "    turn = turn + 1\n",
    "\n",
    "    if x == 0 and y == 0:\n",
    "        nights = nights + 1\n",
    "        print(\"The Man Has Made It Home After \", turn, \"Turns\")\n",
    "        turns.append(turn)\n",
    "        turn = 0\n",
    "    if turn/1000 % 1000 == 0 and x + y != 0:\n",
    "        print(\"(\", x,y, \")\")\n",
    "    if (turn > 10000000):\n",
    "        stopped = stopped + 1\n",
    "        turn = 0\n",
    "        x = 0\n",
    "        y = 0\n",
    "        nights = nights + 1\n",
    "        print(\"Caped\")\n",
    "\n",
    "average = sum(turns) / len(turns)\n",
    "print(\"Avaerage\", average, \"Ones that when't too long \", stopped)"
   ]
  },
  {
   "cell_type": "code",
   "execution_count": null,
   "metadata": {},
   "outputs": [],
   "source": [
    "import random\n",
    "x = 0\n",
    "y = 0\n",
    "z = 0\n",
    "nights = 0\n",
    "turn = 0\n",
    "stopped = 0\n",
    "turns = []\n",
    "\n",
    "while (nights < 100):\n",
    "    #rando movement\n",
    "    step = random.randrange(6)\n",
    "    if step == 0:\n",
    "        x = x+1\n",
    "    if step == 1:\n",
    "        x = x-1\n",
    "    if step == 2:\n",
    "        y = y+1\n",
    "    if step == 3:\n",
    "        y = y-1\n",
    "    if step == 4:\n",
    "        z = z+1\n",
    "    if step == 5:\n",
    "        z = z-1\n",
    "    #Turn counter\n",
    "    turn = turn + 1\n",
    "    #Goal check\n",
    "    if x == 0 and y == 0 and z == 0:\n",
    "        nights = nights + 1\n",
    "        print(\"The Bird Has Made It Home After \", turn, \"Turns\")\n",
    "        turns.append(turn)\n",
    "        turn = 0\n",
    "    if turn/1000 % 1000 == 0 and x + y + z != 0:\n",
    "        print(\"(\", x,y, \") \",\"| \", z)\n",
    "    #Too long Stoper\n",
    "    if (turn > 10000000):\n",
    "        stopped = stopped + 1\n",
    "        turn = 0\n",
    "        x = 0\n",
    "        y = 0\n",
    "        z = 0\n",
    "        nights = nights + 1\n",
    "        print(\"Caped\")\n",
    "\n",
    "average = sum(turns) / len(turns)\n",
    "print(\"Avaerage\", average,\"Ones that when't too long \", stopped)"
   ]
  },
  {
   "attachments": {},
   "cell_type": "markdown",
   "metadata": {},
   "source": [
    "## Hacks7\n",
    "> Create a simulation. Literally anything.\n",
    "> Find an example of a simulation in a software/game you use, and explain how it's a simulation"
   ]
  },
  {
   "attachments": {},
   "cell_type": "markdown",
   "metadata": {},
   "source": [
    "This first simulation takes the user's age and converts it into dog years"
   ]
  },
  {
   "cell_type": "code",
   "execution_count": 1,
   "metadata": {},
   "outputs": [
    {
     "name": "stdout",
     "output_type": "stream",
     "text": [
      "Hi,  Samit ! You are  112  years old in dog years.\n"
     ]
    }
   ],
   "source": [
    "# Prompt the user for their name and age\n",
    "name = input(\"What is your name? \")\n",
    "age = int(input(\"What is your age? \"))\n",
    "\n",
    "# Calculate the user's age in dog years\n",
    "dog_years = age * 7\n",
    "\n",
    "# Output the result\n",
    "print(\"Hi, \", name, \"! You are \", dog_years, \" years old in dog years.\")"
   ]
  },
  {
   "attachments": {},
   "cell_type": "markdown",
   "metadata": {},
   "source": [
    "This second simulation take's the user's decision of rock, paper, scissors and determines if they beat the computer. "
   ]
  },
  {
   "cell_type": "code",
   "execution_count": 3,
   "metadata": {},
   "outputs": [
    {
     "name": "stdout",
     "output_type": "stream",
     "text": [
      "It's a tie!\n",
      "The computer chose  paper .\n",
      "LOL\n"
     ]
    }
   ],
   "source": [
    "import random\n",
    "\n",
    "# Prompt the user for their move\n",
    "move = input(\"What is your move (rock, paper, or scissors)? \")\n",
    "\n",
    "# Randomly choose the computer's move\n",
    "computer_move = random.choice([\"rock\", \"paper\", \"scissors\"])\n",
    "\n",
    "# Determine the winner of the game\n",
    "if move == computer_move:\n",
    "    # It's a tie\n",
    "    print(\"It's a tie!\")\n",
    "elif move == \"rock\" and computer_move == \"paper\":\n",
    "    # The computer wins\n",
    "    print(\"The computer wins!\")\n",
    "elif move == \"rock\" and computer_move == \"scissors\":\n",
    "    # The user wins\n",
    "    print(\"You win!\")\n",
    "elif move == \"paper\" and computer_move == \"rock\":\n",
    "    # The user wins\n",
    "    print(\"You win!\")\n",
    "elif move == \"paper\" and computer_move == \"scissors\":\n",
    "    # The computer wins\n",
    "    print(\"The computer wins!\")\n",
    "elif move == \"scissors\" and computer_move == \"rock\":\n",
    "    # The computer wins\n",
    "    print(\"The computer wins!\")\n",
    "elif move == \"scissors\" and computer_move == \"paper\":\n",
    "    # The user wins\n",
    "    print(\"You win!\")\n",
    "\n",
    "# Output the computer's move\n",
    "print(\"The computer chose \", computer_move, \".\")\n",
    "print(\"LOL\")\n"
   ]
  },
  {
   "attachments": {},
   "cell_type": "markdown",
   "metadata": {},
   "source": [
    "Example of a simulation:\n",
    "\n",
    "![](ghtop_images/myleague.png)"
   ]
  },
  {
   "attachments": {},
   "cell_type": "markdown",
   "metadata": {},
   "source": [
    "This NBA 2k simulation runs through the yearly process of your team throughout the duration of an NBA season, playoffs, and then offseason. All the user needs to do is select a date to which they would like to automate their team to, and the simulation process runs through games, practices, and even automates trades and free agent signings. As you can see, with each day that passes, the system even automates the social media tweets and alerts so that the GM (the user) can see how each of their players are performing while simulating. This is a time-saving process, and instead of playing an 82-game season, the user can simply automate the process!"
   ]
  },
  {
   "attachments": {},
   "cell_type": "markdown",
   "metadata": {},
   "source": [
    "# Unit 3 Sections 17-18"
   ]
  },
  {
   "attachments": {},
   "cell_type": "markdown",
   "metadata": {},
   "source": [
    "3.17 Algorithm Efficiency:\n",
    "\n",
    "- the ability of an algorithm to solve a problem in an efficient way\n",
    "    - solves a problem\n",
    "- "
   ]
  },
  {
   "attachments": {},
   "cell_type": "markdown",
   "metadata": {},
   "source": [
    "## Hacks8"
   ]
  }
 ],
 "metadata": {
  "kernelspec": {
   "display_name": "Python 3.9.12",
   "language": "python",
   "name": "python3"
  },
  "language_info": {
   "codemirror_mode": {
    "name": "ipython",
    "version": 3
   },
   "file_extension": ".py",
   "mimetype": "text/x-python",
   "name": "python",
   "nbconvert_exporter": "python",
   "pygments_lexer": "ipython3",
   "version": "3.9.12"
  },
  "orig_nbformat": 4,
  "vscode": {
   "interpreter": {
    "hash": "40d3a090f54c6569ab1632332b64b2c03c39dcf918b08424e98f38b5ae0af88f"
   }
  }
 },
 "nbformat": 4,
 "nbformat_minor": 2
}
