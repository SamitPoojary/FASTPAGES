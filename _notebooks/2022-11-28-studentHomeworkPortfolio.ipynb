{
 "cells": [
  {
   "cell_type": "markdown",
   "metadata": {},
   "source": [
    "# Student Homework Portfolio\n",
    "> Completing Student Challenges and Homework\n",
    "\n",
    "- title: Student Homework Portfolio\n",
    "- toc: true\n",
    "- badges: false\n",
    "- permalink: /week14/studentHomeworkPortfolio\n",
    "- categories: [week 14]"
   ]
  },
  {
   "cell_type": "markdown",
   "metadata": {},
   "source": [
    "# 3.1 and 3.2"
   ]
  },
  {
   "cell_type": "markdown",
   "metadata": {},
   "source": [
    "## Variables, Assignments, and Data Abstraction:\n",
    "- Tip: using meaningful variable names helps with readability and understanding of what values are represented by the variables\n",
    "- keep it nice and simple\n",
    "- easier to understand what value means later on\n",
    "- no spaces between characters\n",
    "### Variables\n",
    "- A list of data can also be stored in variables\n",
    "    - printing and retrieving specific value in the list without creating a lot of variables\n",
    "    - easily removing, adding, or changing items into the list\n",
    "### Types of Data\n",
    "- integer: A number\n",
    "- Text/string: A word\n",
    "- Boolean: Data that determines if something is true or false\n",
    "    - List of data can even be stored as a single variable\n",
    "    - makes it more organized"
   ]
  },
  {
   "cell_type": "code",
   "execution_count": 2,
   "metadata": {},
   "outputs": [
    {
     "name": "stdout",
     "output_type": "stream",
     "text": [
      "table1 <class 'str'>\n",
      "4 <class 'int'>\n",
      "False <class 'bool'>\n"
     ]
    }
   ],
   "source": [
    "name = \"table1\" #string\n",
    "print(name, type(name))\n",
    "\n",
    "number = 4 #integer\n",
    "print(number, type(number))\n",
    "\n",
    "isAbsent = False\n",
    "print(isAbsent, type(isAbsent))"
   ]
  },
  {
   "cell_type": "markdown",
   "metadata": {},
   "source": [
    "## Assignments\n",
    "- The assignment operator allows a program to change the value represented by a variable\n",
    "- Used to assigning values to variables\n",
    "- The \"=\" operator assigns equated values on either side\n",
    "- The \"+=\" operator adds the right side to the left, then assigns it all to the left operand\n",
    "    - x += y\n",
    "        - Result: x+y\n",
    "- The \"-=\" operator subtracts the right side from the left, and assigns it all to the left operand\n",
    "    - x -= y\n",
    "    - x-y\n",
    "- Similarily, the */ and /= multiply and divide the right and left side, respectively"
   ]
  },
  {
   "cell_type": "code",
   "execution_count": 3,
   "metadata": {},
   "outputs": [
    {
     "name": "stdout",
     "output_type": "stream",
     "text": [
      "2\n"
     ]
    }
   ],
   "source": [
    "a = 1\n",
    "b = 2\n",
    "a = b\n",
    "print(a)"
   ]
  },
  {
   "cell_type": "markdown",
   "metadata": {},
   "source": [
    "Notice here how the value stored in a variable will be the most recent value assigned"
   ]
  },
  {
   "cell_type": "code",
   "execution_count": 4,
   "metadata": {},
   "outputs": [
    {
     "name": "stdout",
     "output_type": "stream",
     "text": [
      "1\n"
     ]
    }
   ],
   "source": [
    "a = 1\n",
    "b = a\n",
    "a = 2\n",
    "print(b)"
   ]
  },
  {
   "cell_type": "markdown",
   "metadata": {},
   "source": [
    "### Changing Values"
   ]
  },
  {
   "cell_type": "code",
   "execution_count": 5,
   "metadata": {},
   "outputs": [
    {
     "name": "stdout",
     "output_type": "stream",
     "text": [
      "10\n"
     ]
    }
   ],
   "source": [
    "currentScore = 10\n",
    "highScore = currentScore\n",
    "currentScore = 7\n",
    "print(highScore)"
   ]
  },
  {
   "cell_type": "markdown",
   "metadata": {},
   "source": [
    "Notice how it prints 10 rather than 7, because currentScore was initially defined before highScore was. "
   ]
  },
  {
   "cell_type": "markdown",
   "metadata": {},
   "source": [
    "### Data Abstraction\n",
    "- method used in coding to represent data in a useful form, by taking away aspects of data that aren't being used in the situation\n",
    "- Variables and lists are primary tools in data abstraction\n",
    "- provides a separation between the abstract properties of a data type and the concrete details of its representation\n",
    "- helps manage complexity in programs by giving a collection of data a name without referencing the specific details of the representation\n",
    "\n",
    "### List & Strings\n",
    "- List = ordered sequence of elements\n",
    "- Element = individual value in a list that is assigned to a unique index\n",
    "- Index = a way to reference the elements in a list or string using natural numbers\n",
    "- String = ordered sequences of characters"
   ]
  },
  {
   "cell_type": "markdown",
   "metadata": {},
   "source": [
    "### Managing Lists\n",
    "- There are 3 different types of list operations\n",
    "    - one is to assign values to a list at certain indices\n",
    "    - another is to create an empty list an dassign it to a variable\n",
    "    - the third is assigning a copy of one list to another list\n",
    "### Managing Complexity/Readability:\n",
    "- Helps improve the fluidity and readability\n",
    "- reduces the need for new variables since more and more data is being collected (don't overcomplicate)\n",
    "- Update data with ease!"
   ]
  },
  {
   "cell_type": "code",
   "execution_count": 1,
   "metadata": {},
   "outputs": [
    {
     "name": "stdout",
     "output_type": "stream",
     "text": [
      "green\n",
      "red\n",
      "pink\n",
      "purple\n",
      "blue\n",
      "brown\n"
     ]
    }
   ],
   "source": [
    "colorList = [\"green\", \"red\", \"pink\", \"purple\", \"blue\", \"brown\"]\n",
    "for i in colorList:\n",
    "    print (i)"
   ]
  },
  {
   "cell_type": "markdown",
   "metadata": {},
   "source": [
    "## Homework!\n",
    "\n",
    "You will turn in a program that utilizes lists and variables as it's primary function, options could be a quiz, a sorter, database, or wherever your imagination brings you. You will be graded on how well you understood the concepts and if you used anything other than just the simplest parts."
   ]
  },
  {
   "cell_type": "code",
   "execution_count": 9,
   "metadata": {},
   "outputs": [
    {
     "name": "stdout",
     "output_type": "stream",
     "text": [
      "For each question below, please use proper capitalization and provide non-numerical answers\n",
      "1) Who won the 2014 FIFA World Cup?\n",
      "Nice job! You correctly answered Germany\n",
      "2) What country has won the most FIFA World Cups?\n",
      "Nice job! You correctly answered Brazil\n",
      "3) Who has the most WC assists of all time (last name only)?\n",
      "Nice job! You correctly answered Maradona\n",
      "4) What is the name of the German striker who leads all time WC Goals?\n",
      "Nice job! You correctly answered Miroslav Klose\n",
      "5) Where is the current World Cup being held? \n",
      "Nice job! You correctly answered Qatar\n",
      "6) Where is the  World Cup being held in 2026? \n",
      "Nice job! You correctly answered USA\n",
      "7) The FIFA World Cup occurs once every _ years? \n",
      "Nice job! You correctly answered Four\n",
      "8) Where was the FIFA World Cup held in 2014? \n",
      "Yikes! You incorrectly answered South Africa\n",
      "9) Where was the FIFA World Cup held in 2010? \n",
      "Nice job! You correctly answered South Africa\n",
      "10) Who won the FIFA World Cup in 2010? \n",
      "Nice job! You correctly answered Spain\n",
      "Congratulations (Or Not)! Your score is 9 out of 10\n"
     ]
    }
   ],
   "source": [
    "print(\"For each question below, please use proper capitalization and provide non-numerical answers\")\n",
    "\n",
    "WCQuiz = {\n",
    "    \"1) Who won the 2014 FIFA World Cup?\": \"Germany\", \n",
    "    \"2) What country has won the most FIFA World Cups?\": \"Brazil\", \n",
    "    \"3) Who has the most WC assists of all time (last name only)?\": \"Maradona\", \n",
    "    \"4) What is the name of the German striker who leads all time WC Goals?\": \"Miroslav Klose\", \n",
    "    \"5) Where is the current World Cup being held? \": \"Qatar\", \n",
    "    \"6) Where is the  World Cup being held in 2026? \": \"USA\",\n",
    "    \"7) The FIFA World Cup occurs once every _ years? \": \"Four\",\n",
    "    \"8) Where was the FIFA World Cup held in 2014? \": \"Brazil\",\n",
    "    \"9) Where was the FIFA World Cup held in 2010? \": \"South Africa\",\n",
    "    \"10) Who won the FIFA World Cup in 2010? \": \"Spain\",\n",
    "}\n",
    "\n",
    "# the code below aims to first project the question to the user, and then return the same exact value that was inputted in order to check correctness\n",
    "def interface(question):\n",
    "    print(question)\n",
    "    user = input()\n",
    "    return user\n",
    "\n",
    "score = 0 #this sets the user's initial score to 0, since they have not answered any questions correctly just yet\n",
    "\n",
    "for key in WCQuiz:\n",
    "    usr = interface(key)\n",
    "    if usr == WCQuiz[key]:\n",
    "        print(f\"Nice job! You correctly answered {usr}\") # usage of an f-string provides us a way to embed an expression inside a string; the little f before the \"\n",
    "        score += 1\n",
    "    else:\n",
    "        print(f\"Yikes! You incorrectly answered {usr}\") # usage of an f-string provides us a way to embed an expression inside a string; the little f before the \"\n",
    "\n",
    "print(\"Congratulations (Or Not)! Your score is \" + str(score) + \" out of 10\")\n"
   ]
  },
  {
   "cell_type": "markdown",
   "metadata": {},
   "source": [
    "# Unit 3 Sections 3-4 \n",
    "\n",
    "- title: Mathematical Expressions and Strings\n",
    "- comments: true\n",
    "- permalink: /jupyter/lesson2\n",
    "- categories: [jupyter]"
   ]
  },
  {
   "cell_type": "markdown",
   "metadata": {},
   "source": [
    "## What is an Algorithm?\n",
    "\n",
    "**An algorithm:** a set of instructions that can accomplish a specific task.\n",
    "\n",
    "### An Algorithm Has Three Components\n",
    "\n",
    "1. **Sequencing:** Algorithms do tasks in the order of specification.\n",
    "\n",
    "![img1](https://github.com/manigggg18/manimani/blob/master/images/first.jpg?raw=true)\n",
    "\n",
    "2. **Selection:** Helps choose two different outcomes based off a decision.\n",
    "\n",
    "![img1](https://github.com/manigggg18/manimani/blob/master/images/1234.png?raw=true)\n",
    "\n",
    "3. **Iteration:** If a condition is true, then the code can repeat. \n",
    "\n",
    "![img1](https://github.com/manigggg18/manimani/blob/master/images/123.png?raw=true)\n",
    "\n",
    "### Algorithms Can Be Represented in Two Ways\n",
    "\n",
    "1. **Flowcharts:** Use shapes and arrows to represent the steps of an algorithm. \n",
    "\n",
    "![img1](https://github.com/manigggg18/manimani/blob/master/images/123456.png?raw=true)\n",
    "\n",
    "![img1](https://github.com/manigggg18/manimani/blob/master/images/12345.png?raw=true)\n",
    "\n",
    "2. **Pseudocode:** A blend of human language and coding format. \n",
    "\n",
    "### Hacks: Jamboard Flowchart\n"
   ]
  },
  {
   "cell_type": "markdown",
   "metadata": {},
   "source": [
    "---\n",
    "---\n",
    "\n",
    "## Arithmetic Operations\n",
    "\n",
    "Arithmetic operations exist in most programming languages.\n",
    "\n",
    "### Basic Operations\n",
    "\n",
    "**Subtraction**:\n",
    "\n",
    "- Represented by “-\""
   ]
  },
  {
   "cell_type": "code",
   "execution_count": 1,
   "metadata": {},
   "outputs": [],
   "source": [
    "num1 = 2 - 1"
   ]
  },
  {
   "cell_type": "markdown",
   "metadata": {},
   "source": [
    "**Addition**: \n",
    "\n",
    "- Represented by \"+\""
   ]
  },
  {
   "cell_type": "code",
   "execution_count": 2,
   "metadata": {},
   "outputs": [],
   "source": [
    "num1 = 2 + 1"
   ]
  },
  {
   "cell_type": "markdown",
   "metadata": {},
   "source": [
    "**Multiplication**: \n",
    "\n",
    "- Represented by “*”"
   ]
  },
  {
   "cell_type": "code",
   "execution_count": 3,
   "metadata": {},
   "outputs": [],
   "source": [
    "num1 = 2 * 1"
   ]
  },
  {
   "cell_type": "markdown",
   "metadata": {},
   "source": [
    "**Division**: \n",
    "\n",
    "- Represented by “/”"
   ]
  },
  {
   "cell_type": "markdown",
   "metadata": {},
   "source": [
    "**Getting the Remainder**: \n",
    "\n",
    "- Represented by “MOD” (% in python)"
   ]
  },
  {
   "cell_type": "code",
   "execution_count": 4,
   "metadata": {},
   "outputs": [],
   "source": [
    "num1 = 5 % 2"
   ]
  },
  {
   "cell_type": "markdown",
   "metadata": {},
   "source": [
    "### Different Uses\n",
    "\n",
    "> Items can be numbers or variables.\n",
    "\n",
    "Examples:"
   ]
  },
  {
   "cell_type": "code",
   "execution_count": 5,
   "metadata": {},
   "outputs": [],
   "source": [
    "num1 = 10\n",
    "num2 = num1 - 25\n",
    "num3 = 100 * num1\n",
    "num4 = num1 / num2\n",
    "num5 = 9 % num4"
   ]
  },
  {
   "cell_type": "markdown",
   "metadata": {},
   "source": [
    "### Order of Operations\n",
    "\n",
    "Arithmetic operations in programming are performed in the same order as operations in mathematics:\n",
    "\n",
    "- Operations in parentheses should be done first.\n",
    "\n",
    "- Division and multiplication should be done before addition and subtraction.\n",
    "\n",
    "- Modulus works similar to multiplication and division.\n",
    "\n",
    "Example: Evaluate num1\t"
   ]
  },
  {
   "cell_type": "code",
   "execution_count": 6,
   "metadata": {},
   "outputs": [
    {
     "name": "stdout",
     "output_type": "stream",
     "text": [
      "10.0\n"
     ]
    }
   ],
   "source": [
    "num1 = 9 % 2 * ( 8 - 2 ) + 8 / ( 6 - 4 )\n",
    "print(num1)"
   ]
  },
  {
   "cell_type": "markdown",
   "metadata": {},
   "source": [
    "---\n",
    "---\n",
    "\n",
    "## Variables\n",
    "\n",
    "### Different Ways Values are Stored in Variables\n",
    "\n",
    "1. Numerical value stored in a variable\n",
    "   \n",
    "2. Value of another variable stored in a variable \n",
    "   \n",
    "3. Result of an operation stored in a variable \n",
    "\n",
    "4. Result of a procedure call stored in a variable "
   ]
  },
  {
   "cell_type": "markdown",
   "metadata": {},
   "source": [
    "### Sequencing is Important!\n",
    "\n",
    "Changing the order of the steps changes the overall outcome, since every time the value assigned to a variable is changed, it overrides the last value which was assigned to the same variable. That is why it is important to track the value of variables, especially in code where the value is constantly changing."
   ]
  },
  {
   "cell_type": "code",
   "execution_count": null,
   "metadata": {},
   "outputs": [],
   "source": [
    "num1 = 2\n",
    "num2 = 4\n",
    "num3 = 6\n",
    "num1 = num2 + num3      # num1 is now 4 + 6, which is 10\n",
    "num2 = num1 + num3      # num2 is now (the new num1) 10 + 6, which is 16\n",
    "# output: num1 = 10, num2 = 16, num3 = 6"
   ]
  },
  {
   "cell_type": "markdown",
   "metadata": {},
   "source": [
    "**VS**"
   ]
  },
  {
   "cell_type": "code",
   "execution_count": null,
   "metadata": {},
   "outputs": [],
   "source": [
    "num1 = 2\n",
    "num2 = 4\n",
    "num3 = 6\n",
    "num2 = num1 + num3  #num2 is now 8\n",
    "num1 = num2 + num3  # num1 is now 14\n",
    "# output: num1 = 14, num2 = 8, num3 = 6"
   ]
  },
  {
   "cell_type": "markdown",
   "metadata": {},
   "source": [
    "### Tracking Variables\n",
    "\n",
    "Tracking variables is a common question found on AP exams and is an important thing to keep in mind when writing any code. If the value of your variables changes a lot, not accounting for these changes can result in an unwanted outcome."
   ]
  },
  {
   "cell_type": "code",
   "execution_count": null,
   "metadata": {},
   "outputs": [],
   "source": [
    "var1 = 9\n",
    "var2 = 7\n",
    "var3 = 2\n",
    "\n",
    "#var = var1 + 5\n",
    "#var2 = var1 - var3\n",
    "#var1 = var2\n",
    "#var3 = (var1 + var2) / 2\n",
    "#var2 = 6\n",
    "\n",
    "print(var1)\n",
    "print(var2)\n",
    "print(var3)"
   ]
  },
  {
   "cell_type": "markdown",
   "metadata": {},
   "source": [
    "### Hacks/Homework\n",
    "\n",
    "#### Evaluate the variable \"result\"."
   ]
  },
  {
   "cell_type": "code",
   "execution_count": 11,
   "metadata": {},
   "outputs": [
    {
     "name": "stdout",
     "output_type": "stream",
     "text": [
      "20.4\n"
     ]
    }
   ],
   "source": [
    "Num1 = 50\n",
    "Num2 = Num1 % 9 + 15                    # Num2 = 50 % 9 = 5 +15 = 20\n",
    "Num3 = Num2 / Num1 + ( Num2 * 2 )       # Num3 = 20/50 + 40 = 40.4\n",
    "Num4 = Num3 + Num1 / 5 - 10             # Num4 = 40.4 + 10 - 10\n",
    "Result = Num4 - Num2                    # Result = 40.4 - 20 = 20.4"
   ]
  },
  {
   "cell_type": "code",
   "execution_count": 10,
   "metadata": {},
   "outputs": [
    {
     "name": "stdout",
     "output_type": "stream",
     "text": [
      "0\n"
     ]
    }
   ],
   "source": [
    "Num1 = 10\n",
    "Num2 = Num1 % 3 * 4                     # Num2 = 1 * 4 = 4\n",
    "Num1 = Num2                             # Num1 = 4\n",
    "Num3 = Num1 * 3                         # Num3 = 4 * 3 = 12\n",
    "Result = Num3 % 2                       # Result = 0"
   ]
  },
  {
   "cell_type": "code",
   "execution_count": 1,
   "metadata": {},
   "outputs": [
    {
     "name": "stdout",
     "output_type": "stream",
     "text": [
      "17\n"
     ]
    }
   ],
   "source": [
    "valueA = 4\n",
    "valueB = 90\n",
    "valueC = 17\n",
    "valueB = valueC - valueA                # valueB = 17 - 4 = 13\n",
    "valueA = valueA * 10                    # valueA = 4 * 10 = 40\n",
    "if valueB > 10:                         # valueB is 13 (> 10)\n",
    "    print(valueC)                       # Will print 17"
   ]
  },
  {
   "cell_type": "code",
   "execution_count": 2,
   "metadata": {},
   "outputs": [
    {
     "name": "stdout",
     "output_type": "stream",
     "text": [
      "straightbrownshort\n"
     ]
    }
   ],
   "source": [
    "type = \"curly\"\n",
    "color = \"brown\"\n",
    "length = \"short\"\n",
    "type = \"straight\"\n",
    "hair = type + color + length            # hair = \"straightbrownshort\" (concatenation)\n",
    "print(hair)                             # This will print straightbrownshort"
   ]
  },
  {
   "cell_type": "markdown",
   "metadata": {},
   "source": [
    "### Strings Hacks\n",
    "\n",
    "#### Find the result of the following problems. Then convert the pseudocode to working python code using your knowledge of python string operators.\n",
    "\n",
    "**Problem 1** Solution"
   ]
  },
  {
   "cell_type": "code",
   "execution_count": 5,
   "metadata": {},
   "outputs": [
    {
     "name": "stdout",
     "output_type": "stream",
     "text": [
      "Mr.Mort is very handsome.\n"
     ]
    }
   ],
   "source": [
    "Noun = \"Mr.Mortenson\" \n",
    "Adjective = \"handsome\" \n",
    "Adjective2 = \"very\" \n",
    "Verb = \"is\" \n",
    "abrev = Noun[0:7]\n",
    "yoda = abrev + \" \" + Verb + \" \" + Adjective2 + \" \" + Adjective + \".\" # takes into account only the first seven characters of \"Mr. Mortenson\"\n",
    "print(yoda)"
   ]
  },
  {
   "cell_type": "markdown",
   "metadata": {},
   "source": [
    "**Problem 2** Solution"
   ]
  },
  {
   "cell_type": "code",
   "execution_count": 9,
   "metadata": {},
   "outputs": [
    {
     "name": "stdout",
     "output_type": "stream",
     "text": [
      "The first cookie has 4.0 and the second cookie has 225.\n"
     ]
    }
   ],
   "source": [
    "cookie = \"choclate\" \n",
    "cookie2 = \"rasin\" \n",
    "len1 = len(cookie) / 2 \n",
    "len2 = len(cookie2) * 45 \n",
    "vote1 = (cookie, \"vote\", len2) \n",
    "vote2 = (cookie2, \"vote\", len1) \n",
    "votes = \"The first cookie has \" + str(len1) + \" and the second cookie has \" + str(len2) + \".\"\n",
    "print(votes)"
   ]
  }
 ],
 "metadata": {
  "kernelspec": {
   "display_name": "Python 3.9.12",
   "language": "python",
   "name": "python3"
  },
  "language_info": {
   "codemirror_mode": {
    "name": "ipython",
    "version": 3
   },
   "file_extension": ".py",
   "mimetype": "text/x-python",
   "name": "python",
   "nbconvert_exporter": "python",
   "pygments_lexer": "ipython3",
   "version": "3.9.12"
  },
  "orig_nbformat": 4,
  "vscode": {
   "interpreter": {
    "hash": "40d3a090f54c6569ab1632332b64b2c03c39dcf918b08424e98f38b5ae0af88f"
   }
  }
 },
 "nbformat": 4,
 "nbformat_minor": 2
}
