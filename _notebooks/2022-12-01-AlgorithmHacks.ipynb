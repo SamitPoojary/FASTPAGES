{
 "cells": [
  {
   "cell_type": "markdown",
   "metadata": {},
   "source": [
    "# Procedures and Algorithms\n",
    "> Completing Student Challenges and Homework\n",
    "\n",
    "- title: Procedural Abstraction and Algorithms\n",
    "- toc: true\n",
    "- badges: false\n",
    "- permalink: /week14/AlgorithmHacks\n",
    "- categories: [week 14]"
   ]
  },
  {
   "cell_type": "code",
   "execution_count": 9,
   "metadata": {},
   "outputs": [
    {
     "name": "stdout",
     "output_type": "stream",
     "text": [
      "Fibonacci sequence:\n",
      "0\n",
      "1\n",
      "1\n"
     ]
    }
   ],
   "source": [
    "# a while to display the Fibonacci sequence up to any \"n-th\" term as prompted by the user\n",
    "\n",
    "terms = int(input(\"How many terms? \"))\n",
    "\n",
    "# first two terms\n",
    "n1, n2 = 0, 1\n",
    "count = 0\n",
    "\n",
    "# check if the number of terms is valid - fibonacci sequence only includes positive numbers and not negative\n",
    "if terms <= 0:\n",
    "   print(\"Sorry! Please enter positive integers only\")\n",
    "# if there is only one term, return n1\n",
    "elif terms == 1:\n",
    "   print(\"Fibonacci sequence upto\",terms,\":\")\n",
    "   print(n1)\n",
    "# generate fibonacci sequence\n",
    "else:\n",
    "   print(\"Fibonacci sequence:\")\n",
    "   while count < terms:\n",
    "       print(n1)\n",
    "       nth = n1 + n2\n",
    "       # update all new values\n",
    "       n1 = n2\n",
    "       n2 = nth\n",
    "       count += 1"
   ]
  },
  {
   "cell_type": "markdown",
   "metadata": {},
   "source": [
    "## The Fibonacci Sequence:\n",
    "\n",
    "A Fibonacci sequence is the integer sequence of 0,1,1,2,3,5,8...etc. Notice how the first two numbers are 0 and 1, and from there on out, the following numbers are simply the previous two added together. \n",
    "\n",
    "In the code that I have above, I am storing the number of terms into a variable called \"terms\". I initialized the first term to 0 and the second to 1, because as long as those are in place, the rest of the sequence can be built. Since the user will likely enter an amount of terms greater than 2, a while loop is utilized to find the nxt term in the sequence by added the preceding two terms. The variables are then interchanged so that the process can continue. This is seen in the line \"n2 = nth\", and the \"n1\" transforms into the \"n2\" so that the process is infinite. \n"
   ]
  }
 ],
 "metadata": {
  "kernelspec": {
   "display_name": "Python 3.9.12",
   "language": "python",
   "name": "python3"
  },
  "language_info": {
   "codemirror_mode": {
    "name": "ipython",
    "version": 3
   },
   "file_extension": ".py",
   "mimetype": "text/x-python",
   "name": "python",
   "nbconvert_exporter": "python",
   "pygments_lexer": "ipython3",
   "version": "3.9.12"
  },
  "orig_nbformat": 4,
  "vscode": {
   "interpreter": {
    "hash": "40d3a090f54c6569ab1632332b64b2c03c39dcf918b08424e98f38b5ae0af88f"
   }
  }
 },
 "nbformat": 4,
 "nbformat_minor": 2
}
