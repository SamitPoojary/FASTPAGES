{
 "cells": [
  {
   "cell_type": "markdown",
   "metadata": {},
   "source": [
    "# Vocabulary\n",
    "> Key Vocabulary Terms to Complement Algorithm Studying\n",
    "\n",
    "- title: Key Vocab\n",
    "- toc: false\n",
    "- badges: false"
   ]
  },
  {
   "cell_type": "markdown",
   "metadata": {},
   "source": [
    "## Unit 2 - Binary/Data Terms \n",
    "\n",
    "### Bits - Bytes - Hexadecimal/Nibbles\n",
    "\n",
    "##### Bits and Bytes:\n",
    "- Bits and Bytes are binary digits, or bits for short\n",
    "- Single Bits are too small to be much use, so they are grouped together into units of 8 bits. \n",
    "- Each 8-bit unit is called a byte\n",
    "\n",
    "##### Hexadecimals/Nibbles:\n",
    "- Hexadecmial is a base-16 numbering system that uses the digits 0 through 9 and the letters A through F to represent data, including nibbles and bytes\n",
    "- Nibbles can be represented by a hexadecimal digit"
   ]
  },
  {
   "cell_type": "markdown",
   "metadata": {},
   "source": [
    "## Unit 3 - Algorithm/Programming Terms\n",
    "\n",
    "### Variables, Data Types, Assignment Operators\n",
    "\n",
    "##### Variables and Data Types\n",
    "- a variable is a symbolic name that is a reference or pointer to an object\n",
    "- once an object is assigned to a variable, you can refer to the object by that name\n",
    "\n"
   ]
  },
  {
   "cell_type": "code",
   "execution_count": 1,
   "metadata": {},
   "outputs": [
    {
     "name": "stdout",
     "output_type": "stream",
     "text": [
      "22\n"
     ]
    }
   ],
   "source": [
    "x = 22\n",
    "print (x)"
   ]
  },
  {
   "cell_type": "markdown",
   "metadata": {},
   "source": [
    "##### Assignment Operators\n",
    "- used to assign the value, variable and function to another variable\n",
    "- =\n",
    "- +=\n",
    "- -=\n",
    "- /=\n",
    "- *=\n",
    "- %="
   ]
  },
  {
   "cell_type": "code",
   "execution_count": 6,
   "metadata": {},
   "outputs": [
    {
     "name": "stdout",
     "output_type": "stream",
     "text": [
      "11\n",
      "9\n",
      "4.5\n",
      "0.5\n",
      "1.0\n"
     ]
    }
   ],
   "source": [
    "y = 9\n",
    "y+=2\n",
    "print(y)\n",
    "\n",
    "y-=2\n",
    "print(y)\n",
    "\n",
    "y/=2\n",
    "print(y)\n",
    "\n",
    "y%=2\n",
    "print(y)\n",
    "\n",
    "y*=2\n",
    "print(y)"
   ]
  }
 ],
 "metadata": {
  "kernelspec": {
   "display_name": "Python 3.9.12",
   "language": "python",
   "name": "python3"
  },
  "language_info": {
   "codemirror_mode": {
    "name": "ipython",
    "version": 3
   },
   "file_extension": ".py",
   "mimetype": "text/x-python",
   "name": "python",
   "nbconvert_exporter": "python",
   "pygments_lexer": "ipython3",
   "version": "3.9.12 (main, Apr  5 2022, 01:53:17) \n[Clang 12.0.0 ]"
  },
  "orig_nbformat": 4,
  "vscode": {
   "interpreter": {
    "hash": "40d3a090f54c6569ab1632332b64b2c03c39dcf918b08424e98f38b5ae0af88f"
   }
  }
 },
 "nbformat": 4,
 "nbformat_minor": 2
}
