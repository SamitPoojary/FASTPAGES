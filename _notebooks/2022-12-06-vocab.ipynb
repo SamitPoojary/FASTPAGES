{
 "cells": [
  {
   "cell_type": "markdown",
   "metadata": {},
   "source": [
    "# Vocabulary\n",
    "> Key Vocabulary Terms to Complement Algorithm Studying\n",
    "\n",
    "- title: Key Vocab\n",
    "- toc: false\n",
    "- badges: false"
   ]
  },
  {
   "cell_type": "markdown",
   "metadata": {},
   "source": [
    "## Unit 2 - Binary/Data Terms \n",
    "\n",
    "### Bits - Bytes - Hexadecimal/Nibbles\n",
    "\n",
    "##### Bits and Bytes:\n",
    "- Bits and Bytes are binary digits, or bits for short\n",
    "- Single Bits are too small to be much use, so they are grouped together into units of 8 bits. \n",
    "- Each 8-bit unit is called a byte\n",
    "\n",
    "##### Hexadecimals/Nibbles:\n",
    "- Hexadecmial is a base-16 numbering system that uses the digits 0 through 9 and the letters A through F to represent data, including nibbles and bytes\n",
    "- Nibbles can be represented by a hexadecimal digit"
   ]
  },
  {
   "attachments": {},
   "cell_type": "markdown",
   "metadata": {},
   "source": [
    "<strong>Bits</strong>: A bit or a binary digit, is the smallest unit of data that a computer can process and store. A bit can be one of 2 physical states, such as either 0 or 1, yes or no, and true or false. \n",
    "\n",
    "<strong>Bytes</strong>: A byte is a unit of data that is eight bits long. It is used by computers to represent a character such as a letter or number symbol. \n",
    "\n",
    "<strong>Hexadecimal</strong>: Hexadecimal is a numbering system with base 16. There are 16 symbols or possible digit values from 0 to 9, followed by six alphabetic characters -- A, B, C, D, E and F. It can be used to represent large numbers with fewer digits.\n",
    "\n",
    "<strong>Binary Numbers</strong> \n",
    "\n",
    "<strong>Unsigned Integer</strong>: Numbers without + or - sign, only representing the magnitude not the direction. Used when we know that the value we are storing will always be non-negative\n",
    "\n",
    "Ex. 1, 2, 3, 4\n",
    "\n",
    "<strong>Signed Integer</strong>: The default where the variable can hold positive or negative numbers\n",
    "\n",
    "Ex. -1, 6, -29, 1000\n",
    "\n",
    "<strong>Floating Point</strong>: Positive or negative whole number with a decimal point. Used to represent real  numbers and is written with a decimal point dividing the integer and fractional parts\n",
    "\n",
    "Ex. 1.23, 87.425, and -9039454.2, NOT 101, -3, 18203\n",
    "\n",
    "<strong>Binary Data Abstractions</strong>: \n",
    "\n",
    "<strong>Boolean</strong>: Variable type that represents one of two values: True or False. \n",
    "\n",
    "A = 200 \n",
    "\n",
    "B = 33 \n",
    "\n",
    "If b > a:\n",
    "\n",
    "print(“b is greater than a”)\n",
    "\n",
    "If a > b: \n",
    "\n",
    "print(“a is greater than b”)\n",
    "\n",
    "<strong>ASCII</strong>: Stands for American Standard Code for Information Interchange. ASCII was first created when all people wanted computers to be able to show was numbers, letters, punctuation, and non-printing commands(Enter, Delete, F1).. All ASCII encoded character can be represented by 1 byte, or 8 bits for a total of 2^8 = 127 different total characters. \n",
    "\n",
    "Ex. lowercase “h” character → 104 (D) → 01101000(B)\n",
    "\n",
    "<strong>Unicode</strong>: today, people use emojis and new symbols like other languages and stuff and computers needed to be able to represent all that. Unicode is a new standard defining an association between characters and even more numbers. Each unicode character (utf8) is 4 bytes, or 32 bits, enough for 2^32 different characters. Most modern programming languages represent strings as utf8 encoded characters (hex) because people use these new symbols in their code, but old languages like C still associat either character type with a single byte integer\n",
    "\n",
    "<strong>RGB</strong>: RGB (red, green, and blue) refers to a system for representing the colors to be used on a computer display.These 3 colors can be combined in various proportions to obtain any color in the visible spectrum. \n",
    "\n",
    "Ex. rgb(255, 0, 0) = red because red is set to its highest value (255), and the other two (green and blue) are set to 0. \n",
    "\n",
    "<strong>Data Compression</strong>\n",
    "\n",
    "<strong>Lossy</strong>: a techinique that reduces file size by discarding less important information\n",
    "\n",
    "<strong>Lossless (unit 3)</strong>: Every bit of data originally in a file remains after it is uncompressed, and all the information is restored.\n",
    "\n",
    "\n",
    "<strong>Variables</strong>:An abstraction inside a program that holds a specific value or meaning defined by the programmer.\n",
    "\n",
    "<strong>Data Types</strong>: \n",
    "\n",
    "Integer- highScore (involves math, save as integer or numbers)\n",
    "\n",
    "String- firstName (name is text, so it is a string)\n",
    "\n",
    "Boolean- isSunny (2 options, true or false)\n",
    "\n",
    "String- phoneNumber (no math, just numbers)"
   ]
  },
  {
   "cell_type": "markdown",
   "metadata": {},
   "source": [
    "## Unit 3 - Algorithm/Programming Terms\n",
    "\n",
    "### Variables, Data Types, Assignment Operators\n",
    "\n",
    "##### Variables and Data Types\n",
    "- a variable is a symbolic name that is a reference or pointer to an object\n",
    "- once an object is assigned to a variable, you can refer to the object by that name\n",
    "\n"
   ]
  },
  {
   "cell_type": "code",
   "execution_count": 1,
   "metadata": {},
   "outputs": [
    {
     "name": "stdout",
     "output_type": "stream",
     "text": [
      "22\n"
     ]
    }
   ],
   "source": [
    "x = 22\n",
    "print (x)"
   ]
  },
  {
   "cell_type": "markdown",
   "metadata": {},
   "source": [
    "##### Assignment Operators\n",
    "- used to assign the value, variable and function to another variable\n",
    "- =\n",
    "- +=\n",
    "- -=\n",
    "- /=\n",
    "- *=\n",
    "- %="
   ]
  },
  {
   "cell_type": "code",
   "execution_count": 6,
   "metadata": {},
   "outputs": [
    {
     "name": "stdout",
     "output_type": "stream",
     "text": [
      "11\n",
      "9\n",
      "4.5\n",
      "0.5\n",
      "1.0\n"
     ]
    }
   ],
   "source": [
    "y = 9\n",
    "y+=2\n",
    "print(y)\n",
    "\n",
    "y-=2\n",
    "print(y)\n",
    "\n",
    "y/=2\n",
    "print(y)\n",
    "\n",
    "y%=2\n",
    "print(y)\n",
    "\n",
    "y*=2\n",
    "print(y)"
   ]
  }
 ],
 "metadata": {
  "kernelspec": {
   "display_name": "Python 3.9.12",
   "language": "python",
   "name": "python3"
  },
  "language_info": {
   "codemirror_mode": {
    "name": "ipython",
    "version": 3
   },
   "file_extension": ".py",
   "mimetype": "text/x-python",
   "name": "python",
   "nbconvert_exporter": "python",
   "pygments_lexer": "ipython3",
   "version": "3.9.12 (main, Apr  5 2022, 01:53:17) \n[Clang 12.0.0 ]"
  },
  "orig_nbformat": 4,
  "vscode": {
   "interpreter": {
    "hash": "40d3a090f54c6569ab1632332b64b2c03c39dcf918b08424e98f38b5ae0af88f"
   }
  }
 },
 "nbformat": 4,
 "nbformat_minor": 2
}
