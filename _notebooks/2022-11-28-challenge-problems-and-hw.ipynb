{
 "cells": [
  {
   "cell_type": "markdown",
   "metadata": {},
   "source": [
    "# Student Homework Portfolio\n",
    "> Completing Student Challenges and Homework\n",
    "\n",
    "- title: Student Homework Portfolio\n",
    "- toc: false\n",
    "- badges: false\n",
    "- categories: [portfolio]"
   ]
  },
  {
   "cell_type": "markdown",
   "metadata": {},
   "source": [
    "# 3.1 and 3.2"
   ]
  },
  {
   "cell_type": "markdown",
   "metadata": {},
   "source": [
    "## Variables, Assignments, and Data Abstraction:\n",
    "- Tip: using meaningful variable names helps with readability and understanding of what values are represented by the variables\n",
    "- keep it nice and simple\n",
    "- easier to understand what value means later on\n",
    "- no spaces between characters\n",
    "### Variables\n",
    "- A list of data can also be stored in variables\n",
    "    - printing and retrieving specific value in the list without creating a lot of variables\n",
    "    - easily removing, adding, or changing items into the list\n",
    "### Types of Data\n",
    "- integer: A number\n",
    "- Text/string: A word\n",
    "- Boolean: Data that determines if something is true or false\n",
    "    - List of data can even be stored as a single variable\n",
    "    - makes it more organized"
   ]
  },
  {
   "cell_type": "code",
   "execution_count": 2,
   "metadata": {},
   "outputs": [
    {
     "name": "stdout",
     "output_type": "stream",
     "text": [
      "table1 <class 'str'>\n",
      "4 <class 'int'>\n",
      "False <class 'bool'>\n"
     ]
    }
   ],
   "source": [
    "name = \"table1\" #string\n",
    "print(name, type(name))\n",
    "\n",
    "number = 4 #integer\n",
    "print(number, type(number))\n",
    "\n",
    "isAbsent = False\n",
    "print(isAbsent, type(isAbsent))"
   ]
  },
  {
   "cell_type": "markdown",
   "metadata": {},
   "source": [
    "## Assignments\n",
    "- The assignment operator allows a program to change the value represented by a variable\n",
    "- Used to assigning values to variables\n",
    "- The \"=\" operator assigns equated values on either side\n",
    "- The \"+=\" operator adds the right side to the left, then assigns it all to the left operand\n",
    "    - x += y\n",
    "        - Result: x+y\n",
    "- The \"-=\" operator subtracts the right side from the left, and assigns it all to the left operand\n",
    "    - x -= y\n",
    "    - x-y\n",
    "- Similarily, the */ and /= multiply and divide the right and left side, respectively"
   ]
  },
  {
   "cell_type": "code",
   "execution_count": 3,
   "metadata": {},
   "outputs": [
    {
     "name": "stdout",
     "output_type": "stream",
     "text": [
      "2\n"
     ]
    }
   ],
   "source": [
    "a = 1\n",
    "b = 2\n",
    "a = b\n",
    "print(a)"
   ]
  },
  {
   "cell_type": "markdown",
   "metadata": {},
   "source": [
    "Notice here how the value stored in a variable will be the most recent value assigned"
   ]
  },
  {
   "cell_type": "code",
   "execution_count": 4,
   "metadata": {},
   "outputs": [
    {
     "name": "stdout",
     "output_type": "stream",
     "text": [
      "1\n"
     ]
    }
   ],
   "source": [
    "a = 1\n",
    "b = a\n",
    "a = 2\n",
    "print(b)"
   ]
  },
  {
   "cell_type": "markdown",
   "metadata": {},
   "source": [
    "### Changing Values"
   ]
  },
  {
   "cell_type": "code",
   "execution_count": 5,
   "metadata": {},
   "outputs": [
    {
     "name": "stdout",
     "output_type": "stream",
     "text": [
      "10\n"
     ]
    }
   ],
   "source": [
    "currentScore = 10\n",
    "highScore = currentScore\n",
    "currentScore = 7\n",
    "print(highScore)"
   ]
  },
  {
   "cell_type": "markdown",
   "metadata": {},
   "source": [
    "Notice how it prints 10 rather than 7, because currentScore was initially defined before highScore was. "
   ]
  },
  {
   "cell_type": "markdown",
   "metadata": {},
   "source": [
    "### Data Abstraction\n",
    "- method used in coding to represent data in a useful form, by taking away aspects of data that aren't being used in the situation\n",
    "- Variables and lists are primary tools in data abstraction\n",
    "- provides a separation between the abstract properties of a data type and the concrete details of its representation\n",
    "- helps manage complexity in programs by giving a collection of data a name without referencing the specific details of the representation\n",
    "\n",
    "### List & Strings\n",
    "- List = ordered sequence of elements\n",
    "- Element = individual value in a list that is assigned to a unique index\n",
    "- Index = a way to reference the elements in a list or string using natural numbers\n",
    "- String = ordered sequences of characters"
   ]
  },
  {
   "cell_type": "markdown",
   "metadata": {},
   "source": [
    "### Managing Lists\n",
    "- There are 3 different types of list operations\n",
    "    - one is to assign values to a list at certain indices\n",
    "    - another is to create an empty list an dassign it to a variable\n",
    "    - the third is assigning a copy of one list to another list\n",
    "### Managing Complexity/Readability:\n",
    "- Helps improve the fluidity and readability\n",
    "- reduces the need for new variables since more and more data is being collected (don't overcomplicate)\n",
    "- Update data with ease!"
   ]
  },
  {
   "cell_type": "code",
   "execution_count": 1,
   "metadata": {},
   "outputs": [
    {
     "name": "stdout",
     "output_type": "stream",
     "text": [
      "green\n",
      "red\n",
      "pink\n",
      "purple\n",
      "blue\n",
      "brown\n"
     ]
    }
   ],
   "source": [
    "colorList = [\"green\", \"red\", \"pink\", \"purple\", \"blue\", \"brown\"]\n",
    "for i in colorList:\n",
    "    print (i)"
   ]
  },
  {
   "cell_type": "markdown",
   "metadata": {},
   "source": [
    "## Homework!\n",
    "\n",
    "You will turn in a program that utilizes lists and variables as it's primary function, options could be a quiz, a sorter, database, or wherever your imagination brings you. You will be graded on how well you understood the concepts and if you used anything other than just the simplest parts."
   ]
  },
  {
   "cell_type": "code",
   "execution_count": 9,
   "metadata": {},
   "outputs": [
    {
     "name": "stdout",
     "output_type": "stream",
     "text": [
      "For each question below, please use proper capitalization and provide non-numerical answers\n",
      "1) Who won the 2014 FIFA World Cup?\n",
      "Nice job! You correctly answered Germany\n",
      "2) What country has won the most FIFA World Cups?\n",
      "Nice job! You correctly answered Brazil\n",
      "3) Who has the most WC assists of all time (last name only)?\n",
      "Nice job! You correctly answered Maradona\n",
      "4) What is the name of the German striker who leads all time WC Goals?\n",
      "Nice job! You correctly answered Miroslav Klose\n",
      "5) Where is the current World Cup being held? \n",
      "Nice job! You correctly answered Qatar\n",
      "6) Where is the  World Cup being held in 2026? \n",
      "Nice job! You correctly answered USA\n",
      "7) The FIFA World Cup occurs once every _ years? \n",
      "Nice job! You correctly answered Four\n",
      "8) Where was the FIFA World Cup held in 2014? \n",
      "Yikes! You incorrectly answered South Africa\n",
      "9) Where was the FIFA World Cup held in 2010? \n",
      "Nice job! You correctly answered South Africa\n",
      "10) Who won the FIFA World Cup in 2010? \n",
      "Nice job! You correctly answered Spain\n",
      "Congratulations (Or Not)! Your score is 9 out of 10\n"
     ]
    }
   ],
   "source": [
    "print(\"For each question below, please use proper capitalization and provide non-numerical answers\")\n",
    "\n",
    "WCQuiz = {\n",
    "    \"1) Who won the 2014 FIFA World Cup?\": \"Germany\", \n",
    "    \"2) What country has won the most FIFA World Cups?\": \"Brazil\", \n",
    "    \"3) Who has the most WC assists of all time (last name only)?\": \"Maradona\", \n",
    "    \"4) What is the name of the German striker who leads all time WC Goals?\": \"Miroslav Klose\", \n",
    "    \"5) Where is the current World Cup being held? \": \"Qatar\", \n",
    "    \"6) Where is the  World Cup being held in 2026? \": \"USA\",\n",
    "    \"7) The FIFA World Cup occurs once every _ years? \": \"Four\",\n",
    "    \"8) Where was the FIFA World Cup held in 2014? \": \"Brazil\",\n",
    "    \"9) Where was the FIFA World Cup held in 2010? \": \"South Africa\",\n",
    "    \"10) Who won the FIFA World Cup in 2010? \": \"Spain\",\n",
    "}\n",
    "\n",
    "# the code below aims to first project the question to the user, and then return the same exact value that was inputted in order to check correctness\n",
    "def interface(question):\n",
    "    print(question)\n",
    "    user = input()\n",
    "    return user\n",
    "\n",
    "score = 0 #this sets the user's initial score to 0, since they have not answered any questions correctly just yet\n",
    "\n",
    "for key in WCQuiz:\n",
    "    usr = interface(key)\n",
    "    if usr == WCQuiz[key]:\n",
    "        print(f\"Nice job! You correctly answered {usr}\") # usage of an f-string provides us a way to embed an expression inside a string; the little f before the \"\n",
    "        score += 1\n",
    "    else:\n",
    "        print(f\"Yikes! You incorrectly answered {usr}\") # usage of an f-string provides us a way to embed an expression inside a string; the little f before the \"\n",
    "\n",
    "print(\"Congratulations (Or Not)! Your score is \" + str(score) + \" out of 10\")\n"
   ]
  }
 ],
 "metadata": {
  "kernelspec": {
   "display_name": "Python 3.9.12",
   "language": "python",
   "name": "python3"
  },
  "language_info": {
   "codemirror_mode": {
    "name": "ipython",
    "version": 3
   },
   "file_extension": ".py",
   "mimetype": "text/x-python",
   "name": "python",
   "nbconvert_exporter": "python",
   "pygments_lexer": "ipython3",
   "version": "3.9.12"
  },
  "orig_nbformat": 4,
  "vscode": {
   "interpreter": {
    "hash": "40d3a090f54c6569ab1632332b64b2c03c39dcf918b08424e98f38b5ae0af88f"
   }
  }
 },
 "nbformat": 4,
 "nbformat_minor": 2
}
