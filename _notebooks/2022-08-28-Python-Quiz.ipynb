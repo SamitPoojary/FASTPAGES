{
 "cells": [
  {
   "cell_type": "markdown",
   "metadata": {},
   "source": [
    "# Python Quiz - Basic Concepts!\n",
    "> Put your understanding of basic python concepts to the test!\n",
    "\n",
    "- toc: false \n",
    "- badges: true\n",
    "- comments: true\n",
    "- categories: [jupyter, python]\n"
   ]
  },
  {
   "cell_type": "markdown",
   "metadata": {},
   "source": [
    "Hello! Thank you for visiting this page. Here, you will be quizzed on four of the most basic concepts Python has to offered, all of which we reviewed throughout the first 2 weeks of this class. Good luck, and enjoy!"
   ]
  },
  {
   "cell_type": "code",
   "execution_count": 4,
   "metadata": {},
   "outputs": [
    {
     "name": "stdout",
     "output_type": "stream",
     "text": [
      "Question: What function would you use to take input from the user?\n",
      "Nice! input is correct!\n",
      "Question: What function outputs, or displays text?\n",
      "Nice! print is correct!\n",
      "Question: What function checks whether a statement, or condition is true/false?\n",
      "Nice! if is correct!\n",
      "Question: What is the keyword called when defining a function?\n",
      "Nice! def is correct!\n",
      "You got 100%! Keep working hard!\n"
     ]
    }
   ],
   "source": [
    "correct = 0 #this represents the total number of questions answered correctly by the test taker\n",
    "def question(prompt, answer): #this function receives the answer typed in by the user, then whether or not that input was correct\n",
    "    print (\"Question: \" + prompt) #Displays the question\n",
    "    msg = input()\n",
    "    if (msg).lower() == answer:\n",
    "        #prints if the message is correct\n",
    "        print(\"Nice! \" + msg + \" is correct!\")\n",
    "        #changes the correct variable\n",
    "        global correct\n",
    "        correct += 1\n",
    "    #checks to see if its false\n",
    "    else:\n",
    "        #prints out that the answer is false\n",
    "        print(\"Sorry, but \" + msg + \" is incorrect!\")\n",
    "#Below are the 4 different questions that this quiz will be issuing. \n",
    "question(\"What function would you use to take input from the user?\", \"input\")\n",
    "question(\"What function outputs, or displays text?\", \"print\")\n",
    "question(\"What function checks whether a statement, or condition is true/false?\", \"if\")\n",
    "question(\"What is the keyword called when defining a function?\", \"def\")\n",
    "Percentage = correct/4\n",
    "print(\"You got \" +str(int(Percentage*100))+\"%! Keep working hard!\")"
   ]
  }
 ],
 "metadata": {
  "kernelspec": {
   "display_name": "Python 3.10.6 64-bit",
   "language": "python",
   "name": "python3"
  },
  "language_info": {
   "codemirror_mode": {
    "name": "ipython",
    "version": 3
   },
   "file_extension": ".py",
   "mimetype": "text/x-python",
   "name": "python",
   "nbconvert_exporter": "python",
   "pygments_lexer": "ipython3",
   "version": "3.10.9"
  },
  "orig_nbformat": 4,
  "vscode": {
   "interpreter": {
    "hash": "b0fa6594d8f4cbf19f97940f81e996739fb7646882a419484c72d19e05852a7e"
   }
  }
 },
 "nbformat": 4,
 "nbformat_minor": 2
}
