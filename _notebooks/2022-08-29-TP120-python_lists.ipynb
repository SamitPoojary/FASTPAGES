{
 "cells": [
  {
   "cell_type": "markdown",
   "metadata": {},
   "source": [
    "# Lists, Dictionaries, Iteration\n",
    "> An introduction to Data Abstraction using Python Lists [] and Python Dictionaries {}.\n",
    "\n",
    "- title: Lists, Dictionaries, Iteration\n",
    "- toc: true\n",
    "- badges: true\n",
    "- categories: [python, jupyter, notes]"
   ]
  },
  {
   "cell_type": "markdown",
   "metadata": {},
   "source": [
    "### Lists and Dictionaries\n",
    "As a quick review we used variables in the introduction last week.  <mark>Variables all have a type</mark>: String, Integer, Float, List and Dictionary are some key types.  In Python, variables are given a type at assignment,  Types are important to understand and will impact operations, as we saw when we were required to user str() function in concatenation.  \n",
    "\n",
    "1. Developers often think of variables as primitives or collections.  Look at this example and see if you can see hypothesize the difference between a primitive and a collection.  \n",
    "2. Take a minute and see if you can reference other elements in the list or other keys in the dictionary. Show output."
   ]
  },
  {
   "cell_type": "code",
   "execution_count": 12,
   "metadata": {},
   "outputs": [
    {
     "name": "stdout",
     "output_type": "stream",
     "text": [
      "name John Doe <class 'str'>\n",
      "age 18 <class 'int'>\n",
      "score 90.0 <class 'float'>\n",
      "\n",
      "langs ['Python', 'JavaScript', 'Java', 'Bash'] <class 'list'>\n",
      "- langs[3] Bash <class 'str'>\n",
      "\n",
      "person {'name': 'John Doe', 'age': 18, 'score': 90.0, 'langs': ['Python', 'JavaScript', 'Java', 'Bash']} <class 'dict'>\n",
      "- person[\"name\"] John Doe <class 'str'>\n"
     ]
    }
   ],
   "source": [
    "# Sample of Python Variables\n",
    "\n",
    "# variable of type string\n",
    "name = \"John Doe\"\n",
    "print(\"name\", name, type(name))\n",
    "\n",
    "# variable of type integer\n",
    "age = 18\n",
    "print(\"age\", age, type(age))\n",
    "\n",
    "# variable of type float\n",
    "score = 90.0\n",
    "print(\"score\", score, type(score))\n",
    "\n",
    "print()\n",
    "\n",
    "# variable of type list (many values in one variable)\n",
    "langs = [\"Python\", \"JavaScript\", \"Java\", \"Bash\" ]\n",
    "print(\"langs\", langs, type(langs))\n",
    "print(\"- langs[3]\", langs[3], type(langs[3]))\n",
    "\n",
    "print()\n",
    "\n",
    "# variable of type dictionary (a group of keys and values)\n",
    "person = {\n",
    "    \"name\": name,\n",
    "    \"age\": age,\n",
    "    \"score\": score,\n",
    "    \"langs\": langs\n",
    "}\n",
    "print(\"person\", person, type(person))\n",
    "print('- person[\"name\"]', person[\"name\"], type(person[\"name\"]))\n"
   ]
  },
  {
   "cell_type": "markdown",
   "metadata": {},
   "source": [
    "### List and Dictionary purpose\n",
    "Our society is being build on information.  <mark>List and Dictionaries are used to collect information</mark>.  Mostly, when information is collected it is formed into patterns.  As that pattern is established you will collect many instances of that pattern.\n",
    "- List is used to collect many\n",
    "- Dictionary is used to define data patterns.\n",
    "- Iteration is often used to process through lists.\n",
    "\n",
    "To start exploring more deeply into List, Dictionary and Iteration we will explore constructing a List of people and cars.\n",
    "- As we learned above, List is a data type: class 'list'\n",
    "- A <mark>'list' data type has the method '.append(expression)'</mark> that allows you to add to the list\n",
    "- In the example below,  the expression appended to the 'list' is the data type: class 'dict'\n",
    "- At the end, you see a fairly complicated data structure.  This is a <mark>list of dictionaries</mark>.  The output looks similar to JSON and we will see this often, you will be required to understand this data structure and understand the parts.  Easy peasy ;)."
   ]
  },
  {
   "cell_type": "code",
   "execution_count": 5,
   "metadata": {},
   "outputs": [
    {
     "name": "stdout",
     "output_type": "stream",
     "text": [
      "[{'FirstName': 'John', 'LastName': 'Mortensen', 'DOB': 'October 21', 'Residence': 'San Diego', 'Email': 'jmortensen@powayusd.com', 'Owns_Cars': ['2015-Fusion', '2011-Ranger', '2003-Excursion', '1997-F350', '1969-Cadillac']}, {'FirstName': 'Sunny', 'LastName': 'Naidu', 'DOB': 'August 2', 'Residence': 'Temecula', 'Email': 'snaidu@powayusd.com', 'Owns_Cars': ['4Runner']}, {'FirstName': 'Samit', 'LastName': 'Poojary', 'DOB': 'February 24', 'Residence': 'San Diego', 'Email': 'samitpoojary@gmail.com', 'Owns_Cars': ['Pagani Zonda HP Barchetta']}, {'FirstName': 'Harish', 'LastName': 'Poojary', 'DOB': 'December 4', 'Residence': 'San Diego', 'Email': 'hpoojary@gmail.com', 'Owns_Cars': ['Porsche Cayenne GTS Turbo']}]\n"
     ]
    }
   ],
   "source": [
    "# Define an empty List called InfoDb\n",
    "InfoDb1 = []\n",
    "\n",
    "# Append to List a Dictionary of key/values related to a person and cars\n",
    "InfoDb1.append({\n",
    "    \"FirstName\": \"John\",\n",
    "    \"LastName\": \"Mortensen\",\n",
    "    \"DOB\": \"October 21\",\n",
    "    \"Residence\": \"San Diego\",\n",
    "    \"Email\": \"jmortensen@powayusd.com\",\n",
    "    \"Owns_Cars\": [\"2015-Fusion\", \"2011-Ranger\", \"2003-Excursion\", \"1997-F350\", \"1969-Cadillac\"]\n",
    "})\n",
    "\n",
    "# Append to List a 2nd Dictionary of key/values\n",
    "InfoDb1.append({\n",
    "    \"FirstName\": \"Sunny\",\n",
    "    \"LastName\": \"Naidu\",\n",
    "    \"DOB\": \"August 2\",\n",
    "    \"Residence\": \"Temecula\",\n",
    "    \"Email\": \"snaidu@powayusd.com\",\n",
    "    \"Owns_Cars\": [\"4Runner\"]\n",
    "})\n",
    "\n",
    "# Append to List a 3rd Dictionary of key/values\n",
    "InfoDb1.append({\n",
    "    \"FirstName\": \"Samit\",\n",
    "    \"LastName\": \"Poojary\",\n",
    "    \"DOB\": \"February 24\",\n",
    "    \"Residence\": \"San Diego\",\n",
    "    \"Email\": \"samitpoojary@gmail.com\",\n",
    "    \"Owns_Cars\": [\"Pagani Zonda HP Barchetta\"]\n",
    "\n",
    "})\n",
    "\n",
    "# Append to List a 4th Dictionary of key/values\n",
    "InfoDb1.append({\n",
    "    \"FirstName\": \"Harish\",\n",
    "    \"LastName\": \"Poojary\",\n",
    "    \"DOB\": \"December 4\",\n",
    "    \"Residence\": \"San Diego\",\n",
    "    \"Email\": \"hpoojary@gmail.com\",\n",
    "    \"Owns_Cars\": [\"Porsche Cayenne GTS Turbo\"]\n",
    "\n",
    "})\n",
    "\n",
    "# Print the data structure\n",
    "print(InfoDb1)"
   ]
  },
  {
   "cell_type": "markdown",
   "metadata": {},
   "source": [
    "### Formatted output of List/Dictionary - for loop\n",
    "Managing data in Lists and Dictionaries is for the convenience of passing the data across the internet or preparing it to be stored into a database.  Also, it is a great way to exchange data inside of our own programs.\n",
    "\n",
    "Next, we will take the stored data and output it within our notebook.  There are multiple steps to this process...\n",
    "- <mark>Preparing a function to format the data</mark>, the print_data() function receives a parameter called \"d_rec\" short for dictionary record.  It then references different keys within [] square brackets.   \n",
    "- <mark>Preparing a function to iterate through the list</mark>, the for_loop() function uses an enhanced for loop that pull record by record out of InfoDb until the list is empty.  Each time through the loop it call print_data(record), which passes the dictionary record to that function.\n",
    "- Finally, you need to <mark>activate your function</mark> with the call to the defined function for_loop().  Functions are defined, not activated until they are called.  By placing for_loop() at the left margin the function is activated."
   ]
  },
  {
   "cell_type": "code",
   "execution_count": 6,
   "metadata": {},
   "outputs": [
    {
     "name": "stdout",
     "output_type": "stream",
     "text": [
      "For loop output\n",
      "\n",
      "John Mortensen\n",
      "\t Residence: San Diego\n",
      "\t Birth Day: October 21\n",
      "\t Cars: 2015-Fusion, 2011-Ranger, 2003-Excursion, 1997-F350, 1969-Cadillac\n",
      "\n",
      "Sunny Naidu\n",
      "\t Residence: Temecula\n",
      "\t Birth Day: August 2\n",
      "\t Cars: 4Runner\n",
      "\n",
      "Samit Poojary\n",
      "\t Residence: San Diego\n",
      "\t Birth Day: February 24\n",
      "\t Cars: Pagani Zonda HP Barchetta\n",
      "\n",
      "Harish Poojary\n",
      "\t Residence: San Diego\n",
      "\t Birth Day: December 4\n",
      "\t Cars: Porsche Cayenne GTS Turbo\n",
      "\n"
     ]
    }
   ],
   "source": [
    "# given and index this will print InfoDb content\n",
    "def print_data(d_rec):\n",
    "    print(d_rec[\"FirstName\"], d_rec[\"LastName\"])  # using comma puts space between values\n",
    "    print(\"\\t\", \"Residence:\", d_rec[\"Residence\"]) # \\t is a tab indent\n",
    "    print(\"\\t\", \"Birth Day:\", d_rec[\"DOB\"])\n",
    "    print(\"\\t\", \"Cars: \", end=\"\")  # end=\"\" make sure no return occurs\n",
    "    print(\", \".join(d_rec[\"Owns_Cars\"]))  # join allows printing a string list with separator\n",
    "    print()\n",
    "\n",
    "\n",
    "# for loop iterates on length of InfoDb\n",
    "def for_loop():\n",
    "    print(\"For loop output\\n\")\n",
    "    for record in InfoDb1:\n",
    "        print_data(record)\n",
    "\n",
    "for_loop()"
   ]
  },
  {
   "cell_type": "markdown",
   "metadata": {},
   "source": [
    "### Alternate methods for iteration - while loop\n",
    "In coding, there are usually many ways to achieve the same result.  Defined are functions illustrating using index to reference records in a list, these methods are called a \"while\" loop and \"recursion\".\n",
    "- The while_loop() function contains a while loop, \"while i < len(InfoDb):\".  This counts through the elements in the list start at zero, and passes the record to print_data()"
   ]
  },
  {
   "cell_type": "code",
   "execution_count": 7,
   "metadata": {},
   "outputs": [
    {
     "name": "stdout",
     "output_type": "stream",
     "text": [
      "While loop output\n",
      "\n",
      "John Mortensen\n",
      "\t Residence: San Diego\n",
      "\t Birth Day: October 21\n",
      "\t Cars: 2015-Fusion, 2011-Ranger, 2003-Excursion, 1997-F350, 1969-Cadillac\n",
      "\n",
      "Sunny Naidu\n",
      "\t Residence: Temecula\n",
      "\t Birth Day: August 2\n",
      "\t Cars: 4Runner\n",
      "\n",
      "Samit Poojary\n",
      "\t Residence: San Diego\n",
      "\t Birth Day: February 24\n",
      "\t Cars: Pagani Zonda HP Barchetta\n",
      "\n",
      "Harish Poojary\n",
      "\t Residence: San Diego\n",
      "\t Birth Day: December 4\n",
      "\t Cars: Porsche Cayenne GTS Turbo\n",
      "\n"
     ]
    }
   ],
   "source": [
    "# while loop contains an initial n and an index incrementing statement (n += 1)\n",
    "def while_loop():\n",
    "    print(\"While loop output\\n\")\n",
    "    i = 0\n",
    "    while i < len(InfoDb1):\n",
    "        record = InfoDb1[i]\n",
    "        print_data(record)\n",
    "        i += 1\n",
    "    return\n",
    "\n",
    "while_loop()"
   ]
  },
  {
   "cell_type": "markdown",
   "metadata": {},
   "source": [
    "### Calling a function repeatedly - recursion\n",
    "This final technique achieves looping by calling itself repeatedly.\n",
    "- recursive_loop(i) function is primed with the value 0 on its activation with \"recursive_loop(0)\"\n",
    "- the last statement indented inside the if statement \"recursive_loop(i + 1)\" activates another call to the recursive_loop(i) function, each time i is increasing\n",
    "- ultimately the \"if i < len(InfoDb):\" will evaluate to false and the program ends"
   ]
  },
  {
   "cell_type": "code",
   "execution_count": 9,
   "metadata": {},
   "outputs": [
    {
     "name": "stdout",
     "output_type": "stream",
     "text": [
      "Recursive loop output\n",
      "\n",
      "John Mortensen\n",
      "\t Residence: San Diego\n",
      "\t Birth Day: October 21\n",
      "\t Cars: 2015-Fusion, 2011-Ranger, 2003-Excursion, 1997-F350, 1969-Cadillac\n",
      "\n",
      "Sunny Naidu\n",
      "\t Residence: Temecula\n",
      "\t Birth Day: August 2\n",
      "\t Cars: 4Runner\n",
      "\n",
      "Samit Poojary\n",
      "\t Residence: San Diego\n",
      "\t Birth Day: February 24\n",
      "\t Cars: Pagani Zonda HP Barchetta\n",
      "\n",
      "Harish Poojary\n",
      "\t Residence: San Diego\n",
      "\t Birth Day: December 4\n",
      "\t Cars: Porsche Cayenne GTS Turbo\n",
      "\n"
     ]
    }
   ],
   "source": [
    "# recursion simulates loop incrementing on each call (n + 1) until exit condition is met\n",
    "def recursive_loop(i):\n",
    "    if i < len(InfoDb1):\n",
    "        record = InfoDb1[i]\n",
    "        print_data(record)\n",
    "        recursive_loop(i + 1)\n",
    "    return\n",
    "    \n",
    "print(\"Recursive loop output\\n\")\n",
    "recursive_loop(0)"
   ]
  },
  {
   "cell_type": "markdown",
   "metadata": {},
   "source": [
    "## Hacks\n",
    "- Add a couple of records to the InfoDb\n",
    "- Try to do a for loop with an index\n",
    "- Pair Share code somethings creative or unique, with loops and data. Hints...\n",
    "    - Would it be possible to output data in a reverse order?\n",
    "    - Are there other methods that can be performed on lists?\n",
    "    - Could you create new or add to dictionary data set?  Could you do it with input?\n",
    "    - Make a quiz that stores in a List of Dictionaries."
   ]
  },
  {
   "cell_type": "markdown",
   "metadata": {},
   "source": [
    "### Adding Extra Records / Entries to a new InfoDb\n",
    "- This cell not only defines InfoDb, but also adds extra entries about people and their characteristics"
   ]
  },
  {
   "cell_type": "code",
   "execution_count": 11,
   "metadata": {},
   "outputs": [],
   "source": [
    "InfoDb2 = []\n",
    "\n",
    "# InfoDB is a data structure with expected Keys and Values\n",
    "\n",
    "# Append to List a Dictionary of key/values related to a person and their height\n",
    "InfoDb2.append({\n",
    "    \"FirstName\": \"Samit\",\n",
    "    \"LastName\": \"Poojary\",\n",
    "    \"DOB\": \"February 24\",\n",
    "    \"Residence\": \"San Diego\",\n",
    "    \"Email\": \"samit.poojary@gmail.com\",\n",
    "    \"Height\": \"5'8\"\n",
    "})\n",
    "\n",
    "#adding extra records to InfoDb\n",
    "\n",
    "InfoDb2.append({\n",
    "    \"FirstName\": \"Vardaan\",\n",
    "    \"LastName\": \"Sinha\",\n",
    "    \"DOB\": \"September 28\",\n",
    "    \"Residence\": \"San Diego\",\n",
    "    \"Email\": \"vardsin28@gmail.com\",\n",
    "    \"Height\": \"5'6\"\n",
    "})\n",
    "# adding extra records\n",
    "InfoDb2.append({\n",
    "    \"FirstName\": \"Alex\",\n",
    "    \"LastName\": \"Kumar\",\n",
    "    \"DOB\": \"May 9\",\n",
    "    \"Residence\": \"San Diego\",\n",
    "    \"Email\": \"alex.k.kumar@gmail.com\",\n",
    "    \"Height\": \"6'4\"\n",
    "})\n",
    "# Adding one extra item to InfoDb\n",
    "InfoDb2.append({\n",
    "    \"FirstName\": \"Harish\",\n",
    "    \"LastName\": \"Poojary\",\n",
    "    \"DOB\": \"December 4\",\n",
    "    \"Residence\": \"San Diego\",\n",
    "    \"Email\": \"hpoojary@gmail.com\",\n",
    "    \"Height\": \"5'9\"\n",
    "})"
   ]
  },
  {
   "cell_type": "markdown",
   "metadata": {},
   "source": [
    "### Utilizing a For Loop to print out InfoDb\n",
    "- Within this next cell below, we wil witness the efficiency behind the utilization of a for loop, which allows us to print the data of the InfoDb without going through the annoying task of manual input. "
   ]
  },
  {
   "cell_type": "code",
   "execution_count": 13,
   "metadata": {},
   "outputs": [
    {
     "name": "stdout",
     "output_type": "stream",
     "text": [
      "Samit Poojary \n",
      " \t DOB: February 24 \n",
      " \t Residence: San Diego \n",
      " \t Email:  samit.poojary@gmail.com \n",
      " \t Height:  5'8\n",
      "Vardaan Sinha \n",
      " \t DOB: September 28 \n",
      " \t Residence: San Diego \n",
      " \t Email:  vardsin28@gmail.com \n",
      " \t Height:  5'6\n",
      "Alex Kumar \n",
      " \t DOB: May 9 \n",
      " \t Residence: San Diego \n",
      " \t Email:  alex.k.kumar@gmail.com \n",
      " \t Height:  6'4\n",
      "Harish Poojary \n",
      " \t DOB: December 4 \n",
      " \t Residence: San Diego \n",
      " \t Email:  hpoojary@gmail.com \n",
      " \t Height:  5'9\n"
     ]
    }
   ],
   "source": [
    "for item in InfoDb2:\n",
    "    #the print function goes through each item and formats it appropriately\n",
    "    print(item[\"FirstName\"], item[\"LastName\"], \"\\n\", \"\\t\", \"DOB:\", item[\"DOB\"], \"\\n\", \"\\t\", \"Residence:\", item[\"Residence\"], \"\\n\", \"\\t\", \"Email: \", item[\"Email\"], \"\\n\", \"\\t\", \"Height: \" ,item[\"Height\"])"
   ]
  },
  {
   "cell_type": "markdown",
   "metadata": {},
   "source": [
    "Here is another way to run a for loop, but with a slightly different syntax:"
   ]
  },
  {
   "cell_type": "code",
   "execution_count": 14,
   "metadata": {},
   "outputs": [
    {
     "name": "stdout",
     "output_type": "stream",
     "text": [
      "Samit Poojary \n",
      " \t DOB: February 24 \n",
      " \t Residence: San Diego \n",
      " \t Email:  samit.poojary@gmail.com \n",
      " \t Height:  5'8\n",
      "Vardaan Sinha \n",
      " \t DOB: September 28 \n",
      " \t Residence: San Diego \n",
      " \t Email:  vardsin28@gmail.com \n",
      " \t Height:  5'6\n",
      "Alex Kumar \n",
      " \t DOB: May 9 \n",
      " \t Residence: San Diego \n",
      " \t Email:  alex.k.kumar@gmail.com \n",
      " \t Height:  6'4\n",
      "Harish Poojary \n",
      " \t DOB: December 4 \n",
      " \t Residence: San Diego \n",
      " \t Email:  hpoojary@gmail.com \n",
      " \t Height:  5'9\n"
     ]
    }
   ],
   "source": [
    "for i in range(len(InfoDb2)):\n",
    "    print(InfoDb2[i][\"FirstName\"], InfoDb2[i][\"LastName\"], \"\\n\", \"\\t\", \"DOB:\", InfoDb2[i][\"DOB\"], \"\\n\", \"\\t\", \"Residence:\", InfoDb2[i][\"Residence\"], \"\\n\", \"\\t\", \"Email: \", InfoDb2[i][\"Email\"], \"\\n\", \"\\t\", \"Height: \" ,InfoDb2[i][\"Height\"])"
   ]
  },
  {
   "cell_type": "markdown",
   "metadata": {},
   "source": [
    "### Recursion Statement to Print out InfoDb\n",
    "- This function, known as recursion, utilizes a function that also saves us time by automating the printing procedure. It does so by incorporating multiple \"if\" statements."
   ]
  },
  {
   "cell_type": "code",
   "execution_count": 16,
   "metadata": {},
   "outputs": [
    {
     "name": "stdout",
     "output_type": "stream",
     "text": [
      "Samit Poojary\n",
      "     DOB: February 24\n",
      "     Residence: San Diego\n",
      "     Email: samit.poojary@gmail.com\n",
      "     Height: 5'8\n",
      "    \n",
      "Vardaan Sinha\n",
      "     DOB: September 28\n",
      "     Residence: San Diego\n",
      "     Email: vardsin28@gmail.com\n",
      "     Height: 5'6\n",
      "    \n",
      "Alex Kumar\n",
      "     DOB: May 9\n",
      "     Residence: San Diego\n",
      "     Email: alex.k.kumar@gmail.com\n",
      "     Height: 6'4\n",
      "    \n",
      "Harish Poojary\n",
      "     DOB: December 4\n",
      "     Residence: San Diego\n",
      "     Email: hpoojary@gmail.com\n",
      "     Height: 5'9\n",
      "    \n"
     ]
    }
   ],
   "source": [
    "#sets variable n equal to the length of Info Db\n",
    "n = len(InfoDb2)\n",
    "#function that checks to see if i is n, and if it is non, it will parse through InfoDb and print it out\n",
    "def output(i):\n",
    "    if i == n: return\n",
    "    #format string to output InfoDb in an organized foramt\n",
    "    print(\"\"\"{} {}\n",
    "     DOB: {}\n",
    "     Residence: {}\n",
    "     Email: {}\n",
    "     Height: {}\n",
    "    \"\"\".format(InfoDb2[i][\"FirstName\"], InfoDb2[i][\"LastName\"], InfoDb2[i][\"DOB\"], InfoDb2[i][\"Residence\"], InfoDb2[i][\"Email\"], InfoDb2[i][\"Height\"]))\n",
    "    #recalls the function output to go over every single person in InfoDb\n",
    "    output(1+i)\n",
    "output(0)"
   ]
  },
  {
   "cell_type": "markdown",
   "metadata": {},
   "source": [
    "### Utilizing a While Loop to print out InfoDb\n",
    "- The cell below uses a while loop to print the InfoDb"
   ]
  },
  {
   "cell_type": "code",
   "execution_count": 18,
   "metadata": {},
   "outputs": [
    {
     "name": "stdout",
     "output_type": "stream",
     "text": [
      "Samit Poojary \n",
      " \t DOB: February 24 \n",
      " \t Residence: San Diego \n",
      " \t Email:  samit.poojary@gmail.com \n",
      " \t Phone:  5'8\n",
      "Vardaan Sinha \n",
      " \t DOB: September 28 \n",
      " \t Residence: San Diego \n",
      " \t Email:  vardsin28@gmail.com \n",
      " \t Phone:  5'6\n",
      "Alex Kumar \n",
      " \t DOB: May 9 \n",
      " \t Residence: San Diego \n",
      " \t Email:  alex.k.kumar@gmail.com \n",
      " \t Phone:  6'4\n",
      "Harish Poojary \n",
      " \t DOB: December 4 \n",
      " \t Residence: San Diego \n",
      " \t Email:  hpoojary@gmail.com \n",
      " \t Phone:  5'9\n"
     ]
    }
   ],
   "source": [
    "#Sets number to the length of InfoDb\n",
    "number = len(InfoDb2)\n",
    "#temporary variable i set to 0\n",
    "i = 0\n",
    "while i < number:\n",
    "    #while i is less than the number or the length of InfoDb, it prints out the data in InfoDb\n",
    "    print(InfoDb2[i][\"FirstName\"], InfoDb2[i][\"LastName\"], \"\\n\", \"\\t\", \"DOB:\", InfoDb2[i][\"DOB\"], \"\\n\", \"\\t\", \"Residence:\", InfoDb2[i][\"Residence\"], \"\\n\", \"\\t\", \"Email: \", InfoDb2[i][\"Email\"], \"\\n\", \"\\t\", \"Phone: \" ,InfoDb2[i][\"Height\"])\n",
    "    i+=1"
   ]
  },
  {
   "cell_type": "markdown",
   "metadata": {},
   "source": [
    "### Reversing the Outputting Order\n",
    "- There could be times where we would like to reverse the printing order of our list, for whatever reason. "
   ]
  },
  {
   "cell_type": "code",
   "execution_count": 19,
   "metadata": {},
   "outputs": [
    {
     "name": "stdout",
     "output_type": "stream",
     "text": [
      "['Terry Sawchuk', 'Steve Yzerman', 'Jacques Plante', 'Alex Ovechkin', 'Mario Lemieux', 'Joe Thorton', 'Wayme Gretsky']\n"
     ]
    }
   ],
   "source": [
    "Hockey_Names = [\"Wayme Gretsky\", \"Joe Thorton\", \"Mario Lemieux\", \"Alex Ovechkin\", \"Jacques Plante\", \"Steve Yzerman\", \"Terry Sawchuk\"]\n",
    "#prints the list out in reverse order\n",
    "print(Hockey_Names[::-1])"
   ]
  },
  {
   "cell_type": "markdown",
   "metadata": {},
   "source": [
    "### Quiz That Stores in a List of Dictionaries"
   ]
  }
 ],
 "metadata": {
  "kernelspec": {
   "display_name": "Python 3.10.6 64-bit",
   "language": "python",
   "name": "python3"
  },
  "language_info": {
   "codemirror_mode": {
    "name": "ipython",
    "version": 3
   },
   "file_extension": ".py",
   "mimetype": "text/x-python",
   "name": "python",
   "nbconvert_exporter": "python",
   "pygments_lexer": "ipython3",
   "version": "3.10.6"
  },
  "orig_nbformat": 4,
  "vscode": {
   "interpreter": {
    "hash": "b0fa6594d8f4cbf19f97940f81e996739fb7646882a419484c72d19e05852a7e"
   }
  }
 },
 "nbformat": 4,
 "nbformat_minor": 2
}
