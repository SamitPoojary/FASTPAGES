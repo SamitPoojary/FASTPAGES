{
 "cells": [
  {
   "attachments": {},
   "cell_type": "markdown",
   "metadata": {},
   "source": [
    "# Data Related to User Guide\n",
    "> A guide to adding data related to user (Big Idea 2)\n",
    "  \n",
    "- title: Data Related to User Guide\n",
    "- author: Team SAME, Samit Poojary, Akshat Parikh, Martin Nguyen, Ederick Wong"
   ]
  },
  {
   "attachments": {},
   "cell_type": "markdown",
   "metadata": {},
   "source": [
    "- Estimated Duration: 30 - 35 minutes\n",
    "\n",
    "## Objectives:\n",
    "\n",
    "- Students will learn how to use a database to store and manage user data, including user profiles, messages, and user-generated content.\n",
    "- Students will understand the importance of security and privacy: Students should gain an understanding of the importance of implementing security measures to protect user data, including encryption, authentication, and access control.\n",
    "- Students will learn how to build a backend server to handle user authentication, data storage, and communication between the frontend and backend components of the application.\n",
    "\n",
    "## Introduction:\n",
    "\n",
    "- Provide a brief overview of the project topic, which will involve creating a system or guide for adding and managing user data.\n",
    "- Explain the project objectives and scope: Discuss the specific goals of the project, such as developing skills in frontend and backend web development, understanding the importance of user experience, and using a database to manage user data. \n",
    "- Show examples of importance and significance of data related to user in real-life scenarios, such as social media applications\n",
    "\n",
    "## Lesson 1: Introduction to Databases and User Data Management\n",
    "\n",
    "- Explain the concept of databases and how they are used to store and manage user data in web applications.\n",
    "- Demonstrate how to create and manage tables in a database using SQL queries, including creating tables for user profiles, messages, and user-generated content.\n",
    "- Introduce basic CRUD (Create, Read, Update, Delete) operations for managing user data in the database, including inserting new data, retrieving data, updating data, and deleting data.\n",
    "-  Use code examples and interactive activities to help students practice working with databases, such as creating a table for user profiles, inserting sample data, and retrieving data from the table.\n",
    "\n",
    "## Lesson 2: Collecting User Data\n",
    "- Explain the concept of user data and why it is important in web applications.\n",
    "- Demonstrate how to create HTML forms with various types of input fields, such as text, password, email, and file upload fields, and describe how to use JavaScript to validate and process user input before submitting it to a server.\n",
    "\n",
    "## Lesson 3: Processing User Data\n",
    "- Demonstrate how to perform a simple key exchange using JavaScript.\n",
    "- Show how to use a shared secret key to encrypt and decrypt messages.\n",
    "- Assign a practice activity where students will work in pairs to implement a simple key exchange protocol in a web application.\n",
    "\n",
    "## Conclusion:\n",
    "\n",
    "- Recap the main concepts and topics covered in the lesson.\n",
    "- Ask students to share their thoughts and any questions on the lesson.\n",
    "\n",
    "# Hacks (1 point total):\n",
    "\n",
    "- (0.2 points) Students will answer some conceptual questions to make sure they understand the content regarding data related to user\n",
    "- (0.3 points) Students will complete coding exercises to test their knowledge\n",
    "- (0.5 points) Students will build their own simulation or interaction pertaining to user-related-data, such as another messaging system or anything that exchanges information"
   ]
  }
 ],
 "metadata": {
  "kernelspec": {
   "display_name": "Python 3",
   "language": "python",
   "name": "python3"
  },
  "language_info": {
   "name": "python",
   "version": "3.10.6"
  },
  "orig_nbformat": 4
 },
 "nbformat": 4,
 "nbformat_minor": 2
}
